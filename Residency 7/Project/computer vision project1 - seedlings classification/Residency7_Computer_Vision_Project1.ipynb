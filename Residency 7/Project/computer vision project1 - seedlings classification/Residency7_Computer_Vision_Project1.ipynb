{
  "nbformat": 4,
  "nbformat_minor": 0,
  "metadata": {
    "colab": {
      "name": "Residency7_Computer_Vision_Project1.ipynb",
      "version": "0.3.2",
      "provenance": []
    },
    "kernelspec": {
      "name": "python3",
      "display_name": "Python 3"
    },
    "accelerator": "GPU"
  },
  "cells": [
    {
      "cell_type": "code",
      "metadata": {
        "id": "d4aHrEtC7yWC",
        "colab_type": "code",
        "outputId": "4f9c3e0b-db3e-4e2c-fcfb-d7f03d749f68",
        "colab": {
          "base_uri": "https://localhost:8080/",
          "height": 122
        }
      },
      "source": [
        "from google.colab import drive\n",
        "drive.mount('/content/drive')\n"
      ],
      "execution_count": 0,
      "outputs": [
        {
          "output_type": "stream",
          "text": [
            "Go to this URL in a browser: https://accounts.google.com/o/oauth2/auth?client_id=947318989803-6bn6qk8qdgf4n4g3pfee6491hc0brc4i.apps.googleusercontent.com&redirect_uri=urn%3Aietf%3Awg%3Aoauth%3A2.0%3Aoob&scope=email%20https%3A%2F%2Fwww.googleapis.com%2Fauth%2Fdocs.test%20https%3A%2F%2Fwww.googleapis.com%2Fauth%2Fdrive%20https%3A%2F%2Fwww.googleapis.com%2Fauth%2Fdrive.photos.readonly%20https%3A%2F%2Fwww.googleapis.com%2Fauth%2Fpeopleapi.readonly&response_type=code\n",
            "\n",
            "Enter your authorization code:\n",
            "··········\n",
            "Mounted at /content/drive\n"
          ],
          "name": "stdout"
        }
      ]
    },
    {
      "cell_type": "code",
      "metadata": {
        "id": "kZonlLw9_etC",
        "colab_type": "code",
        "colab": {}
      },
      "source": [
        "project_path = '/content/drive/My Drive/deep learning/Residency 7/Assignments and Projects/Computervison_project_1_plant_seedlings_classification/'"
      ],
      "execution_count": 0,
      "outputs": []
    },
    {
      "cell_type": "code",
      "metadata": {
        "id": "yW0QFjpSDX8e",
        "colab_type": "code",
        "colab": {}
      },
      "source": [
        "import cv2\n",
        "import numpy as np\n",
        "from glob import glob\n",
        "import os\n",
        "from matplotlib import pyplot as plt"
      ],
      "execution_count": 0,
      "outputs": []
    },
    {
      "cell_type": "code",
      "metadata": {
        "id": "y-C_wLn88PTJ",
        "colab_type": "code",
        "colab": {}
      },
      "source": [
        "train_path = project_path + 'train.zip'\n",
        "test_path = project_path + 'test.zip'"
      ],
      "execution_count": 0,
      "outputs": []
    },
    {
      "cell_type": "code",
      "metadata": {
        "id": "Um8ttXny_1Pn",
        "colab_type": "code",
        "colab": {}
      },
      "source": [
        "#extracting training path and test path\n",
        "from zipfile import ZipFile\n",
        "with ZipFile(train_path, 'r') as f:\n",
        "  f.extractall()\n",
        "with ZipFile(test_path, 'r') as f1:\n",
        "  f1.extractall()\n",
        "  "
      ],
      "execution_count": 0,
      "outputs": []
    },
    {
      "cell_type": "code",
      "metadata": {
        "id": "I4ZhhGJeABGg",
        "colab_type": "code",
        "colab": {}
      },
      "source": [
        "\n",
        "x_train = []\n",
        "y_train = []\n",
        "\n",
        "\n",
        "os.chdir(project_path)"
      ],
      "execution_count": 0,
      "outputs": []
    },
    {
      "cell_type": "code",
      "metadata": {
        "id": "6eY_d_nqZAUb",
        "colab_type": "code",
        "outputId": "5a92c75a-72f3-4a48-f11d-932d308b7442",
        "colab": {
          "base_uri": "https://localhost:8080/",
          "height": 119
        }
      },
      "source": [
        "os.listdir()"
      ],
      "execution_count": 0,
      "outputs": [
        {
          "output_type": "execute_result",
          "data": {
            "text/plain": [
              "['sample_submission.csv',\n",
              " 'test.zip',\n",
              " 'train.zip',\n",
              " 'train',\n",
              " 'test',\n",
              " 'Residency7_Computer_Vision_Project1.ipynb']"
            ]
          },
          "metadata": {
            "tags": []
          },
          "execution_count": 8
        }
      ]
    },
    {
      "cell_type": "code",
      "metadata": {
        "id": "SX1_nCP7st_h",
        "colab_type": "code",
        "colab": {}
      },
      "source": [
        "os.chdir(project_path+'train/')"
      ],
      "execution_count": 0,
      "outputs": []
    },
    {
      "cell_type": "code",
      "metadata": {
        "id": "JctdqRMvbWtS",
        "colab_type": "code",
        "colab": {}
      },
      "source": [
        "import cv2"
      ],
      "execution_count": 0,
      "outputs": []
    },
    {
      "cell_type": "code",
      "metadata": {
        "id": "jv-MZE9W1UOi",
        "colab_type": "code",
        "outputId": "06a4397f-706b-4665-df11-2b259f52d47b",
        "colab": {
          "base_uri": "https://localhost:8080/",
          "height": 221
        }
      },
      "source": [
        "for i in os.listdir():\n",
        "  print(i)\n",
        "  for j in os.listdir(i):\n",
        "    temp = cv2.imread(project_path+'train/'+i+'/'+j)\n",
        "    temp = cv2.resize(temp,(128,128))\n",
        "    x_train.append(temp)\n",
        "    y_train.append(i)"
      ],
      "execution_count": 11,
      "outputs": [
        {
          "output_type": "stream",
          "text": [
            "Fat Hen\n",
            "Small-flowered Cranesbill\n",
            "Cleavers\n",
            "Black-grass\n",
            "Sugar beet\n",
            "Shepherds Purse\n",
            "Charlock\n",
            "Loose Silky-bent\n",
            "Scentless Mayweed\n",
            "Maize\n",
            "Common Chickweed\n",
            "Common wheat\n"
          ],
          "name": "stdout"
        }
      ]
    },
    {
      "cell_type": "code",
      "metadata": {
        "id": "rND0OaYZ4wJw",
        "colab_type": "code",
        "colab": {}
      },
      "source": [
        "x_test = []\n",
        "\n",
        "os.chdir(project_path+'test/')"
      ],
      "execution_count": 0,
      "outputs": []
    },
    {
      "cell_type": "code",
      "metadata": {
        "id": "h2NRKQs86zF7",
        "colab_type": "code",
        "colab": {}
      },
      "source": [
        "for i in os.listdir():\n",
        "  temp = cv2.imread(i)\n",
        "  temp = cv2.resize(temp,(128,128))\n",
        "  x_test.append(temp)\n",
        " "
      ],
      "execution_count": 0,
      "outputs": []
    },
    {
      "cell_type": "markdown",
      "metadata": {
        "id": "feEI7xoCCtOb",
        "colab_type": "text"
      },
      "source": [
        "Fetching images per class and displaying them"
      ]
    },
    {
      "cell_type": "code",
      "metadata": {
        "id": "czF9xcOj8szq",
        "colab_type": "code",
        "colab": {}
      },
      "source": [
        "images_per_class = {}\n",
        "for class_folder_name in os.listdir(project_path+'train/'):\n",
        "    class_folder_path = os.path.join(project_path+'train/', class_folder_name)\n",
        "    class_label = class_folder_name\n",
        "    images_per_class[class_label] = []\n",
        "    for image_path in glob(os.path.join(class_folder_path, \"*.png\")):\n",
        "        image_bgr = cv2.imread(image_path, cv2.IMREAD_COLOR)\n",
        "        images_per_class[class_label].append(image_bgr)"
      ],
      "execution_count": 0,
      "outputs": []
    },
    {
      "cell_type": "markdown",
      "metadata": {
        "id": "n4ggNM1h8GKE",
        "colab_type": "text"
      },
      "source": [
        "Converting training data to numpy array\n"
      ]
    },
    {
      "cell_type": "code",
      "metadata": {
        "id": "14EKLrh39tnA",
        "colab_type": "code",
        "outputId": "4d2d24dc-cc5a-4a2d-9f6d-b91650da5853",
        "colab": {
          "base_uri": "https://localhost:8080/",
          "height": 51
        }
      },
      "source": [
        "import numpy as np\n",
        "x_train_arr = np.array(x_train)\n",
        "y_train_arr = np.array(y_train)\n",
        "print(x_train_arr.shape)\n",
        "print(y_train_arr.shape)"
      ],
      "execution_count": 15,
      "outputs": [
        {
          "output_type": "stream",
          "text": [
            "(4750, 128, 128, 3)\n",
            "(4750,)\n"
          ],
          "name": "stdout"
        }
      ]
    },
    {
      "cell_type": "code",
      "metadata": {
        "id": "uDSeoOhJJEw8",
        "colab_type": "code",
        "outputId": "f484e192-5dad-4c6b-b45f-14f6cd33c2e3",
        "colab": {
          "base_uri": "https://localhost:8080/",
          "height": 34
        }
      },
      "source": [
        "x_test_arr = np.array(x_test)\n",
        "print(x_test_arr.shape)"
      ],
      "execution_count": 16,
      "outputs": [
        {
          "output_type": "stream",
          "text": [
            "(794, 128, 128, 3)\n"
          ],
          "name": "stdout"
        }
      ]
    },
    {
      "cell_type": "markdown",
      "metadata": {
        "id": "2NDj_GzM4TKJ",
        "colab_type": "text"
      },
      "source": [
        "Clean the training data"
      ]
    },
    {
      "cell_type": "code",
      "metadata": {
        "id": "ivTJkPZG6yn_",
        "colab_type": "code",
        "outputId": "cb811e13-3054-48d8-c4f7-30ea94adb2b3",
        "colab": {
          "base_uri": "https://localhost:8080/",
          "height": 357
        }
      },
      "source": [
        "train_clean = []\n",
        "for img in x_train_arr:\n",
        "    # Use gaussian blur\n",
        "    blurImg = cv2.GaussianBlur(img, (5, 5), 0)   \n",
        "    \n",
        "    # Convert to HSV image\n",
        "    hsvImg = cv2.cvtColor(blurImg, cv2.COLOR_BGR2HSV)  \n",
        "    \n",
        "    # Create mask (parameters - green color range)\n",
        "    lower_green = (25, 40, 50)\n",
        "    upper_green = (75, 255, 255)\n",
        "    mask = cv2.inRange(hsvImg, lower_green, upper_green)\n",
        "    #print(mask[2])\n",
        "  \n",
        "    kernel = cv2.getStructuringElement(cv2.MORPH_ELLIPSE, (11,11))\n",
        "    mask = cv2.morphologyEx(mask, cv2.MORPH_CLOSE, kernel)\n",
        "    \n",
        "    #Apply the mask\n",
        "    \n",
        "    output = cv2.bitwise_and(img, img, mask = mask)\n",
        "    train_clean.append(output)# Append image without background\n",
        "    \n",
        "train_clean = np.asarray(train_clean)\n",
        "\n",
        "print(train_clean.shape)\n",
        "\n",
        "fig, axs = plt.subplots(1, 1, figsize=(5, 5))\n",
        "axs.imshow(output)\n",
        "       \n",
        "        "
      ],
      "execution_count": 17,
      "outputs": [
        {
          "output_type": "stream",
          "text": [
            "(4750, 128, 128, 3)\n"
          ],
          "name": "stdout"
        },
        {
          "output_type": "execute_result",
          "data": {
            "text/plain": [
              "<matplotlib.image.AxesImage at 0x7f71a3c2f400>"
            ]
          },
          "metadata": {
            "tags": []
          },
          "execution_count": 17
        },
        {
          "output_type": "display_data",
          "data": {
            "image/png": "[encoded data removed]",
            "text/plain": [
              "<Figure size 360x360 with 1 Axes>"
            ]
          },
          "metadata": {
            "tags": []
          }
        }
      ]
    },
    {
      "cell_type": "code",
      "metadata": {
        "id": "26WKpwtt_2i-",
        "colab_type": "code",
        "outputId": "9b6ac3be-1c51-4544-88c1-df7486048f87",
        "colab": {
          "base_uri": "https://localhost:8080/",
          "height": 228
        }
      },
      "source": [
        "import matplotlib.pyplot as plt\n",
        "for i in range(0,10):\n",
        "  plt.subplot(2,5,i+1)\n",
        "  plt.imshow(train_clean[i])"
      ],
      "execution_count": 18,
      "outputs": [
        {
          "output_type": "display_data",
          "data": {
            "image/png": "[encoded data removed]",
            "text/plain": [
              "<Figure size 432x288 with 10 Axes>"
            ]
          },
          "metadata": {
            "tags": []
          }
        }
      ]
    },
    {
      "cell_type": "code",
      "metadata": {
        "id": "SmXtrQd5KjBS",
        "colab_type": "code",
        "colab": {}
      },
      "source": [
        ""
      ],
      "execution_count": 0,
      "outputs": []
    },
    {
      "cell_type": "markdown",
      "metadata": {
        "id": "8RRhVcawKjfd",
        "colab_type": "text"
      },
      "source": [
        "Clean the test data"
      ]
    },
    {
      "cell_type": "code",
      "metadata": {
        "id": "nMHKBU4d2-Hb",
        "colab_type": "code",
        "outputId": "b9fb4936-fd0b-47d5-8894-c61482bb7260",
        "colab": {
          "base_uri": "https://localhost:8080/",
          "height": 34
        }
      },
      "source": [
        "test_clean = []\n",
        "for img in x_test_arr:\n",
        "    # Use gaussian blur\n",
        "    blurImg = cv2.GaussianBlur(img, (5, 5), 0)   \n",
        "    \n",
        "    # Convert to HSV image\n",
        "    hsvImg = cv2.cvtColor(blurImg, cv2.COLOR_BGR2HSV)  \n",
        "    \n",
        "    # Create mask (parameters - green color range)\n",
        "    lower_green = (25, 40, 50)\n",
        "    upper_green = (75, 255, 255)\n",
        "    mask = cv2.inRange(hsvImg, lower_green, upper_green)  \n",
        "    kernel = cv2.getStructuringElement(cv2.MORPH_ELLIPSE, (11,11))\n",
        "    mask = cv2.morphologyEx(mask, cv2.MORPH_CLOSE, kernel)\n",
        "    bMask = mask > 0  \n",
        "    \n",
        "    #Apply the mask #bitwise and takes the image and retains the masked area alone and blacks out the background.\n",
        "    output = cv2.bitwise_and(img, img, mask = mask)\n",
        "    test_clean.append(output)\n",
        "    \n",
        "test_clean = np.asarray(test_clean)\n",
        "print(test_clean.shape)"
      ],
      "execution_count": 19,
      "outputs": [
        {
          "output_type": "stream",
          "text": [
            "(794, 128, 128, 3)\n"
          ],
          "name": "stdout"
        }
      ]
    },
    {
      "cell_type": "code",
      "metadata": {
        "id": "rdcwcChsLyS8",
        "colab_type": "code",
        "outputId": "646592c0-f366-4518-ca0b-f1e9f3c74cc1",
        "colab": {
          "base_uri": "https://localhost:8080/",
          "height": 228
        }
      },
      "source": [
        "import matplotlib.pyplot as plt\n",
        "for i in range(0,10):\n",
        "  plt.subplot(2,5,i+1)\n",
        "  plt.imshow(test_clean[i])"
      ],
      "execution_count": 20,
      "outputs": [
        {
          "output_type": "display_data",
          "data": {
            "image/png": "[encoded data removed]",
            "text/plain": [
              "<Figure size 432x288 with 10 Axes>"
            ]
          },
          "metadata": {
            "tags": []
          }
        }
      ]
    },
    {
      "cell_type": "code",
      "metadata": {
        "id": "qbzJbBC_L8mp",
        "colab_type": "code",
        "colab": {}
      },
      "source": [
        ""
      ],
      "execution_count": 0,
      "outputs": []
    },
    {
      "cell_type": "markdown",
      "metadata": {
        "id": "Tb5gzhy1MEog",
        "colab_type": "text"
      },
      "source": [
        "Encode train and test labels"
      ]
    },
    {
      "cell_type": "code",
      "metadata": {
        "id": "RR_Q8mLWMLuc",
        "colab_type": "code",
        "outputId": "34f9b14d-22ba-4a5f-8e43-c6c9bf3dcd18",
        "colab": {
          "base_uri": "https://localhost:8080/",
          "height": 51
        }
      },
      "source": [
        "#currently the labels are in the form of text, so we label encode them to numbers\n",
        "\n",
        "y_train_arr"
      ],
      "execution_count": 21,
      "outputs": [
        {
          "output_type": "execute_result",
          "data": {
            "text/plain": [
              "array(['Fat Hen', 'Fat Hen', 'Fat Hen', ..., 'Common wheat',\n",
              "       'Common wheat', 'Common wheat'], dtype='<U25')"
            ]
          },
          "metadata": {
            "tags": []
          },
          "execution_count": 21
        }
      ]
    },
    {
      "cell_type": "code",
      "metadata": {
        "id": "Hl5VL9Z-MFFV",
        "colab_type": "code",
        "colab": {}
      },
      "source": [
        "from sklearn.preprocessing import LabelEncoder\n",
        "le = LabelEncoder()\n",
        "y_train_arr = le.fit_transform(y_train_arr)"
      ],
      "execution_count": 0,
      "outputs": []
    },
    {
      "cell_type": "code",
      "metadata": {
        "id": "W2vN2KuPMTY6",
        "colab_type": "code",
        "colab": {}
      },
      "source": [
        "import keras\n",
        "y_train_dum = keras.utils.to_categorical(y_train_arr, num_classes=12)"
      ],
      "execution_count": 0,
      "outputs": []
    },
    {
      "cell_type": "markdown",
      "metadata": {
        "id": "jg6emsd8MaKw",
        "colab_type": "text"
      },
      "source": [
        "Building CNN Model"
      ]
    },
    {
      "cell_type": "code",
      "metadata": {
        "id": "dUtgFfc0MWrO",
        "colab_type": "code",
        "colab": {}
      },
      "source": [
        "from keras.models import Sequential\n",
        "from keras.layers import Convolution2D, MaxPooling2D, Dense, Activation, Dropout, Flatten, Reshape, BatchNormalization\n",
        "from keras import backend as K"
      ],
      "execution_count": 0,
      "outputs": []
    },
    {
      "cell_type": "code",
      "metadata": {
        "id": "gBDFtZBVMfQo",
        "colab_type": "code",
        "colab": {}
      },
      "source": [
        "#Normalizing\n",
        "train_clean = train_clean.astype('float32')\n",
        "test_clean = test_clean.astype('float32')\n",
        "train_clean /= 255\n",
        "test_clean /= 255"
      ],
      "execution_count": 0,
      "outputs": []
    },
    {
      "cell_type": "code",
      "metadata": {
        "id": "YqiderFlMju1",
        "colab_type": "code",
        "colab": {}
      },
      "source": [
        "#Split the training folder images itself into train and test. P.S the test folder images are not touched here.\n",
        "from sklearn.model_selection import train_test_split\n",
        "trainX, testX, trainY, testY = train_test_split(train_clean, y_train_dum, \n",
        "                                                test_size=0.1, random_state=1, \n",
        "                                                stratify = y_train_dum)"
      ],
      "execution_count": 0,
      "outputs": []
    },
    {
      "cell_type": "code",
      "metadata": {
        "id": "ZUc5zPGLeFsH",
        "colab_type": "code",
        "colab": {}
      },
      "source": [
        "from keras.preprocessing.image import ImageDataGenerator\n",
        "datagen = ImageDataGenerator(\n",
        "        rotation_range=180,  # randomly rotate images in the range\n",
        "        zoom_range = 0.1, # Randomly zoom image \n",
        "        width_shift_range=0.1,  # randomly shift images horizontally\n",
        "        height_shift_range=0.1,  # randomly shift images vertically \n",
        "        horizontal_flip=True,  # randomly flip images horizontally\n",
        "        vertical_flip=True  # randomly flip images vertically\n",
        "    )  \n",
        "datagen.fit(trainX)"
      ],
      "execution_count": 0,
      "outputs": []
    },
    {
      "cell_type": "code",
      "metadata": {
        "id": "GkDTrnFweSgh",
        "colab_type": "code",
        "outputId": "36aac9e6-daac-4258-dcad-76f32b3b228e",
        "colab": {
          "base_uri": "https://localhost:8080/",
          "height": 34
        }
      },
      "source": [
        "trainX.shape"
      ],
      "execution_count": 28,
      "outputs": [
        {
          "output_type": "execute_result",
          "data": {
            "text/plain": [
              "(4275, 128, 128, 3)"
            ]
          },
          "metadata": {
            "tags": []
          },
          "execution_count": 28
        }
      ]
    },
    {
      "cell_type": "code",
      "metadata": {
        "id": "F2hIQpUqeqRk",
        "colab_type": "code",
        "outputId": "7a7893a6-045d-4a15-c3c4-c33a3cf3c89f",
        "colab": {
          "base_uri": "https://localhost:8080/",
          "height": 1000
        }
      },
      "source": [
        "# Define Model\n",
        "    from keras.optimizers import adam\n",
        "    model = Sequential()\n",
        "    #model.add(BatchNormalization(input_shape = (128,128,3)))\n",
        "    model.add(Convolution2D(64, (3,3), activation ='relu', padding = 'same',input_shape = (128, 128, 3))) \n",
        "    model.add(MaxPooling2D(pool_size=2))\n",
        "    model.add(Dropout(0.2))\n",
        "\n",
        "    #model.add(BatchNormalization())\n",
        "    model.add(Convolution2D(filters=64, kernel_size=4, padding='same', activation='relu'))\n",
        "    model.add(MaxPooling2D(pool_size=2))\n",
        "    model.add(Dropout(0.2))\n",
        "\n",
        "    #model.add(BatchNormalization())\n",
        "    model.add(Convolution2D(filters=128, kernel_size=3, padding='same', activation='relu'))\n",
        "    model.add(MaxPooling2D(pool_size=2))\n",
        "    model.add(Dropout(0.2))\n",
        "\n",
        "    #model.add(BatchNormalization())\n",
        "    model.add(Convolution2D(filters=128, kernel_size=2, padding='same', activation='relu'))\n",
        "    model.add(MaxPooling2D(pool_size=2))\n",
        "    model.add(Dropout(0.2))\n",
        "\n",
        "    model.add(Flatten()) \n",
        "\n",
        "# fully connected layer\n",
        "    #model.add(Dense(units=128,activation = 'relu'))\n",
        "    model.add(Dense(units = 64, activation = 'relu'))\n",
        "    #model.add(Dropout(0.3))\n",
        "    #model.add(Dense(units = 32, activation = 'relu'))\n",
        "    #model.add(Dropout(0.3))\n",
        "    model.add(Dense(units = 12, activation = 'softmax')) \n",
        "\n",
        "    # Loss and Optimizer\n",
        "    #opti = Nadam(lr=0.002, beta_1=0.9, beta_2=0.999, epsilon=None, schedule_decay=0.004)\n",
        "    model.compile(loss='categorical_crossentropy', optimizer='adam', metrics=['accuracy'])\n",
        "    \n",
        "    # Store Training Results\n",
        "    early_stopping = keras.callbacks.EarlyStopping(monitor='val_acc', patience=7, verbose=1, mode='auto')\n",
        "    callback_list = [early_stopping]\n",
        "\n",
        "    # Train the model\n",
        "    #model.fit(trainX, trainY, batch_size=64, nb_epoch=20, \n",
        "    #          validation_data=(testX, testY))\n",
        "    model.fit_generator(datagen.flow(trainX, trainY, batch_size=32), nb_epoch=20, validation_data=(testX, testY), steps_per_epoch=1000,callbacks = callback_list)\n",
        "  "
      ],
      "execution_count": 29,
      "outputs": [
        {
          "output_type": "stream",
          "text": [
            "WARNING: Logging before flag parsing goes to stderr.\n",
            "W0727 17:22:41.089869 140127450822528 deprecation_wrapper.py:119] From /usr/local/lib/python3.6/dist-packages/keras/backend/tensorflow_backend.py:74: The name tf.get_default_graph is deprecated. Please use tf.compat.v1.get_default_graph instead.\n",
            "\n",
            "W0727 17:22:41.157670 140127450822528 deprecation_wrapper.py:119] From /usr/local/lib/python3.6/dist-packages/keras/backend/tensorflow_backend.py:517: The name tf.placeholder is deprecated. Please use tf.compat.v1.placeholder instead.\n",
            "\n",
            "W0727 17:22:41.180279 140127450822528 deprecation_wrapper.py:119] From /usr/local/lib/python3.6/dist-packages/keras/backend/tensorflow_backend.py:4138: The name tf.random_uniform is deprecated. Please use tf.random.uniform instead.\n",
            "\n",
            "W0727 17:22:41.222106 140127450822528 deprecation_wrapper.py:119] From /usr/local/lib/python3.6/dist-packages/keras/backend/tensorflow_backend.py:3976: The name tf.nn.max_pool is deprecated. Please use tf.nn.max_pool2d instead.\n",
            "\n",
            "W0727 17:22:41.227587 140127450822528 deprecation_wrapper.py:119] From /usr/local/lib/python3.6/dist-packages/keras/backend/tensorflow_backend.py:133: The name tf.placeholder_with_default is deprecated. Please use tf.compat.v1.placeholder_with_default instead.\n",
            "\n",
            "W0727 17:22:41.236112 140127450822528 deprecation.py:506] From /usr/local/lib/python3.6/dist-packages/keras/backend/tensorflow_backend.py:3445: calling dropout (from tensorflow.python.ops.nn_ops) with keep_prob is deprecated and will be removed in a future version.\n",
            "Instructions for updating:\n",
            "Please use `rate` instead of `keep_prob`. Rate should be set to `rate = 1 - keep_prob`.\n",
            "W0727 17:22:41.373174 140127450822528 deprecation_wrapper.py:119] From /usr/local/lib/python3.6/dist-packages/keras/optimizers.py:790: The name tf.train.Optimizer is deprecated. Please use tf.compat.v1.train.Optimizer instead.\n",
            "\n",
            "W0727 17:22:41.395019 140127450822528 deprecation_wrapper.py:119] From /usr/local/lib/python3.6/dist-packages/keras/backend/tensorflow_backend.py:3295: The name tf.log is deprecated. Please use tf.math.log instead.\n",
            "\n",
            "/usr/local/lib/python3.6/dist-packages/ipykernel_launcher.py:44: UserWarning: The semantics of the Keras 2 argument `steps_per_epoch` is not the same as the Keras 1 argument `samples_per_epoch`. `steps_per_epoch` is the number of batches to draw from the generator at each epoch. Basically steps_per_epoch = samples_per_epoch/batch_size. Similarly `nb_val_samples`->`validation_steps` and `val_samples`->`steps` arguments have changed. Update your method calls accordingly.\n",
            "/usr/local/lib/python3.6/dist-packages/ipykernel_launcher.py:44: UserWarning: Update your `fit_generator` call to the Keras 2 API: `fit_generator(<keras_pre..., validation_data=(array([[[..., steps_per_epoch=1000, callbacks=[<keras.ca..., epochs=20)`\n",
            "W0727 17:22:41.686276 140127450822528 deprecation.py:323] From /usr/local/lib/python3.6/dist-packages/tensorflow/python/ops/math_grad.py:1250: add_dispatch_support.<locals>.wrapper (from tensorflow.python.ops.array_ops) is deprecated and will be removed in a future version.\n",
            "Instructions for updating:\n",
            "Use tf.where in 2.0, which has the same broadcast rule as np.where\n"
          ],
          "name": "stderr"
        },
        {
          "output_type": "stream",
          "text": [
            "Epoch 1/20\n",
            "1000/1000 [==============================] - 116s 116ms/step - loss: 1.0860 - acc: 0.6310 - val_loss: 0.5862 - val_acc: 0.7916\n",
            "Epoch 2/20\n",
            "1000/1000 [==============================] - 109s 109ms/step - loss: 0.5911 - acc: 0.8005 - val_loss: 0.4269 - val_acc: 0.8421\n",
            "Epoch 3/20\n",
            "1000/1000 [==============================] - 110s 110ms/step - loss: 0.4490 - acc: 0.8408 - val_loss: 0.3663 - val_acc: 0.8589\n",
            "Epoch 4/20\n",
            "1000/1000 [==============================] - 112s 112ms/step - loss: 0.3636 - acc: 0.8666 - val_loss: 0.2924 - val_acc: 0.8611\n",
            "Epoch 5/20\n",
            "1000/1000 [==============================] - 113s 113ms/step - loss: 0.3046 - acc: 0.8857 - val_loss: 0.2604 - val_acc: 0.9011\n",
            "Epoch 6/20\n",
            "1000/1000 [==============================] - 114s 114ms/step - loss: 0.2801 - acc: 0.8962 - val_loss: 0.2443 - val_acc: 0.9116\n",
            "Epoch 7/20\n",
            "1000/1000 [==============================] - 111s 111ms/step - loss: 0.2471 - acc: 0.9078 - val_loss: 0.2560 - val_acc: 0.9032\n",
            "Epoch 8/20\n",
            "1000/1000 [==============================] - 109s 109ms/step - loss: 0.2334 - acc: 0.9122 - val_loss: 0.3403 - val_acc: 0.8632\n",
            "Epoch 9/20\n",
            "1000/1000 [==============================] - 109s 109ms/step - loss: 0.2106 - acc: 0.9209 - val_loss: 0.3012 - val_acc: 0.8737\n",
            "Epoch 10/20\n",
            "1000/1000 [==============================] - 109s 109ms/step - loss: 0.2077 - acc: 0.9212 - val_loss: 0.2925 - val_acc: 0.9032\n",
            "Epoch 11/20\n",
            "1000/1000 [==============================] - 109s 109ms/step - loss: 0.1898 - acc: 0.9279 - val_loss: 0.2097 - val_acc: 0.9221\n",
            "Epoch 12/20\n",
            "1000/1000 [==============================] - 109s 109ms/step - loss: 0.1842 - acc: 0.9308 - val_loss: 0.1858 - val_acc: 0.9411\n",
            "Epoch 13/20\n",
            "1000/1000 [==============================] - 108s 108ms/step - loss: 0.1772 - acc: 0.9317 - val_loss: 0.1747 - val_acc: 0.9347\n",
            "Epoch 14/20\n",
            "1000/1000 [==============================] - 108s 108ms/step - loss: 0.1665 - acc: 0.9370 - val_loss: 0.1700 - val_acc: 0.9453\n",
            "Epoch 15/20\n",
            "1000/1000 [==============================] - 108s 108ms/step - loss: 0.1668 - acc: 0.9363 - val_loss: 0.1575 - val_acc: 0.9432\n",
            "Epoch 16/20\n",
            "1000/1000 [==============================] - 108s 108ms/step - loss: 0.1539 - acc: 0.9409 - val_loss: 0.2295 - val_acc: 0.9305\n",
            "Epoch 17/20\n",
            "1000/1000 [==============================] - 110s 110ms/step - loss: 0.1524 - acc: 0.9430 - val_loss: 0.1936 - val_acc: 0.9263\n",
            "Epoch 18/20\n",
            "1000/1000 [==============================] - 110s 110ms/step - loss: 0.1434 - acc: 0.9464 - val_loss: 0.2370 - val_acc: 0.9095\n",
            "Epoch 19/20\n",
            "1000/1000 [==============================] - 111s 111ms/step - loss: 0.1422 - acc: 0.9459 - val_loss: 0.2256 - val_acc: 0.9095\n",
            "Epoch 20/20\n",
            "1000/1000 [==============================] - 111s 111ms/step - loss: 0.1410 - acc: 0.9464 - val_loss: 0.2565 - val_acc: 0.9032\n"
          ],
          "name": "stdout"
        },
        {
          "output_type": "execute_result",
          "data": {
            "text/plain": [
              "<keras.callbacks.History at 0x7f7198b8dc18>"
            ]
          },
          "metadata": {
            "tags": []
          },
          "execution_count": 29
        }
      ]
    },
    {
      "cell_type": "code",
      "metadata": {
        "id": "pGu-3nATnwHE",
        "colab_type": "code",
        "colab": {
          "base_uri": "https://localhost:8080/",
          "height": 646
        },
        "outputId": "c2aa9b96-70dc-4585-8e05-fef06f6e997d"
      },
      "source": [
        "model.summary()"
      ],
      "execution_count": 44,
      "outputs": [
        {
          "output_type": "stream",
          "text": [
            "_________________________________________________________________\n",
            "Layer (type)                 Output Shape              Param #   \n",
            "=================================================================\n",
            "conv2d_1 (Conv2D)            (None, 128, 128, 64)      1792      \n",
            "_________________________________________________________________\n",
            "max_pooling2d_1 (MaxPooling2 (None, 64, 64, 64)        0         \n",
            "_________________________________________________________________\n",
            "dropout_1 (Dropout)          (None, 64, 64, 64)        0         \n",
            "_________________________________________________________________\n",
            "conv2d_2 (Conv2D)            (None, 64, 64, 64)        65600     \n",
            "_________________________________________________________________\n",
            "max_pooling2d_2 (MaxPooling2 (None, 32, 32, 64)        0         \n",
            "_________________________________________________________________\n",
            "dropout_2 (Dropout)          (None, 32, 32, 64)        0         \n",
            "_________________________________________________________________\n",
            "conv2d_3 (Conv2D)            (None, 32, 32, 128)       73856     \n",
            "_________________________________________________________________\n",
            "max_pooling2d_3 (MaxPooling2 (None, 16, 16, 128)       0         \n",
            "_________________________________________________________________\n",
            "dropout_3 (Dropout)          (None, 16, 16, 128)       0         \n",
            "_________________________________________________________________\n",
            "conv2d_4 (Conv2D)            (None, 16, 16, 128)       65664     \n",
            "_________________________________________________________________\n",
            "max_pooling2d_4 (MaxPooling2 (None, 8, 8, 128)         0         \n",
            "_________________________________________________________________\n",
            "dropout_4 (Dropout)          (None, 8, 8, 128)         0         \n",
            "_________________________________________________________________\n",
            "flatten_1 (Flatten)          (None, 8192)              0         \n",
            "_________________________________________________________________\n",
            "dense_1 (Dense)              (None, 64)                524352    \n",
            "_________________________________________________________________\n",
            "dense_2 (Dense)              (None, 12)                780       \n",
            "=================================================================\n",
            "Total params: 732,044\n",
            "Trainable params: 732,044\n",
            "Non-trainable params: 0\n",
            "_________________________________________________________________\n"
          ],
          "name": "stdout"
        }
      ]
    },
    {
      "cell_type": "code",
      "metadata": {
        "id": "HahreaJKe4b7",
        "colab_type": "code",
        "colab": {}
      },
      "source": [
        "#Prediction of the classes for test images.\n",
        "y_pred = model.predict_classes(test_clean)"
      ],
      "execution_count": 0,
      "outputs": []
    },
    {
      "cell_type": "code",
      "metadata": {
        "id": "ko58iczwnYYf",
        "colab_type": "code",
        "colab": {}
      },
      "source": [
        "y_pred_transform = le.inverse_transform(y_pred)"
      ],
      "execution_count": 0,
      "outputs": []
    },
    {
      "cell_type": "code",
      "metadata": {
        "id": "uKoRqNg2nZJ_",
        "colab_type": "code",
        "colab": {
          "base_uri": "https://localhost:8080/",
          "height": 1000
        },
        "outputId": "d9181298-7aca-4023-9056-f1910238690d"
      },
      "source": [
        "y_pred_transform"
      ],
      "execution_count": 39,
      "outputs": [
        {
          "output_type": "execute_result",
          "data": {
            "text/plain": [
              "array(['Common Chickweed', 'Cleavers', 'Loose Silky-bent', 'Sugar beet',\n",
              "       'Small-flowered Cranesbill', 'Common Chickweed',\n",
              "       'Common Chickweed', 'Common Chickweed', 'Common Chickweed',\n",
              "       'Cleavers', 'Black-grass', 'Loose Silky-bent', 'Cleavers',\n",
              "       'Loose Silky-bent', 'Loose Silky-bent', 'Fat Hen', 'Sugar beet',\n",
              "       'Cleavers', 'Cleavers', 'Black-grass', 'Sugar beet',\n",
              "       'Scentless Mayweed', 'Fat Hen', 'Loose Silky-bent',\n",
              "       'Scentless Mayweed', 'Shepherds Purse', 'Loose Silky-bent',\n",
              "       'Loose Silky-bent', 'Common Chickweed', 'Sugar beet',\n",
              "       'Scentless Mayweed', 'Fat Hen', 'Black-grass', 'Loose Silky-bent',\n",
              "       'Common Chickweed', 'Black-grass', 'Common Chickweed',\n",
              "       'Black-grass', 'Loose Silky-bent', 'Sugar beet', 'Maize',\n",
              "       'Common Chickweed', 'Cleavers', 'Black-grass', 'Scentless Mayweed',\n",
              "       'Black-grass', 'Sugar beet', 'Loose Silky-bent',\n",
              "       'Common Chickweed', 'Fat Hen', 'Small-flowered Cranesbill',\n",
              "       'Black-grass', 'Maize', 'Maize', 'Sugar beet', 'Black-grass',\n",
              "       'Small-flowered Cranesbill', 'Sugar beet', 'Scentless Mayweed',\n",
              "       'Sugar beet', 'Common Chickweed', 'Cleavers', 'Fat Hen',\n",
              "       'Black-grass', 'Small-flowered Cranesbill', 'Charlock',\n",
              "       'Common Chickweed', 'Charlock', 'Maize', 'Loose Silky-bent',\n",
              "       'Black-grass', 'Loose Silky-bent', 'Black-grass', 'Black-grass',\n",
              "       'Charlock', 'Small-flowered Cranesbill', 'Loose Silky-bent',\n",
              "       'Common Chickweed', 'Common Chickweed', 'Scentless Mayweed',\n",
              "       'Scentless Mayweed', 'Black-grass', 'Sugar beet', 'Black-grass',\n",
              "       'Scentless Mayweed', 'Common Chickweed', 'Sugar beet',\n",
              "       'Sugar beet', 'Black-grass', 'Common wheat', 'Charlock',\n",
              "       'Sugar beet', 'Common Chickweed', 'Small-flowered Cranesbill',\n",
              "       'Small-flowered Cranesbill', 'Maize', 'Fat Hen', 'Fat Hen',\n",
              "       'Common Chickweed', 'Fat Hen', 'Shepherds Purse',\n",
              "       'Small-flowered Cranesbill', 'Loose Silky-bent', 'Maize',\n",
              "       'Common Chickweed', 'Common Chickweed', 'Common Chickweed',\n",
              "       'Maize', 'Small-flowered Cranesbill', 'Maize', 'Common Chickweed',\n",
              "       'Small-flowered Cranesbill', 'Scentless Mayweed',\n",
              "       'Common Chickweed', 'Black-grass', 'Fat Hen',\n",
              "       'Small-flowered Cranesbill', 'Cleavers', 'Fat Hen',\n",
              "       'Scentless Mayweed', 'Maize', 'Common wheat', 'Maize',\n",
              "       'Scentless Mayweed', 'Scentless Mayweed', 'Sugar beet',\n",
              "       'Sugar beet', 'Black-grass', 'Scentless Mayweed', 'Cleavers',\n",
              "       'Scentless Mayweed', 'Common wheat', 'Scentless Mayweed',\n",
              "       'Common Chickweed', 'Cleavers', 'Sugar beet', 'Charlock',\n",
              "       'Loose Silky-bent', 'Sugar beet', 'Loose Silky-bent',\n",
              "       'Scentless Mayweed', 'Black-grass', 'Scentless Mayweed',\n",
              "       'Scentless Mayweed', 'Common wheat', 'Common Chickweed',\n",
              "       'Black-grass', 'Fat Hen', 'Shepherds Purse', 'Cleavers',\n",
              "       'Common Chickweed', 'Scentless Mayweed', 'Charlock',\n",
              "       'Common Chickweed', 'Cleavers', 'Maize',\n",
              "       'Small-flowered Cranesbill', 'Fat Hen', 'Maize', 'Sugar beet',\n",
              "       'Charlock', 'Loose Silky-bent', 'Charlock', 'Cleavers',\n",
              "       'Black-grass', 'Fat Hen', 'Fat Hen', 'Charlock',\n",
              "       'Common Chickweed', 'Common wheat', 'Fat Hen', 'Sugar beet',\n",
              "       'Sugar beet', 'Sugar beet', 'Loose Silky-bent', 'Loose Silky-bent',\n",
              "       'Charlock', 'Small-flowered Cranesbill',\n",
              "       'Small-flowered Cranesbill', 'Sugar beet', 'Common wheat',\n",
              "       'Black-grass', 'Small-flowered Cranesbill', 'Common wheat',\n",
              "       'Shepherds Purse', 'Loose Silky-bent', 'Charlock', 'Sugar beet',\n",
              "       'Fat Hen', 'Common wheat', 'Black-grass', 'Black-grass', 'Fat Hen',\n",
              "       'Common Chickweed', 'Small-flowered Cranesbill', 'Charlock',\n",
              "       'Common Chickweed', 'Loose Silky-bent', 'Cleavers',\n",
              "       'Scentless Mayweed', 'Small-flowered Cranesbill',\n",
              "       'Common Chickweed', 'Scentless Mayweed', 'Scentless Mayweed',\n",
              "       'Shepherds Purse', 'Sugar beet', 'Cleavers', 'Black-grass',\n",
              "       'Common Chickweed', 'Loose Silky-bent', 'Scentless Mayweed',\n",
              "       'Loose Silky-bent', 'Sugar beet', 'Cleavers', 'Shepherds Purse',\n",
              "       'Common Chickweed', 'Sugar beet', 'Common Chickweed',\n",
              "       'Scentless Mayweed', 'Fat Hen', 'Common Chickweed',\n",
              "       'Small-flowered Cranesbill', 'Small-flowered Cranesbill',\n",
              "       'Charlock', 'Shepherds Purse', 'Small-flowered Cranesbill',\n",
              "       'Loose Silky-bent', 'Scentless Mayweed', 'Maize',\n",
              "       'Scentless Mayweed', 'Charlock', 'Common Chickweed',\n",
              "       'Common wheat', 'Black-grass', 'Black-grass', 'Fat Hen',\n",
              "       'Loose Silky-bent', 'Small-flowered Cranesbill', 'Sugar beet',\n",
              "       'Loose Silky-bent', 'Charlock', 'Shepherds Purse',\n",
              "       'Small-flowered Cranesbill', 'Sugar beet', 'Loose Silky-bent',\n",
              "       'Charlock', 'Charlock', 'Loose Silky-bent', 'Maize', 'Charlock',\n",
              "       'Black-grass', 'Common wheat', 'Charlock', 'Sugar beet',\n",
              "       'Common Chickweed', 'Charlock', 'Shepherds Purse', 'Sugar beet',\n",
              "       'Shepherds Purse', 'Scentless Mayweed', 'Fat Hen',\n",
              "       'Common Chickweed', 'Scentless Mayweed', 'Charlock', 'Black-grass',\n",
              "       'Fat Hen', 'Small-flowered Cranesbill',\n",
              "       'Small-flowered Cranesbill', 'Maize', 'Common Chickweed',\n",
              "       'Loose Silky-bent', 'Black-grass', 'Sugar beet',\n",
              "       'Common Chickweed', 'Scentless Mayweed', 'Sugar beet',\n",
              "       'Common Chickweed', 'Shepherds Purse', 'Sugar beet',\n",
              "       'Small-flowered Cranesbill', 'Charlock', 'Maize', 'Sugar beet',\n",
              "       'Maize', 'Cleavers', 'Sugar beet', 'Small-flowered Cranesbill',\n",
              "       'Cleavers', 'Shepherds Purse', 'Sugar beet', 'Loose Silky-bent',\n",
              "       'Fat Hen', 'Charlock', 'Sugar beet', 'Fat Hen', 'Loose Silky-bent',\n",
              "       'Loose Silky-bent', 'Charlock', 'Loose Silky-bent',\n",
              "       'Scentless Mayweed', 'Cleavers', 'Black-grass', 'Sugar beet',\n",
              "       'Sugar beet', 'Loose Silky-bent', 'Sugar beet', 'Maize',\n",
              "       'Shepherds Purse', 'Loose Silky-bent', 'Small-flowered Cranesbill',\n",
              "       'Fat Hen', 'Shepherds Purse', 'Sugar beet', 'Loose Silky-bent',\n",
              "       'Sugar beet', 'Fat Hen', 'Charlock', 'Scentless Mayweed',\n",
              "       'Fat Hen', 'Small-flowered Cranesbill', 'Cleavers', 'Maize',\n",
              "       'Small-flowered Cranesbill', 'Shepherds Purse', 'Black-grass',\n",
              "       'Black-grass', 'Common Chickweed', 'Common Chickweed',\n",
              "       'Scentless Mayweed', 'Shepherds Purse', 'Sugar beet',\n",
              "       'Small-flowered Cranesbill', 'Small-flowered Cranesbill',\n",
              "       'Charlock', 'Cleavers', 'Small-flowered Cranesbill',\n",
              "       'Small-flowered Cranesbill', 'Common Chickweed', 'Cleavers',\n",
              "       'Common Chickweed', 'Shepherds Purse', 'Charlock',\n",
              "       'Common Chickweed', 'Black-grass', 'Charlock', 'Common wheat',\n",
              "       'Fat Hen', 'Sugar beet', 'Loose Silky-bent',\n",
              "       'Small-flowered Cranesbill', 'Black-grass', 'Maize',\n",
              "       'Shepherds Purse', 'Cleavers', 'Sugar beet', 'Common wheat',\n",
              "       'Loose Silky-bent', 'Maize', 'Loose Silky-bent',\n",
              "       'Small-flowered Cranesbill', 'Small-flowered Cranesbill',\n",
              "       'Common wheat', 'Common wheat', 'Small-flowered Cranesbill',\n",
              "       'Sugar beet', 'Shepherds Purse', 'Sugar beet', 'Black-grass',\n",
              "       'Small-flowered Cranesbill', 'Common Chickweed', 'Shepherds Purse',\n",
              "       'Common Chickweed', 'Scentless Mayweed', 'Scentless Mayweed',\n",
              "       'Cleavers', 'Charlock', 'Sugar beet', 'Charlock', 'Fat Hen',\n",
              "       'Common wheat', 'Scentless Mayweed', 'Sugar beet',\n",
              "       'Loose Silky-bent', 'Loose Silky-bent', 'Charlock', 'Black-grass',\n",
              "       'Scentless Mayweed', 'Loose Silky-bent',\n",
              "       'Small-flowered Cranesbill', 'Fat Hen',\n",
              "       'Small-flowered Cranesbill', 'Maize', 'Fat Hen',\n",
              "       'Common Chickweed', 'Scentless Mayweed', 'Common Chickweed',\n",
              "       'Maize', 'Scentless Mayweed', 'Small-flowered Cranesbill',\n",
              "       'Common Chickweed', 'Shepherds Purse', 'Common Chickweed',\n",
              "       'Common Chickweed', 'Common Chickweed', 'Common wheat',\n",
              "       'Small-flowered Cranesbill', 'Common Chickweed', 'Cleavers',\n",
              "       'Scentless Mayweed', 'Scentless Mayweed', 'Sugar beet',\n",
              "       'Small-flowered Cranesbill', 'Scentless Mayweed', 'Fat Hen',\n",
              "       'Fat Hen', 'Loose Silky-bent', 'Black-grass', 'Black-grass',\n",
              "       'Sugar beet', 'Loose Silky-bent', 'Fat Hen', 'Fat Hen',\n",
              "       'Scentless Mayweed', 'Sugar beet', 'Black-grass', 'Charlock',\n",
              "       'Fat Hen', 'Small-flowered Cranesbill', 'Scentless Mayweed',\n",
              "       'Common Chickweed', 'Small-flowered Cranesbill',\n",
              "       'Scentless Mayweed', 'Scentless Mayweed', 'Loose Silky-bent',\n",
              "       'Common Chickweed', 'Small-flowered Cranesbill',\n",
              "       'Common Chickweed', 'Small-flowered Cranesbill',\n",
              "       'Common Chickweed', 'Scentless Mayweed',\n",
              "       'Small-flowered Cranesbill', 'Scentless Mayweed', 'Fat Hen',\n",
              "       'Sugar beet', 'Common Chickweed', 'Sugar beet', 'Common Chickweed',\n",
              "       'Charlock', 'Black-grass', 'Scentless Mayweed', 'Charlock',\n",
              "       'Fat Hen', 'Maize', 'Sugar beet', 'Charlock', 'Fat Hen',\n",
              "       'Small-flowered Cranesbill', 'Small-flowered Cranesbill',\n",
              "       'Fat Hen', 'Scentless Mayweed', 'Loose Silky-bent', 'Charlock',\n",
              "       'Loose Silky-bent', 'Common Chickweed', 'Shepherds Purse',\n",
              "       'Common Chickweed', 'Black-grass', 'Maize', 'Scentless Mayweed',\n",
              "       'Scentless Mayweed', 'Common Chickweed', 'Loose Silky-bent',\n",
              "       'Loose Silky-bent', 'Common wheat', 'Loose Silky-bent',\n",
              "       'Black-grass', 'Loose Silky-bent', 'Charlock', 'Loose Silky-bent',\n",
              "       'Maize', 'Common Chickweed', 'Common Chickweed',\n",
              "       'Common Chickweed', 'Black-grass', 'Black-grass',\n",
              "       'Common Chickweed', 'Charlock', 'Charlock', 'Fat Hen',\n",
              "       'Black-grass', 'Common Chickweed', 'Shepherds Purse',\n",
              "       'Black-grass', 'Common Chickweed', 'Shepherds Purse', 'Maize',\n",
              "       'Charlock', 'Charlock', 'Small-flowered Cranesbill', 'Sugar beet',\n",
              "       'Loose Silky-bent', 'Charlock', 'Fat Hen', 'Common wheat',\n",
              "       'Loose Silky-bent', 'Black-grass', 'Common wheat', 'Maize',\n",
              "       'Charlock', 'Loose Silky-bent', 'Scentless Mayweed',\n",
              "       'Common Chickweed', 'Small-flowered Cranesbill', 'Sugar beet',\n",
              "       'Loose Silky-bent', 'Cleavers', 'Scentless Mayweed',\n",
              "       'Small-flowered Cranesbill', 'Sugar beet', 'Black-grass',\n",
              "       'Common wheat', 'Charlock', 'Fat Hen', 'Sugar beet', 'Charlock',\n",
              "       'Loose Silky-bent', 'Charlock', 'Sugar beet', 'Scentless Mayweed',\n",
              "       'Sugar beet', 'Common Chickweed', 'Common Chickweed',\n",
              "       'Common wheat', 'Small-flowered Cranesbill', 'Cleavers',\n",
              "       'Scentless Mayweed', 'Charlock', 'Sugar beet', 'Maize',\n",
              "       'Loose Silky-bent', 'Cleavers', 'Black-grass',\n",
              "       'Small-flowered Cranesbill', 'Common Chickweed',\n",
              "       'Scentless Mayweed', 'Loose Silky-bent', 'Maize',\n",
              "       'Loose Silky-bent', 'Small-flowered Cranesbill',\n",
              "       'Scentless Mayweed', 'Common wheat', 'Maize', 'Common Chickweed',\n",
              "       'Sugar beet', 'Charlock', 'Charlock', 'Small-flowered Cranesbill',\n",
              "       'Sugar beet', 'Fat Hen', 'Sugar beet', 'Fat Hen', 'Fat Hen',\n",
              "       'Loose Silky-bent', 'Black-grass', 'Common wheat',\n",
              "       'Common Chickweed', 'Maize', 'Scentless Mayweed', 'Charlock',\n",
              "       'Common Chickweed', 'Common Chickweed', 'Sugar beet',\n",
              "       'Loose Silky-bent', 'Loose Silky-bent', 'Fat Hen', 'Cleavers',\n",
              "       'Cleavers', 'Black-grass', 'Common Chickweed',\n",
              "       'Small-flowered Cranesbill', 'Black-grass', 'Black-grass', 'Maize',\n",
              "       'Common Chickweed', 'Common Chickweed', 'Charlock', 'Maize',\n",
              "       'Sugar beet', 'Sugar beet', 'Common wheat', 'Shepherds Purse',\n",
              "       'Charlock', 'Common wheat', 'Fat Hen', 'Charlock', 'Fat Hen',\n",
              "       'Scentless Mayweed', 'Common wheat', 'Loose Silky-bent',\n",
              "       'Common wheat', 'Black-grass', 'Common wheat', 'Loose Silky-bent',\n",
              "       'Maize', 'Loose Silky-bent', 'Charlock', 'Common Chickweed',\n",
              "       'Sugar beet', 'Loose Silky-bent', 'Small-flowered Cranesbill',\n",
              "       'Maize', 'Black-grass', 'Fat Hen', 'Black-grass',\n",
              "       'Shepherds Purse', 'Common Chickweed', 'Charlock',\n",
              "       'Scentless Mayweed', 'Sugar beet', 'Cleavers', 'Loose Silky-bent',\n",
              "       'Charlock', 'Small-flowered Cranesbill', 'Loose Silky-bent',\n",
              "       'Charlock', 'Common Chickweed', 'Loose Silky-bent', 'Fat Hen',\n",
              "       'Sugar beet', 'Loose Silky-bent', 'Black-grass', 'Charlock',\n",
              "       'Scentless Mayweed', 'Loose Silky-bent', 'Black-grass', 'Charlock',\n",
              "       'Common Chickweed', 'Scentless Mayweed', 'Loose Silky-bent',\n",
              "       'Shepherds Purse', 'Charlock', 'Sugar beet', 'Loose Silky-bent',\n",
              "       'Black-grass', 'Common Chickweed', 'Shepherds Purse',\n",
              "       'Small-flowered Cranesbill', 'Sugar beet', 'Charlock',\n",
              "       'Loose Silky-bent', 'Shepherds Purse', 'Scentless Mayweed',\n",
              "       'Common Chickweed', 'Maize', 'Charlock', 'Charlock',\n",
              "       'Loose Silky-bent', 'Small-flowered Cranesbill', 'Cleavers',\n",
              "       'Cleavers', 'Black-grass', 'Common Chickweed', 'Charlock',\n",
              "       'Scentless Mayweed', 'Black-grass', 'Cleavers',\n",
              "       'Scentless Mayweed', 'Charlock', 'Small-flowered Cranesbill',\n",
              "       'Common Chickweed', 'Common Chickweed',\n",
              "       'Small-flowered Cranesbill', 'Loose Silky-bent', 'Shepherds Purse',\n",
              "       'Loose Silky-bent', 'Sugar beet', 'Charlock', 'Common Chickweed',\n",
              "       'Sugar beet', 'Loose Silky-bent', 'Scentless Mayweed',\n",
              "       'Shepherds Purse', 'Fat Hen', 'Cleavers', 'Common Chickweed',\n",
              "       'Scentless Mayweed', 'Scentless Mayweed', 'Scentless Mayweed',\n",
              "       'Black-grass', 'Small-flowered Cranesbill', 'Scentless Mayweed',\n",
              "       'Fat Hen', 'Charlock', 'Sugar beet', 'Black-grass',\n",
              "       'Loose Silky-bent', 'Common wheat', 'Charlock',\n",
              "       'Scentless Mayweed', 'Cleavers', 'Black-grass', 'Fat Hen',\n",
              "       'Fat Hen', 'Loose Silky-bent', 'Common Chickweed', 'Maize',\n",
              "       'Black-grass', 'Fat Hen', 'Small-flowered Cranesbill',\n",
              "       'Common Chickweed', 'Charlock', 'Common Chickweed',\n",
              "       'Small-flowered Cranesbill', 'Scentless Mayweed', 'Maize',\n",
              "       'Fat Hen', 'Charlock', 'Small-flowered Cranesbill',\n",
              "       'Scentless Mayweed', 'Fat Hen', 'Sugar beet',\n",
              "       'Small-flowered Cranesbill', 'Shepherds Purse', 'Fat Hen',\n",
              "       'Scentless Mayweed', 'Common wheat', 'Shepherds Purse',\n",
              "       'Loose Silky-bent', 'Charlock', 'Common Chickweed', 'Fat Hen',\n",
              "       'Scentless Mayweed', 'Fat Hen', 'Small-flowered Cranesbill',\n",
              "       'Common Chickweed', 'Cleavers', 'Scentless Mayweed',\n",
              "       'Common Chickweed', 'Fat Hen', 'Small-flowered Cranesbill',\n",
              "       'Sugar beet', 'Scentless Mayweed', 'Small-flowered Cranesbill',\n",
              "       'Common Chickweed', 'Sugar beet', 'Sugar beet',\n",
              "       'Small-flowered Cranesbill', 'Small-flowered Cranesbill',\n",
              "       'Common wheat', 'Common wheat', 'Black-grass', 'Fat Hen',\n",
              "       'Small-flowered Cranesbill', 'Small-flowered Cranesbill',\n",
              "       'Loose Silky-bent', 'Sugar beet', 'Common Chickweed', 'Cleavers',\n",
              "       'Fat Hen', 'Black-grass', 'Common wheat', 'Sugar beet', 'Maize',\n",
              "       'Charlock', 'Charlock', 'Common wheat', 'Common Chickweed',\n",
              "       'Shepherds Purse', 'Charlock', 'Black-grass', 'Scentless Mayweed',\n",
              "       'Shepherds Purse', 'Common Chickweed', 'Cleavers',\n",
              "       'Small-flowered Cranesbill', 'Loose Silky-bent',\n",
              "       'Scentless Mayweed', 'Common Chickweed', 'Scentless Mayweed',\n",
              "       'Shepherds Purse', 'Common Chickweed', 'Loose Silky-bent',\n",
              "       'Small-flowered Cranesbill', 'Loose Silky-bent',\n",
              "       'Common Chickweed', 'Black-grass', 'Loose Silky-bent',\n",
              "       'Sugar beet', 'Loose Silky-bent', 'Scentless Mayweed', 'Cleavers',\n",
              "       'Fat Hen', 'Small-flowered Cranesbill', 'Charlock'], dtype='<U25')"
            ]
          },
          "metadata": {
            "tags": []
          },
          "execution_count": 39
        }
      ]
    },
    {
      "cell_type": "code",
      "metadata": {
        "id": "EdfDV_Esnbz9",
        "colab_type": "code",
        "colab": {}
      },
      "source": [
        "import pandas as pd\n",
        "submission = pd.DataFrame(columns = ['file', 'species'])\n",
        "file_list = []\n",
        "os.chdir(project_path+'test/')\n",
        "for i in os.listdir():\n",
        "  file_list.append(i)\n",
        "submission['file'] = file_list\n",
        "submission['species'] = y_pred_transform"
      ],
      "execution_count": 0,
      "outputs": []
    },
    {
      "cell_type": "code",
      "metadata": {
        "id": "KgECpVj_mehy",
        "colab_type": "code",
        "colab": {
          "base_uri": "https://localhost:8080/",
          "height": 204
        },
        "outputId": "8b6b8348-85f7-4d91-e680-cfc35c43461e"
      },
      "source": [
        "submission.head(5)\n"
      ],
      "execution_count": 42,
      "outputs": [
        {
          "output_type": "execute_result",
          "data": {
            "text/html": [
              "<div>\n",
              "<style scoped>\n",
              "    .dataframe tbody tr th:only-of-type {\n",
              "        vertical-align: middle;\n",
              "    }\n",
              "\n",
              "    .dataframe tbody tr th {\n",
              "        vertical-align: top;\n",
              "    }\n",
              "\n",
              "    .dataframe thead th {\n",
              "        text-align: right;\n",
              "    }\n",
              "</style>\n",
              "<table border=\"1\" class=\"dataframe\">\n",
              "  <thead>\n",
              "    <tr style=\"text-align: right;\">\n",
              "      <th></th>\n",
              "      <th>file</th>\n",
              "      <th>species</th>\n",
              "    </tr>\n",
              "  </thead>\n",
              "  <tbody>\n",
              "    <tr>\n",
              "      <th>0</th>\n",
              "      <td>c0461776c.png</td>\n",
              "      <td>Common Chickweed</td>\n",
              "    </tr>\n",
              "    <tr>\n",
              "      <th>1</th>\n",
              "      <td>4bbfd1e05.png</td>\n",
              "      <td>Cleavers</td>\n",
              "    </tr>\n",
              "    <tr>\n",
              "      <th>2</th>\n",
              "      <td>1d0cbd819.png</td>\n",
              "      <td>Loose Silky-bent</td>\n",
              "    </tr>\n",
              "    <tr>\n",
              "      <th>3</th>\n",
              "      <td>93079d970.png</td>\n",
              "      <td>Sugar beet</td>\n",
              "    </tr>\n",
              "    <tr>\n",
              "      <th>4</th>\n",
              "      <td>856f2910a.png</td>\n",
              "      <td>Small-flowered Cranesbill</td>\n",
              "    </tr>\n",
              "  </tbody>\n",
              "</table>\n",
              "</div>"
            ],
            "text/plain": [
              "            file                    species\n",
              "0  c0461776c.png           Common Chickweed\n",
              "1  4bbfd1e05.png                   Cleavers\n",
              "2  1d0cbd819.png           Loose Silky-bent\n",
              "3  93079d970.png                 Sugar beet\n",
              "4  856f2910a.png  Small-flowered Cranesbill"
            ]
          },
          "metadata": {
            "tags": []
          },
          "execution_count": 42
        }
      ]
    },
    {
      "cell_type": "code",
      "metadata": {
        "id": "BF1AViLXmgjU",
        "colab_type": "code",
        "colab": {}
      },
      "source": [
        "os.chdir(project_path)\n",
        "submission.to_csv('Score.csv', index = False)"
      ],
      "execution_count": 0,
      "outputs": []
    },
    {
      "cell_type": "markdown",
      "metadata": {
        "id": "26rvzLoCq8LR",
        "colab_type": "text"
      },
      "source": [
        "Kaggle Submission score : 0.89168"
      ]
    },
    {
      "cell_type": "code",
      "metadata": {
        "id": "rQ5898euq_MS",
        "colab_type": "code",
        "colab": {}
      },
      "source": [
        ""
      ],
      "execution_count": 0,
      "outputs": []
    }
  ]
}