{
  "nbformat": 4,
  "nbformat_minor": 0,
  "metadata": {
    "colab": {
      "name": "R6_InternalLab_AIML.ipynb",
      "version": "0.3.2",
      "provenance": [],
      "collapsed_sections": [
        "YJRBuqXhOB7_",
        "goYpCkF3VB1w"
      ]
    },
    "kernelspec": {
      "name": "python2",
      "display_name": "Python 2"
    },
    "accelerator": "GPU"
  },
  "cells": [
    {
      "metadata": {
        "colab_type": "text",
        "id": "sb7Epo0VOB58"
      },
      "cell_type": "markdown",
      "source": [
        "### Load tensorflow"
      ]
    },
    {
      "metadata": {
        "colab_type": "code",
        "id": "fHpCNRv1OB5-",
        "colab": {}
      },
      "cell_type": "code",
      "source": [
        "import tensorflow as tf"
      ],
      "execution_count": 0,
      "outputs": []
    },
    {
      "metadata": {
        "colab_type": "code",
        "id": "tnSsH8sNOB6F",
        "slideshow": {
          "slide_type": "fragment"
        },
        "colab": {}
      },
      "cell_type": "code",
      "source": [
        "#Reset Default graph - Needed only for Jupyter notebook\n",
        "tf.reset_default_graph()\n",
        "tf.set_random_seed = 40\n"
      ],
      "execution_count": 0,
      "outputs": []
    },
    {
      "metadata": {
        "colab_type": "text",
        "id": "DxJDmJqqOB6K",
        "slideshow": {
          "slide_type": "slide"
        }
      },
      "cell_type": "markdown",
      "source": [
        "### Collect Data"
      ]
    },
    {
      "metadata": {
        "colab_type": "code",
        "id": "FhllFLyKOB6N",
        "colab": {}
      },
      "cell_type": "code",
      "source": [
        "import pandas as pd"
      ],
      "execution_count": 0,
      "outputs": []
    },
    {
      "metadata": {
        "colab_type": "code",
        "id": "B4yQKMiJOB6R",
        "outputId": "bdefa1db-a49c-4244-8e47-f1290776d16a",
        "colab": {
          "base_uri": "https://localhost:8080/",
          "height": 34
        }
      },
      "cell_type": "code",
      "source": [
        "from google.colab import drive\n",
        "drive.mount('/content/drive')\n"
      ],
      "execution_count": 26,
      "outputs": [
        {
          "output_type": "stream",
          "text": [
            "Drive already mounted at /content/drive; to attempt to forcibly remount, call drive.mount(\"/content/drive\", force_remount=True).\n"
          ],
          "name": "stdout"
        }
      ]
    },
    {
      "metadata": {
        "id": "k3aCOl0WYBYz",
        "colab_type": "code",
        "colab": {}
      },
      "cell_type": "code",
      "source": [
        "data = pd.read_csv('/content/drive/My Drive/deep learning/R6_Internal_lab/prices.csv')"
      ],
      "execution_count": 0,
      "outputs": []
    },
    {
      "metadata": {
        "colab_type": "text",
        "id": "fgkX6SEqOB6W"
      },
      "cell_type": "markdown",
      "source": [
        "### Check all columns in the dataset"
      ]
    },
    {
      "metadata": {
        "id": "1uSnPoTTX66F",
        "colab_type": "code",
        "outputId": "1e08d353-9413-4c05-b801-8eaa56ba7a5e",
        "colab": {
          "base_uri": "https://localhost:8080/",
          "height": 204
        }
      },
      "cell_type": "code",
      "source": [
        "data.head()"
      ],
      "execution_count": 28,
      "outputs": [
        {
          "output_type": "execute_result",
          "data": {
            "text/html": [
              "<div>\n",
              "<style scoped>\n",
              "    .dataframe tbody tr th:only-of-type {\n",
              "        vertical-align: middle;\n",
              "    }\n",
              "\n",
              "    .dataframe tbody tr th {\n",
              "        vertical-align: top;\n",
              "    }\n",
              "\n",
              "    .dataframe thead th {\n",
              "        text-align: right;\n",
              "    }\n",
              "</style>\n",
              "<table border=\"1\" class=\"dataframe\">\n",
              "  <thead>\n",
              "    <tr style=\"text-align: right;\">\n",
              "      <th></th>\n",
              "      <th>date</th>\n",
              "      <th>symbol</th>\n",
              "      <th>open</th>\n",
              "      <th>close</th>\n",
              "      <th>low</th>\n",
              "      <th>high</th>\n",
              "      <th>volume</th>\n",
              "    </tr>\n",
              "  </thead>\n",
              "  <tbody>\n",
              "    <tr>\n",
              "      <th>0</th>\n",
              "      <td>2016-01-05 00:00:00</td>\n",
              "      <td>WLTW</td>\n",
              "      <td>123.430000</td>\n",
              "      <td>125.839996</td>\n",
              "      <td>122.309998</td>\n",
              "      <td>126.250000</td>\n",
              "      <td>2163600.0</td>\n",
              "    </tr>\n",
              "    <tr>\n",
              "      <th>1</th>\n",
              "      <td>2016-01-06 00:00:00</td>\n",
              "      <td>WLTW</td>\n",
              "      <td>125.239998</td>\n",
              "      <td>119.980003</td>\n",
              "      <td>119.940002</td>\n",
              "      <td>125.540001</td>\n",
              "      <td>2386400.0</td>\n",
              "    </tr>\n",
              "    <tr>\n",
              "      <th>2</th>\n",
              "      <td>2016-01-07 00:00:00</td>\n",
              "      <td>WLTW</td>\n",
              "      <td>116.379997</td>\n",
              "      <td>114.949997</td>\n",
              "      <td>114.930000</td>\n",
              "      <td>119.739998</td>\n",
              "      <td>2489500.0</td>\n",
              "    </tr>\n",
              "    <tr>\n",
              "      <th>3</th>\n",
              "      <td>2016-01-08 00:00:00</td>\n",
              "      <td>WLTW</td>\n",
              "      <td>115.480003</td>\n",
              "      <td>116.620003</td>\n",
              "      <td>113.500000</td>\n",
              "      <td>117.440002</td>\n",
              "      <td>2006300.0</td>\n",
              "    </tr>\n",
              "    <tr>\n",
              "      <th>4</th>\n",
              "      <td>2016-01-11 00:00:00</td>\n",
              "      <td>WLTW</td>\n",
              "      <td>117.010002</td>\n",
              "      <td>114.970001</td>\n",
              "      <td>114.089996</td>\n",
              "      <td>117.330002</td>\n",
              "      <td>1408600.0</td>\n",
              "    </tr>\n",
              "  </tbody>\n",
              "</table>\n",
              "</div>"
            ],
            "text/plain": [
              "                  date symbol        open       close         low        high  \\\n",
              "0  2016-01-05 00:00:00   WLTW  123.430000  125.839996  122.309998  126.250000   \n",
              "1  2016-01-06 00:00:00   WLTW  125.239998  119.980003  119.940002  125.540001   \n",
              "2  2016-01-07 00:00:00   WLTW  116.379997  114.949997  114.930000  119.739998   \n",
              "3  2016-01-08 00:00:00   WLTW  115.480003  116.620003  113.500000  117.440002   \n",
              "4  2016-01-11 00:00:00   WLTW  117.010002  114.970001  114.089996  117.330002   \n",
              "\n",
              "      volume  \n",
              "0  2163600.0  \n",
              "1  2386400.0  \n",
              "2  2489500.0  \n",
              "3  2006300.0  \n",
              "4  1408600.0  "
            ]
          },
          "metadata": {
            "tags": []
          },
          "execution_count": 28
        }
      ]
    },
    {
      "metadata": {
        "colab_type": "code",
        "id": "7K8pWsNQOB6X",
        "outputId": "f46b7a27-8259-4d43-9ae2-b9f21e6de018",
        "colab": {
          "base_uri": "https://localhost:8080/",
          "height": 153
        }
      },
      "cell_type": "code",
      "source": [
        "data.dtypes"
      ],
      "execution_count": 29,
      "outputs": [
        {
          "output_type": "execute_result",
          "data": {
            "text/plain": [
              "date       object\n",
              "symbol     object\n",
              "open      float64\n",
              "close     float64\n",
              "low       float64\n",
              "high      float64\n",
              "volume    float64\n",
              "dtype: object"
            ]
          },
          "metadata": {
            "tags": []
          },
          "execution_count": 29
        }
      ]
    },
    {
      "metadata": {
        "id": "kR3elPGeaXqs",
        "colab_type": "code",
        "outputId": "9df67212-30c0-4862-8d15-611887615620",
        "colab": {
          "base_uri": "https://localhost:8080/",
          "height": 221
        }
      },
      "cell_type": "code",
      "source": [
        "data.info()"
      ],
      "execution_count": 30,
      "outputs": [
        {
          "output_type": "stream",
          "text": [
            "<class 'pandas.core.frame.DataFrame'>\n",
            "RangeIndex: 851264 entries, 0 to 851263\n",
            "Data columns (total 7 columns):\n",
            "date      851264 non-null object\n",
            "symbol    851264 non-null object\n",
            "open      851264 non-null float64\n",
            "close     851264 non-null float64\n",
            "low       851264 non-null float64\n",
            "high      851264 non-null float64\n",
            "volume    851264 non-null float64\n",
            "dtypes: float64(5), object(2)\n",
            "memory usage: 45.5+ MB\n"
          ],
          "name": "stdout"
        }
      ]
    },
    {
      "metadata": {
        "colab_type": "text",
        "id": "7dU6X7MpOB6c"
      },
      "cell_type": "markdown",
      "source": [
        "### Drop columns `date` and  `symbol`"
      ]
    },
    {
      "metadata": {
        "colab_type": "code",
        "id": "lh_6spSKOB6e",
        "colab": {}
      },
      "cell_type": "code",
      "source": [
        "columns = ['date','symbol']\n",
        "data.drop(columns,axis=1,inplace=True)"
      ],
      "execution_count": 0,
      "outputs": []
    },
    {
      "metadata": {
        "colab_type": "code",
        "id": "xlwbUgTwOB6i",
        "outputId": "37a5baf5-2351-4b18-b317-b2f76de73a45",
        "colab": {
          "base_uri": "https://localhost:8080/",
          "height": 204
        }
      },
      "cell_type": "code",
      "source": [
        "data.head()"
      ],
      "execution_count": 32,
      "outputs": [
        {
          "output_type": "execute_result",
          "data": {
            "text/html": [
              "<div>\n",
              "<style scoped>\n",
              "    .dataframe tbody tr th:only-of-type {\n",
              "        vertical-align: middle;\n",
              "    }\n",
              "\n",
              "    .dataframe tbody tr th {\n",
              "        vertical-align: top;\n",
              "    }\n",
              "\n",
              "    .dataframe thead th {\n",
              "        text-align: right;\n",
              "    }\n",
              "</style>\n",
              "<table border=\"1\" class=\"dataframe\">\n",
              "  <thead>\n",
              "    <tr style=\"text-align: right;\">\n",
              "      <th></th>\n",
              "      <th>open</th>\n",
              "      <th>close</th>\n",
              "      <th>low</th>\n",
              "      <th>high</th>\n",
              "      <th>volume</th>\n",
              "    </tr>\n",
              "  </thead>\n",
              "  <tbody>\n",
              "    <tr>\n",
              "      <th>0</th>\n",
              "      <td>123.430000</td>\n",
              "      <td>125.839996</td>\n",
              "      <td>122.309998</td>\n",
              "      <td>126.250000</td>\n",
              "      <td>2163600.0</td>\n",
              "    </tr>\n",
              "    <tr>\n",
              "      <th>1</th>\n",
              "      <td>125.239998</td>\n",
              "      <td>119.980003</td>\n",
              "      <td>119.940002</td>\n",
              "      <td>125.540001</td>\n",
              "      <td>2386400.0</td>\n",
              "    </tr>\n",
              "    <tr>\n",
              "      <th>2</th>\n",
              "      <td>116.379997</td>\n",
              "      <td>114.949997</td>\n",
              "      <td>114.930000</td>\n",
              "      <td>119.739998</td>\n",
              "      <td>2489500.0</td>\n",
              "    </tr>\n",
              "    <tr>\n",
              "      <th>3</th>\n",
              "      <td>115.480003</td>\n",
              "      <td>116.620003</td>\n",
              "      <td>113.500000</td>\n",
              "      <td>117.440002</td>\n",
              "      <td>2006300.0</td>\n",
              "    </tr>\n",
              "    <tr>\n",
              "      <th>4</th>\n",
              "      <td>117.010002</td>\n",
              "      <td>114.970001</td>\n",
              "      <td>114.089996</td>\n",
              "      <td>117.330002</td>\n",
              "      <td>1408600.0</td>\n",
              "    </tr>\n",
              "  </tbody>\n",
              "</table>\n",
              "</div>"
            ],
            "text/plain": [
              "         open       close         low        high     volume\n",
              "0  123.430000  125.839996  122.309998  126.250000  2163600.0\n",
              "1  125.239998  119.980003  119.940002  125.540001  2386400.0\n",
              "2  116.379997  114.949997  114.930000  119.739998  2489500.0\n",
              "3  115.480003  116.620003  113.500000  117.440002  2006300.0\n",
              "4  117.010002  114.970001  114.089996  117.330002  1408600.0"
            ]
          },
          "metadata": {
            "tags": []
          },
          "execution_count": 32
        }
      ]
    },
    {
      "metadata": {
        "colab_type": "text",
        "id": "3DBv3WWYOB6q"
      },
      "cell_type": "markdown",
      "source": [
        "### Consider only first 1000 rows in the dataset for building feature set and target set"
      ]
    },
    {
      "metadata": {
        "colab_type": "code",
        "id": "Z_hG9rGBOB6s",
        "colab": {}
      },
      "cell_type": "code",
      "source": [
        "data = data.head(1000)"
      ],
      "execution_count": 0,
      "outputs": []
    },
    {
      "metadata": {
        "colab_type": "text",
        "id": "M3UaApqYOB6x"
      },
      "cell_type": "markdown",
      "source": [
        "### Divide the data into train and test sets"
      ]
    },
    {
      "metadata": {
        "colab_type": "code",
        "id": "2EkKAy7fOB6y",
        "colab": {}
      },
      "cell_type": "code",
      "source": [
        "from sklearn.model_selection import train_test_split\n",
        "X= data.drop(\"close\",axis=1)\n",
        "y= data.close\n",
        "X_train, X_test, y_train, y_test = train_test_split(X,y,test_size = 0.3,random_state = 5)"
      ],
      "execution_count": 0,
      "outputs": []
    },
    {
      "metadata": {
        "id": "cTag_N8VKbMD",
        "colab_type": "code",
        "colab": {
          "base_uri": "https://localhost:8080/",
          "height": 34
        },
        "outputId": "4e73177d-cd13-4cdc-f376-86add62a845b"
      },
      "cell_type": "code",
      "source": [
        "y_test = pd.DataFrame(y_test)\n",
        "y_test.shape"
      ],
      "execution_count": 35,
      "outputs": [
        {
          "output_type": "execute_result",
          "data": {
            "text/plain": [
              "(300, 1)"
            ]
          },
          "metadata": {
            "tags": []
          },
          "execution_count": 35
        }
      ]
    },
    {
      "metadata": {
        "id": "bG88Opy0MvsK",
        "colab_type": "code",
        "colab": {
          "base_uri": "https://localhost:8080/",
          "height": 34
        },
        "outputId": "49d635b6-a903-4683-e8ac-ad9fe6e43dd9"
      },
      "cell_type": "code",
      "source": [
        "y_train = pd.DataFrame(y_train)\n",
        "y_train.shape"
      ],
      "execution_count": 36,
      "outputs": [
        {
          "output_type": "execute_result",
          "data": {
            "text/plain": [
              "(700, 1)"
            ]
          },
          "metadata": {
            "tags": []
          },
          "execution_count": 36
        }
      ]
    },
    {
      "metadata": {
        "colab_type": "text",
        "id": "v6vE4eYCOB62",
        "slideshow": {
          "slide_type": "slide"
        }
      },
      "cell_type": "markdown",
      "source": [
        "## Building the graph in tensorflow"
      ]
    },
    {
      "metadata": {
        "colab_type": "text",
        "id": "xK0zBd1VOB64",
        "slideshow": {
          "slide_type": "slide"
        }
      },
      "cell_type": "markdown",
      "source": [
        "1.Define input data placeholders"
      ]
    },
    {
      "metadata": {
        "colab_type": "code",
        "id": "JDrYlWTuOB66",
        "colab": {}
      },
      "cell_type": "code",
      "source": [
        "#Input features\n",
        "x = tf.placeholder(shape=[None,4],dtype=tf.float32, name='x-input')\n",
        "\n"
      ],
      "execution_count": 0,
      "outputs": []
    },
    {
      "metadata": {
        "id": "bQs6LhQig-Rh",
        "colab_type": "code",
        "colab": {}
      },
      "cell_type": "code",
      "source": [
        "#Normalize the data\n",
        "x_n = tf.layers.batch_normalization(x,training=True)\n",
        "\n",
        "#Actual Prices\n",
        "y_ = tf.placeholder(shape=[None,1],dtype=tf.float32, name='y-input')"
      ],
      "execution_count": 0,
      "outputs": []
    },
    {
      "metadata": {
        "colab_type": "text",
        "id": "297_qja4OB7A",
        "slideshow": {
          "slide_type": "slide"
        }
      },
      "cell_type": "markdown",
      "source": [
        "2.Define Weights and Bias"
      ]
    },
    {
      "metadata": {
        "id": "Pnu4yzxvg9n5",
        "colab_type": "code",
        "colab": {}
      },
      "cell_type": "code",
      "source": [
        "W = tf.Variable(tf.zeros(shape=[4,1]), name=\"Weights\")\n",
        "b = tf.Variable(tf.zeros(shape=[1]),name=\"Bias\")"
      ],
      "execution_count": 0,
      "outputs": []
    },
    {
      "metadata": {
        "colab_type": "text",
        "id": "HgtWA-UIOB7F",
        "slideshow": {
          "slide_type": "slide"
        }
      },
      "cell_type": "markdown",
      "source": [
        "3.Prediction"
      ]
    },
    {
      "metadata": {
        "colab_type": "code",
        "id": "JveGlx25OB7H",
        "colab": {}
      },
      "cell_type": "code",
      "source": [
        "#We will use normalized data\n",
        "#y = tf.add(tf.matmul(x,W),b,name='output')\n",
        "y = tf.add(tf.matmul(x_n,W),b,name='output')"
      ],
      "execution_count": 0,
      "outputs": []
    },
    {
      "metadata": {
        "colab_type": "text",
        "id": "TL1hIwf_OB7M",
        "slideshow": {
          "slide_type": "slide"
        }
      },
      "cell_type": "markdown",
      "source": [
        "4.Loss (Cost) Function [Mean square error]"
      ]
    },
    {
      "metadata": {
        "colab_type": "code",
        "id": "8VSWPiGXOB7P",
        "colab": {}
      },
      "cell_type": "code",
      "source": [
        "loss = tf.reduce_mean(tf.square(y-y_),name='Loss')"
      ],
      "execution_count": 0,
      "outputs": []
    },
    {
      "metadata": {
        "colab_type": "text",
        "id": "jzG85FUlOB7U",
        "slideshow": {
          "slide_type": "slide"
        }
      },
      "cell_type": "markdown",
      "source": [
        "5.GradientDescent Optimizer to minimize Loss [GradientDescentOptimizer]"
      ]
    },
    {
      "metadata": {
        "colab_type": "code",
        "id": "cj802w-3OB7X",
        "colab": {}
      },
      "cell_type": "code",
      "source": [
        "train_op = tf.train.GradientDescentOptimizer(0.003).minimize(loss)"
      ],
      "execution_count": 0,
      "outputs": []
    },
    {
      "metadata": {
        "colab_type": "text",
        "id": "xSypb_u8OB7e",
        "slideshow": {
          "slide_type": "slide"
        }
      },
      "cell_type": "markdown",
      "source": [
        "## Execute the Graph for 100 epochs and observe the loss"
      ]
    },
    {
      "metadata": {
        "colab_type": "code",
        "id": "DVvgj7eQOB7f",
        "colab": {}
      },
      "cell_type": "code",
      "source": [
        "#Lets start graph Execution\n",
        "sess = tf.Session()\n",
        "\n",
        "# variables need to be initialized before we can use them\n",
        "sess.run(tf.global_variables_initializer())\n",
        "\n",
        "#how many times data need to be shown to model\n",
        "training_epochs = 100"
      ],
      "execution_count": 0,
      "outputs": []
    },
    {
      "metadata": {
        "id": "vdl0dh_XMiaN",
        "colab_type": "code",
        "colab": {
          "base_uri": "https://localhost:8080/",
          "height": 34
        },
        "outputId": "bf2ea2f6-3d03-4595-bd7f-1b50729bd8a8"
      },
      "cell_type": "code",
      "source": [
        "y_train.shape"
      ],
      "execution_count": 44,
      "outputs": [
        {
          "output_type": "execute_result",
          "data": {
            "text/plain": [
              "(700, 1)"
            ]
          },
          "metadata": {
            "tags": []
          },
          "execution_count": 44
        }
      ]
    },
    {
      "metadata": {
        "colab_type": "code",
        "id": "9smwOW-1OB7k",
        "outputId": "e91f3a53-ec8c-45dd-b4a2-54641d97067b",
        "colab": {
          "base_uri": "https://localhost:8080/",
          "height": 187
        }
      },
      "cell_type": "code",
      "source": [
        "for epoch in range(training_epochs):\n",
        "            \n",
        "    #Calculate train_op and loss\n",
        "    _, train_loss = sess.run([train_op,loss],feed_dict={x:X_train, \n",
        "                                                        y_:y_train})\n",
        "    \n",
        "    if epoch % 10 == 0:\n",
        "        print ('Training loss at step: ', epoch, ' is ', train_loss)"
      ],
      "execution_count": 45,
      "outputs": [
        {
          "output_type": "stream",
          "text": [
            "('Training loss at step: ', 0, ' is ', 7946.0557)\n",
            "('Training loss at step: ', 10, ' is ', 1.8029771)\n",
            "('Training loss at step: ', 20, ' is ', 0.7103872)\n",
            "('Training loss at step: ', 30, ' is ', 0.673917)\n",
            "('Training loss at step: ', 40, ' is ', 0.64368767)\n",
            "('Training loss at step: ', 50, ' is ', 0.6183752)\n",
            "('Training loss at step: ', 60, ' is ', 0.5969869)\n",
            "('Training loss at step: ', 70, ' is ', 0.5787726)\n",
            "('Training loss at step: ', 80, ' is ', 0.56314975)\n",
            "('Training loss at step: ', 90, ' is ', 0.54966605)\n"
          ],
          "name": "stdout"
        }
      ]
    },
    {
      "metadata": {
        "id": "3WOhUDbzqMVJ",
        "colab_type": "code",
        "outputId": "cf61ab5a-4f1c-4bc3-801b-c1ad77fae906",
        "colab": {
          "base_uri": "https://localhost:8080/",
          "height": 34
        }
      },
      "cell_type": "code",
      "source": [
        "X_train.shape"
      ],
      "execution_count": 46,
      "outputs": [
        {
          "output_type": "execute_result",
          "data": {
            "text/plain": [
              "(700, 4)"
            ]
          },
          "metadata": {
            "tags": []
          },
          "execution_count": 46
        }
      ]
    },
    {
      "metadata": {
        "colab_type": "code",
        "id": "9JuLI6bSOB7n",
        "outputId": "6a4b14af-1ca1-4686-95fc-32f370241e7a",
        "colab": {
          "base_uri": "https://localhost:8080/",
          "height": 187
        }
      },
      "cell_type": "code",
      "source": [
        "\n",
        "for epoch in range(100):\n",
        "            \n",
        "    #Calculate train_op and loss\n",
        "    _, test_loss = sess.run([train_op,loss],feed_dict={x:X_test, \n",
        "                                                        y_:y_test})\n",
        "    \n",
        "    if epoch % 10 == 0:\n",
        "        print ('Training loss at step: ', epoch, ' is ', test_loss)"
      ],
      "execution_count": 47,
      "outputs": [
        {
          "output_type": "stream",
          "text": [
            "('Training loss at step: ', 0, ' is ', 5.6145782)\n",
            "('Training loss at step: ', 10, ' is ', 0.42224005)\n",
            "('Training loss at step: ', 20, ' is ', 0.41516948)\n",
            "('Training loss at step: ', 30, ' is ', 0.40894142)\n",
            "('Training loss at step: ', 40, ' is ', 0.40343666)\n",
            "('Training loss at step: ', 50, ' is ', 0.3985586)\n",
            "('Training loss at step: ', 60, ' is ', 0.39422303)\n",
            "('Training loss at step: ', 70, ' is ', 0.3903603)\n",
            "('Training loss at step: ', 80, ' is ', 0.3869119)\n",
            "('Training loss at step: ', 90, ' is ', 0.3838277)\n"
          ],
          "name": "stdout"
        }
      ]
    },
    {
      "metadata": {
        "colab_type": "text",
        "id": "DOL2ncA1OB7q"
      },
      "cell_type": "markdown",
      "source": [
        "### Get the shapes and values of W and b\n",
        "\n",
        "Hint: Use sess.run(W) to get W."
      ]
    },
    {
      "metadata": {
        "colab_type": "code",
        "id": "ZGvtyTeuOB7r",
        "outputId": "20203641-eab8-4c42-fc1f-e393721e2158",
        "colab": {
          "base_uri": "https://localhost:8080/",
          "height": 102
        }
      },
      "cell_type": "code",
      "source": [
        "print(sess.run(W))\n",
        "print(sess.run(W).shape)"
      ],
      "execution_count": 48,
      "outputs": [
        {
          "output_type": "stream",
          "text": [
            "[[ 5.288594  ]\n",
            " [ 5.3056335 ]\n",
            " [ 5.3091273 ]\n",
            " [-0.18218978]]\n",
            "(4, 1)\n"
          ],
          "name": "stdout"
        }
      ]
    },
    {
      "metadata": {
        "colab_type": "code",
        "id": "vhDtOv5UOB7x",
        "outputId": "e262eb01-1f32-4308-f085-ea4c8c70e646",
        "colab": {
          "base_uri": "https://localhost:8080/",
          "height": 51
        }
      },
      "cell_type": "code",
      "source": [
        "print(sess.run(b))\n",
        "print(sess.run(b).shape)"
      ],
      "execution_count": 49,
      "outputs": [
        {
          "output_type": "stream",
          "text": [
            "[2.6861594]\n",
            "(1,)\n"
          ],
          "name": "stdout"
        }
      ]
    },
    {
      "metadata": {
        "colab_type": "text",
        "id": "SZqKUEFsOB71"
      },
      "cell_type": "markdown",
      "source": [
        "### Find the Absolute mean square loss difference between training and testing loss."
      ]
    },
    {
      "metadata": {
        "colab_type": "code",
        "id": "97t-grQgOB71",
        "outputId": "47268568-6b91-4d7b-97c7-251ae8e178d3",
        "colab": {
          "base_uri": "https://localhost:8080/",
          "height": 34
        }
      },
      "cell_type": "code",
      "source": [
        "import numpy as np\n",
        "\n",
        "np.absolute(train_loss-test_loss)"
      ],
      "execution_count": 50,
      "outputs": [
        {
          "output_type": "execute_result",
          "data": {
            "text/plain": [
              "0.15773928"
            ]
          },
          "metadata": {
            "tags": []
          },
          "execution_count": 50
        }
      ]
    },
    {
      "metadata": {
        "colab_type": "text",
        "id": "YJRBuqXhOB7_"
      },
      "cell_type": "markdown",
      "source": [
        "### Linear Classification using Keras"
      ]
    },
    {
      "metadata": {
        "colab_type": "text",
        "id": "8GoNTWXAOB8C",
        "slideshow": {
          "slide_type": "slide"
        }
      },
      "cell_type": "markdown",
      "source": [
        "### Building the simple Neural Network in Keras with one neuron in the dense hidden layer.\n",
        "#### Use Mean square error as loss function and sgd as optimizer"
      ]
    },
    {
      "metadata": {
        "colab_type": "code",
        "id": "zpeL5rCTOB8D",
        "colab": {}
      },
      "cell_type": "code",
      "source": [
        "model = tf.keras.models.Sequential()\n",
        "\n",
        "model.add(tf.keras.layers.BatchNormalization(input_shape=(4,)))\n",
        "\n",
        "model.add(tf.keras.layers.Dense(1))\n",
        "sgd_optimizer = tf.keras.optimizers.SGD(lr=0.05,clipnorm=1)\n",
        "\n",
        "#Compile the model - add Loss and Gradient Descent optimizer\n",
        "model.compile(optimizer=sgd_optimizer, loss='mse')"
      ],
      "execution_count": 0,
      "outputs": []
    },
    {
      "metadata": {
        "colab_type": "text",
        "id": "Wt-HYFMEOB8G",
        "slideshow": {
          "slide_type": "slide"
        }
      },
      "cell_type": "markdown",
      "source": [
        "### Execute the model"
      ]
    },
    {
      "metadata": {
        "colab_type": "code",
        "id": "66JGJt7GOB8H",
        "outputId": "7e42ba05-5c22-4a7d-98f3-a064100dcf63",
        "colab": {
          "base_uri": "https://localhost:8080/",
          "height": 3434
        }
      },
      "cell_type": "code",
      "source": [
        "model.fit(X_train, y_train, epochs=100)\n"
      ],
      "execution_count": 52,
      "outputs": [
        {
          "output_type": "stream",
          "text": [
            "Epoch 1/100\n",
            "700/700 [==============================] - 0s 333us/step - loss: 7402.4052\n",
            "Epoch 2/100\n",
            "700/700 [==============================] - 0s 106us/step - loss: 6293.6444\n",
            "Epoch 3/100\n",
            "700/700 [==============================] - 0s 109us/step - loss: 4803.0097\n",
            "Epoch 4/100\n",
            "700/700 [==============================] - 0s 109us/step - loss: 3381.1954\n",
            "Epoch 5/100\n",
            "700/700 [==============================] - 0s 108us/step - loss: 1812.1398\n",
            "Epoch 6/100\n",
            "700/700 [==============================] - 0s 104us/step - loss: 954.8525\n",
            "Epoch 7/100\n",
            "700/700 [==============================] - 0s 109us/step - loss: 641.6112\n",
            "Epoch 8/100\n",
            "700/700 [==============================] - 0s 109us/step - loss: 626.1160\n",
            "Epoch 9/100\n",
            "700/700 [==============================] - 0s 111us/step - loss: 666.7531\n",
            "Epoch 10/100\n",
            "700/700 [==============================] - 0s 125us/step - loss: 693.2882\n",
            "Epoch 11/100\n",
            "700/700 [==============================] - 0s 106us/step - loss: 831.3866\n",
            "Epoch 12/100\n",
            "700/700 [==============================] - 0s 113us/step - loss: 714.5689\n",
            "Epoch 13/100\n",
            "700/700 [==============================] - 0s 107us/step - loss: 704.6997\n",
            "Epoch 14/100\n",
            "700/700 [==============================] - 0s 108us/step - loss: 768.5627\n",
            "Epoch 15/100\n",
            "700/700 [==============================] - 0s 107us/step - loss: 725.9206\n",
            "Epoch 16/100\n",
            "700/700 [==============================] - 0s 108us/step - loss: 670.7569\n",
            "Epoch 17/100\n",
            "700/700 [==============================] - 0s 110us/step - loss: 764.2761\n",
            "Epoch 18/100\n",
            "700/700 [==============================] - 0s 107us/step - loss: 701.6523\n",
            "Epoch 19/100\n",
            "700/700 [==============================] - 0s 105us/step - loss: 671.8531\n",
            "Epoch 20/100\n",
            "700/700 [==============================] - 0s 110us/step - loss: 676.2864\n",
            "Epoch 21/100\n",
            "700/700 [==============================] - 0s 128us/step - loss: 723.8806\n",
            "Epoch 22/100\n",
            "700/700 [==============================] - 0s 111us/step - loss: 806.9017\n",
            "Epoch 23/100\n",
            "700/700 [==============================] - 0s 130us/step - loss: 687.9839\n",
            "Epoch 24/100\n",
            "700/700 [==============================] - 0s 104us/step - loss: 868.7355\n",
            "Epoch 25/100\n",
            "700/700 [==============================] - 0s 107us/step - loss: 730.0111\n",
            "Epoch 26/100\n",
            "700/700 [==============================] - 0s 118us/step - loss: 736.7333\n",
            "Epoch 27/100\n",
            "700/700 [==============================] - 0s 109us/step - loss: 763.8105\n",
            "Epoch 28/100\n",
            "700/700 [==============================] - 0s 107us/step - loss: 705.3187\n",
            "Epoch 29/100\n",
            "700/700 [==============================] - 0s 120us/step - loss: 723.2728\n",
            "Epoch 30/100\n",
            "700/700 [==============================] - 0s 104us/step - loss: 699.5970\n",
            "Epoch 31/100\n",
            "700/700 [==============================] - 0s 106us/step - loss: 698.5273\n",
            "Epoch 32/100\n",
            "700/700 [==============================] - 0s 107us/step - loss: 672.0957\n",
            "Epoch 33/100\n",
            "700/700 [==============================] - 0s 107us/step - loss: 565.6021\n",
            "Epoch 34/100\n",
            "700/700 [==============================] - 0s 111us/step - loss: 684.4642\n",
            "Epoch 35/100\n",
            "700/700 [==============================] - 0s 109us/step - loss: 830.6082\n",
            "Epoch 36/100\n",
            "700/700 [==============================] - 0s 124us/step - loss: 800.6330\n",
            "Epoch 37/100\n",
            "700/700 [==============================] - 0s 111us/step - loss: 726.8334\n",
            "Epoch 38/100\n",
            "700/700 [==============================] - 0s 106us/step - loss: 820.0166\n",
            "Epoch 39/100\n",
            "700/700 [==============================] - 0s 107us/step - loss: 787.5743\n",
            "Epoch 40/100\n",
            "700/700 [==============================] - 0s 107us/step - loss: 754.5394\n",
            "Epoch 41/100\n",
            "700/700 [==============================] - 0s 110us/step - loss: 608.5620\n",
            "Epoch 42/100\n",
            "700/700 [==============================] - 0s 115us/step - loss: 644.6793\n",
            "Epoch 43/100\n",
            "700/700 [==============================] - 0s 108us/step - loss: 679.1776\n",
            "Epoch 44/100\n",
            "700/700 [==============================] - 0s 109us/step - loss: 690.7690\n",
            "Epoch 45/100\n",
            "700/700 [==============================] - 0s 102us/step - loss: 703.2634\n",
            "Epoch 46/100\n",
            "700/700 [==============================] - 0s 105us/step - loss: 729.9432\n",
            "Epoch 47/100\n",
            "700/700 [==============================] - 0s 115us/step - loss: 746.9231\n",
            "Epoch 48/100\n",
            "700/700 [==============================] - 0s 112us/step - loss: 712.8664\n",
            "Epoch 49/100\n",
            "700/700 [==============================] - 0s 131us/step - loss: 718.6071\n",
            "Epoch 50/100\n",
            "700/700 [==============================] - 0s 110us/step - loss: 765.6615\n",
            "Epoch 51/100\n",
            "700/700 [==============================] - 0s 105us/step - loss: 803.1939\n",
            "Epoch 52/100\n",
            "700/700 [==============================] - 0s 107us/step - loss: 683.8505\n",
            "Epoch 53/100\n",
            "700/700 [==============================] - 0s 107us/step - loss: 716.9341\n",
            "Epoch 54/100\n",
            "700/700 [==============================] - 0s 119us/step - loss: 725.2987\n",
            "Epoch 55/100\n",
            "700/700 [==============================] - 0s 107us/step - loss: 818.4854\n",
            "Epoch 56/100\n",
            "700/700 [==============================] - 0s 105us/step - loss: 761.0846\n",
            "Epoch 57/100\n",
            "700/700 [==============================] - 0s 103us/step - loss: 672.2558\n",
            "Epoch 58/100\n",
            "700/700 [==============================] - 0s 104us/step - loss: 682.5974\n",
            "Epoch 59/100\n",
            "700/700 [==============================] - 0s 110us/step - loss: 630.4270\n",
            "Epoch 60/100\n",
            "700/700 [==============================] - 0s 104us/step - loss: 631.3087\n",
            "Epoch 61/100\n",
            "700/700 [==============================] - 0s 104us/step - loss: 751.8887\n",
            "Epoch 62/100\n",
            "700/700 [==============================] - 0s 124us/step - loss: 653.5994\n",
            "Epoch 63/100\n",
            "700/700 [==============================] - 0s 106us/step - loss: 734.4743\n",
            "Epoch 64/100\n",
            "700/700 [==============================] - 0s 108us/step - loss: 731.0931\n",
            "Epoch 65/100\n",
            "700/700 [==============================] - 0s 110us/step - loss: 679.2998\n",
            "Epoch 66/100\n",
            "700/700 [==============================] - 0s 105us/step - loss: 655.1445\n",
            "Epoch 67/100\n",
            "700/700 [==============================] - 0s 105us/step - loss: 627.7620\n",
            "Epoch 68/100\n",
            "700/700 [==============================] - 0s 102us/step - loss: 623.0537\n",
            "Epoch 69/100\n",
            "700/700 [==============================] - 0s 108us/step - loss: 670.3896\n",
            "Epoch 70/100\n",
            "700/700 [==============================] - 0s 111us/step - loss: 736.2102\n",
            "Epoch 71/100\n",
            "700/700 [==============================] - 0s 107us/step - loss: 652.0951\n",
            "Epoch 72/100\n",
            "700/700 [==============================] - 0s 114us/step - loss: 732.1267\n",
            "Epoch 73/100\n",
            "700/700 [==============================] - 0s 109us/step - loss: 668.2874\n",
            "Epoch 74/100\n",
            "700/700 [==============================] - 0s 110us/step - loss: 708.9468\n",
            "Epoch 75/100\n",
            "700/700 [==============================] - 0s 125us/step - loss: 665.1349\n",
            "Epoch 76/100\n",
            "700/700 [==============================] - 0s 106us/step - loss: 709.8254\n",
            "Epoch 77/100\n",
            "700/700 [==============================] - 0s 106us/step - loss: 754.6847\n",
            "Epoch 78/100\n",
            "700/700 [==============================] - 0s 110us/step - loss: 713.2263\n",
            "Epoch 79/100\n",
            "700/700 [==============================] - 0s 110us/step - loss: 625.7466\n",
            "Epoch 80/100\n",
            "700/700 [==============================] - 0s 107us/step - loss: 615.9049\n",
            "Epoch 81/100\n",
            "700/700 [==============================] - 0s 108us/step - loss: 713.3219\n",
            "Epoch 82/100\n",
            "700/700 [==============================] - 0s 106us/step - loss: 661.4617\n",
            "Epoch 83/100\n",
            "700/700 [==============================] - 0s 107us/step - loss: 677.4607\n",
            "Epoch 84/100\n",
            "700/700 [==============================] - 0s 108us/step - loss: 669.1947\n",
            "Epoch 85/100\n",
            "700/700 [==============================] - 0s 109us/step - loss: 667.0323\n",
            "Epoch 86/100\n",
            "700/700 [==============================] - 0s 106us/step - loss: 738.4986\n",
            "Epoch 87/100\n",
            "700/700 [==============================] - 0s 104us/step - loss: 695.6625\n",
            "Epoch 88/100\n",
            "700/700 [==============================] - 0s 122us/step - loss: 713.1568\n",
            "Epoch 89/100\n",
            "700/700 [==============================] - 0s 113us/step - loss: 703.8662\n",
            "Epoch 90/100\n",
            "700/700 [==============================] - 0s 104us/step - loss: 789.1837\n",
            "Epoch 91/100\n",
            "700/700 [==============================] - 0s 105us/step - loss: 837.4649\n",
            "Epoch 92/100\n",
            "700/700 [==============================] - 0s 105us/step - loss: 713.9618\n",
            "Epoch 93/100\n",
            "700/700 [==============================] - 0s 112us/step - loss: 709.3271\n",
            "Epoch 94/100\n",
            "700/700 [==============================] - 0s 106us/step - loss: 635.8048\n",
            "Epoch 95/100\n",
            "700/700 [==============================] - 0s 106us/step - loss: 689.3530\n",
            "Epoch 96/100\n",
            "700/700 [==============================] - 0s 106us/step - loss: 601.1024\n",
            "Epoch 97/100\n",
            "700/700 [==============================] - 0s 108us/step - loss: 718.4454\n",
            "Epoch 98/100\n",
            "700/700 [==============================] - 0s 106us/step - loss: 780.5271\n",
            "Epoch 99/100\n",
            "700/700 [==============================] - 0s 107us/step - loss: 692.8807\n",
            "Epoch 100/100\n",
            "700/700 [==============================] - 0s 102us/step - loss: 680.5976\n"
          ],
          "name": "stdout"
        },
        {
          "output_type": "execute_result",
          "data": {
            "text/plain": [
              "<tensorflow.python.keras.callbacks.History at 0x7fb6378ea990>"
            ]
          },
          "metadata": {
            "tags": []
          },
          "execution_count": 52
        }
      ]
    },
    {
      "metadata": {
        "id": "nsuTeX840G0h",
        "colab_type": "code",
        "colab": {}
      },
      "cell_type": "code",
      "source": [
        "#y_pred = model.predict(X_test)"
      ],
      "execution_count": 0,
      "outputs": []
    },
    {
      "metadata": {
        "id": "pThg9gZjNbXp",
        "colab_type": "code",
        "colab": {
          "base_uri": "https://localhost:8080/",
          "height": 34
        },
        "outputId": "24cfd2be-b1aa-4883-f9b9-937e11ce3ec8"
      },
      "cell_type": "code",
      "source": [
        "#type(y_test)"
      ],
      "execution_count": 58,
      "outputs": [
        {
          "output_type": "execute_result",
          "data": {
            "text/plain": [
              "pandas.core.frame.DataFrame"
            ]
          },
          "metadata": {
            "tags": []
          },
          "execution_count": 58
        }
      ]
    },
    {
      "metadata": {
        "id": "VF8jD-rLNnIz",
        "colab_type": "code",
        "colab": {
          "base_uri": "https://localhost:8080/",
          "height": 34
        },
        "outputId": "dc105dc0-b022-4722-cb6e-1e2b1805505c"
      },
      "cell_type": "code",
      "source": [
        "#type(y_pred)"
      ],
      "execution_count": 62,
      "outputs": [
        {
          "output_type": "execute_result",
          "data": {
            "text/plain": [
              "numpy.ndarray"
            ]
          },
          "metadata": {
            "tags": []
          },
          "execution_count": 62
        }
      ]
    },
    {
      "metadata": {
        "id": "URjB99ZB1zie",
        "colab_type": "code",
        "colab": {}
      },
      "cell_type": "code",
      "source": [
        "#y_pred = pd.DataFrame(y_pred)\n",
        "\n",
        "#y_test = y_test.reshape(-1,)\n",
        "#mse = np.mean(np.square(y_pred-y_test))"
      ],
      "execution_count": 0,
      "outputs": []
    },
    {
      "metadata": {
        "id": "goYpCkF3VB1w",
        "colab_type": "text"
      },
      "cell_type": "markdown",
      "source": [
        "### Classification using Keras "
      ]
    },
    {
      "metadata": {
        "id": "TH5UyONBVB11",
        "colab_type": "text"
      },
      "cell_type": "markdown",
      "source": [
        "### Load the given Iris data using pandas (Iris.csv)"
      ]
    },
    {
      "metadata": {
        "id": "n8qfiuQzVB13",
        "colab_type": "code",
        "colab": {}
      },
      "cell_type": "code",
      "source": [
        "import pandas as pd\n",
        "iris_df = pd.read_csv('/content/drive/My Drive/deep learning/R6_Internal_lab/Iris.csv')"
      ],
      "execution_count": 0,
      "outputs": []
    },
    {
      "metadata": {
        "colab_type": "text",
        "id": "_8CGFN36C5GG"
      },
      "cell_type": "markdown",
      "source": [
        "### Splitting the data into feature set and target set"
      ]
    },
    {
      "metadata": {
        "id": "j-S9zYIKDEIz",
        "colab_type": "code",
        "colab": {
          "base_uri": "https://localhost:8080/",
          "height": 204
        },
        "outputId": "35bf5821-6e6f-4939-b232-b6ccceef5fcc"
      },
      "cell_type": "code",
      "source": [
        "iris_df.head()"
      ],
      "execution_count": 84,
      "outputs": [
        {
          "output_type": "execute_result",
          "data": {
            "text/html": [
              "<div>\n",
              "<style scoped>\n",
              "    .dataframe tbody tr th:only-of-type {\n",
              "        vertical-align: middle;\n",
              "    }\n",
              "\n",
              "    .dataframe tbody tr th {\n",
              "        vertical-align: top;\n",
              "    }\n",
              "\n",
              "    .dataframe thead th {\n",
              "        text-align: right;\n",
              "    }\n",
              "</style>\n",
              "<table border=\"1\" class=\"dataframe\">\n",
              "  <thead>\n",
              "    <tr style=\"text-align: right;\">\n",
              "      <th></th>\n",
              "      <th>Id</th>\n",
              "      <th>SepalLengthCm</th>\n",
              "      <th>SepalWidthCm</th>\n",
              "      <th>PetalLengthCm</th>\n",
              "      <th>PetalWidthCm</th>\n",
              "      <th>Species</th>\n",
              "    </tr>\n",
              "  </thead>\n",
              "  <tbody>\n",
              "    <tr>\n",
              "      <th>0</th>\n",
              "      <td>1</td>\n",
              "      <td>5.1</td>\n",
              "      <td>3.5</td>\n",
              "      <td>1.4</td>\n",
              "      <td>0.2</td>\n",
              "      <td>Iris-setosa</td>\n",
              "    </tr>\n",
              "    <tr>\n",
              "      <th>1</th>\n",
              "      <td>2</td>\n",
              "      <td>4.9</td>\n",
              "      <td>3.0</td>\n",
              "      <td>1.4</td>\n",
              "      <td>0.2</td>\n",
              "      <td>Iris-setosa</td>\n",
              "    </tr>\n",
              "    <tr>\n",
              "      <th>2</th>\n",
              "      <td>3</td>\n",
              "      <td>4.7</td>\n",
              "      <td>3.2</td>\n",
              "      <td>1.3</td>\n",
              "      <td>0.2</td>\n",
              "      <td>Iris-setosa</td>\n",
              "    </tr>\n",
              "    <tr>\n",
              "      <th>3</th>\n",
              "      <td>4</td>\n",
              "      <td>4.6</td>\n",
              "      <td>3.1</td>\n",
              "      <td>1.5</td>\n",
              "      <td>0.2</td>\n",
              "      <td>Iris-setosa</td>\n",
              "    </tr>\n",
              "    <tr>\n",
              "      <th>4</th>\n",
              "      <td>5</td>\n",
              "      <td>5.0</td>\n",
              "      <td>3.6</td>\n",
              "      <td>1.4</td>\n",
              "      <td>0.2</td>\n",
              "      <td>Iris-setosa</td>\n",
              "    </tr>\n",
              "  </tbody>\n",
              "</table>\n",
              "</div>"
            ],
            "text/plain": [
              "   Id  SepalLengthCm  SepalWidthCm  PetalLengthCm  PetalWidthCm      Species\n",
              "0   1            5.1           3.5            1.4           0.2  Iris-setosa\n",
              "1   2            4.9           3.0            1.4           0.2  Iris-setosa\n",
              "2   3            4.7           3.2            1.3           0.2  Iris-setosa\n",
              "3   4            4.6           3.1            1.5           0.2  Iris-setosa\n",
              "4   5            5.0           3.6            1.4           0.2  Iris-setosa"
            ]
          },
          "metadata": {
            "tags": []
          },
          "execution_count": 84
        }
      ]
    },
    {
      "metadata": {
        "colab_type": "code",
        "id": "32cgMFE3C41H",
        "colab": {
          "base_uri": "https://localhost:8080/",
          "height": 34
        },
        "outputId": "b775e924-9b74-4942-9b7a-5eb1f0d5a3c3"
      },
      "cell_type": "code",
      "source": [
        "X_i = iris_df.drop(\"Species\", axis=1)\n",
        "y_i = iris_df.Species\n",
        "X_i.shape"
      ],
      "execution_count": 85,
      "outputs": [
        {
          "output_type": "execute_result",
          "data": {
            "text/plain": [
              "(150, 5)"
            ]
          },
          "metadata": {
            "tags": []
          },
          "execution_count": 85
        }
      ]
    },
    {
      "metadata": {
        "id": "5FaoEYJpVB2L",
        "colab_type": "text"
      },
      "cell_type": "markdown",
      "source": [
        "### Target set has different categories. So, Label encode them. And convert into one-hot vectors using get_dummies in pandas."
      ]
    },
    {
      "metadata": {
        "id": "dfFvJFqUVB2M",
        "colab_type": "code",
        "colab": {
          "base_uri": "https://localhost:8080/",
          "height": 204
        },
        "outputId": "eb1c36a5-3ad8-40d6-ec2c-b4abdc7faa6a"
      },
      "cell_type": "code",
      "source": [
        "from sklearn.preprocessing import LabelEncoder\n",
        "\n",
        "iris_df = pd.get_dummies(iris_df,prefix ='Species')\n",
        "iris_df.head()\n"
      ],
      "execution_count": 86,
      "outputs": [
        {
          "output_type": "execute_result",
          "data": {
            "text/html": [
              "<div>\n",
              "<style scoped>\n",
              "    .dataframe tbody tr th:only-of-type {\n",
              "        vertical-align: middle;\n",
              "    }\n",
              "\n",
              "    .dataframe tbody tr th {\n",
              "        vertical-align: top;\n",
              "    }\n",
              "\n",
              "    .dataframe thead th {\n",
              "        text-align: right;\n",
              "    }\n",
              "</style>\n",
              "<table border=\"1\" class=\"dataframe\">\n",
              "  <thead>\n",
              "    <tr style=\"text-align: right;\">\n",
              "      <th></th>\n",
              "      <th>Id</th>\n",
              "      <th>SepalLengthCm</th>\n",
              "      <th>SepalWidthCm</th>\n",
              "      <th>PetalLengthCm</th>\n",
              "      <th>PetalWidthCm</th>\n",
              "      <th>Species_Iris-setosa</th>\n",
              "      <th>Species_Iris-versicolor</th>\n",
              "      <th>Species_Iris-virginica</th>\n",
              "    </tr>\n",
              "  </thead>\n",
              "  <tbody>\n",
              "    <tr>\n",
              "      <th>0</th>\n",
              "      <td>1</td>\n",
              "      <td>5.1</td>\n",
              "      <td>3.5</td>\n",
              "      <td>1.4</td>\n",
              "      <td>0.2</td>\n",
              "      <td>1</td>\n",
              "      <td>0</td>\n",
              "      <td>0</td>\n",
              "    </tr>\n",
              "    <tr>\n",
              "      <th>1</th>\n",
              "      <td>2</td>\n",
              "      <td>4.9</td>\n",
              "      <td>3.0</td>\n",
              "      <td>1.4</td>\n",
              "      <td>0.2</td>\n",
              "      <td>1</td>\n",
              "      <td>0</td>\n",
              "      <td>0</td>\n",
              "    </tr>\n",
              "    <tr>\n",
              "      <th>2</th>\n",
              "      <td>3</td>\n",
              "      <td>4.7</td>\n",
              "      <td>3.2</td>\n",
              "      <td>1.3</td>\n",
              "      <td>0.2</td>\n",
              "      <td>1</td>\n",
              "      <td>0</td>\n",
              "      <td>0</td>\n",
              "    </tr>\n",
              "    <tr>\n",
              "      <th>3</th>\n",
              "      <td>4</td>\n",
              "      <td>4.6</td>\n",
              "      <td>3.1</td>\n",
              "      <td>1.5</td>\n",
              "      <td>0.2</td>\n",
              "      <td>1</td>\n",
              "      <td>0</td>\n",
              "      <td>0</td>\n",
              "    </tr>\n",
              "    <tr>\n",
              "      <th>4</th>\n",
              "      <td>5</td>\n",
              "      <td>5.0</td>\n",
              "      <td>3.6</td>\n",
              "      <td>1.4</td>\n",
              "      <td>0.2</td>\n",
              "      <td>1</td>\n",
              "      <td>0</td>\n",
              "      <td>0</td>\n",
              "    </tr>\n",
              "  </tbody>\n",
              "</table>\n",
              "</div>"
            ],
            "text/plain": [
              "   Id  SepalLengthCm  SepalWidthCm  PetalLengthCm  PetalWidthCm  \\\n",
              "0   1            5.1           3.5            1.4           0.2   \n",
              "1   2            4.9           3.0            1.4           0.2   \n",
              "2   3            4.7           3.2            1.3           0.2   \n",
              "3   4            4.6           3.1            1.5           0.2   \n",
              "4   5            5.0           3.6            1.4           0.2   \n",
              "\n",
              "   Species_Iris-setosa  Species_Iris-versicolor  Species_Iris-virginica  \n",
              "0                    1                        0                       0  \n",
              "1                    1                        0                       0  \n",
              "2                    1                        0                       0  \n",
              "3                    1                        0                       0  \n",
              "4                    1                        0                       0  "
            ]
          },
          "metadata": {
            "tags": []
          },
          "execution_count": 86
        }
      ]
    },
    {
      "metadata": {
        "id": "nPE_StA0VB2P",
        "colab_type": "text"
      },
      "cell_type": "markdown",
      "source": [
        "### Divide the dataset into Training and test (70:30)"
      ]
    },
    {
      "metadata": {
        "id": "P05IQL0G9gta",
        "colab_type": "code",
        "colab": {}
      },
      "cell_type": "code",
      "source": [
        "col = []\n",
        "\n",
        "y_i = iris_df[['Species_Iris-setosa','Species_Iris-versicolor', 'Species_Iris-virginica']]\n"
      ],
      "execution_count": 0,
      "outputs": []
    },
    {
      "metadata": {
        "colab_type": "code",
        "id": "43oQBBmDFpYP",
        "colab": {
          "base_uri": "https://localhost:8080/",
          "height": 34
        },
        "outputId": "9db984c4-ed58-4c0e-e8d3-cf8329f464e2"
      },
      "cell_type": "code",
      "source": [
        "y_i = pd.DataFrame(y_i)\n",
        "X_i.shape\n"
      ],
      "execution_count": 92,
      "outputs": [
        {
          "output_type": "execute_result",
          "data": {
            "text/plain": [
              "(150, 5)"
            ]
          },
          "metadata": {
            "tags": []
          },
          "execution_count": 92
        }
      ]
    },
    {
      "metadata": {
        "id": "NZ1nPsCsIbMZ",
        "colab_type": "code",
        "colab": {}
      },
      "cell_type": "code",
      "source": [
        "X_train_i, X_test_i, y_train_i, y_test_i = train_test_split(X_i,y_i,test_size=0.3,random_state =15)"
      ],
      "execution_count": 0,
      "outputs": []
    },
    {
      "metadata": {
        "id": "um2CafrDVB2U",
        "colab_type": "text"
      },
      "cell_type": "markdown",
      "source": [
        "### Model\n",
        "Build the model with following layers: <br>\n",
        "1. First dense layer with 10 neurons with input shape 4 (according to the feature set) <br>\n",
        "2. Second Dense layer with 8 neurons <br>\n",
        "3. Output layer with 3 neurons with softmax activation (output layer, 3 neurons as we have 3 classes) <br>\n",
        "4. Use SGD and categorical_crossentropy loss "
      ]
    },
    {
      "metadata": {
        "id": "9CfWyuNJOpeK",
        "colab_type": "code",
        "colab": {}
      },
      "cell_type": "code",
      "source": [
        "#Initialize Sequential model\n",
        "model = tf.keras.models.Sequential()\n",
        "\n",
        "#Reshape data from 2D to 1D -> 28x28 to 784\n",
        "#model.add(tf.keras.layers.Reshape((784,),input_shape=(28,28,)))\n",
        "\n",
        "#Normalize the data\n",
        "model.add(tf.keras.layers.BatchNormalization())"
      ],
      "execution_count": 0,
      "outputs": []
    },
    {
      "metadata": {
        "id": "vJPm1DrjVB2X",
        "colab_type": "code",
        "colab": {}
      },
      "cell_type": "code",
      "source": [
        "#Add 1st hidden layer\n",
        "model.add(tf.keras.layers.Dense(10, input_shape=(4,), activation='sigmoid'))\n",
        "\n",
        "#Add 2nd hidden layer\n",
        "model.add(tf.keras.layers.Dense(8, activation='sigmoid'))\n"
      ],
      "execution_count": 0,
      "outputs": []
    },
    {
      "metadata": {
        "id": "TIR04Md8Ocli",
        "colab_type": "code",
        "colab": {}
      },
      "cell_type": "code",
      "source": [
        "#Add OUTPUT layer\n",
        "model.add(tf.keras.layers.Dense(3, activation='softmax'))"
      ],
      "execution_count": 0,
      "outputs": []
    },
    {
      "metadata": {
        "id": "-xWPqymfVB2a",
        "colab_type": "text"
      },
      "cell_type": "markdown",
      "source": [
        "### Fitting the model and predicting "
      ]
    },
    {
      "metadata": {
        "id": "T140OVfCVB2d",
        "colab_type": "code",
        "colab": {}
      },
      "cell_type": "code",
      "source": [
        "#Create optimizer with non-default learning rate\n",
        "sgd_optimizer = tf.keras.optimizers.SGD(lr=0.03)\n",
        "\n",
        "#Compile the model\n",
        "model.compile(optimizer=sgd_optimizer, loss='categorical_crossentropy', metrics=['accuracy'])"
      ],
      "execution_count": 0,
      "outputs": []
    },
    {
      "metadata": {
        "id": "5bPKiLwdVB2k",
        "colab_type": "code",
        "colab": {
          "base_uri": "https://localhost:8080/",
          "height": 1071
        },
        "outputId": "ebe2abe1-d7e0-46ad-aa8e-9923b33aac63"
      },
      "cell_type": "code",
      "source": [
        "#X_train_i, X_test_i, y_train_i, y_test_i = train_test_split(X_i,y_i,test_size=0.3,random_state =15)\n",
        "model.fit(X_train_i.values,y_train_i.values,          \n",
        "          validation_data=(X_test_i.values,y_test_i.values),\n",
        "          epochs=30,\n",
        "          batch_size=32)"
      ],
      "execution_count": 98,
      "outputs": [
        {
          "output_type": "stream",
          "text": [
            "Train on 105 samples, validate on 45 samples\n",
            "Epoch 1/30\n",
            "105/105 [==============================] - 0s 4ms/step - loss: 1.1630 - acc: 0.3333 - val_loss: 1.1590 - val_acc: 0.3333\n",
            "Epoch 2/30\n",
            "105/105 [==============================] - 0s 245us/step - loss: 1.1447 - acc: 0.3333 - val_loss: 1.1483 - val_acc: 0.3333\n",
            "Epoch 3/30\n",
            "105/105 [==============================] - 0s 235us/step - loss: 1.1354 - acc: 0.3333 - val_loss: 1.1365 - val_acc: 0.3333\n",
            "Epoch 4/30\n",
            "105/105 [==============================] - 0s 236us/step - loss: 1.1253 - acc: 0.3333 - val_loss: 1.1268 - val_acc: 0.3333\n",
            "Epoch 5/30\n",
            "105/105 [==============================] - 0s 246us/step - loss: 1.1176 - acc: 0.3333 - val_loss: 1.1181 - val_acc: 0.3333\n",
            "Epoch 6/30\n",
            "105/105 [==============================] - 0s 264us/step - loss: 1.1120 - acc: 0.3333 - val_loss: 1.1137 - val_acc: 0.3333\n",
            "Epoch 7/30\n",
            "105/105 [==============================] - 0s 229us/step - loss: 1.1081 - acc: 0.3333 - val_loss: 1.1069 - val_acc: 0.3333\n",
            "Epoch 8/30\n",
            "105/105 [==============================] - 0s 234us/step - loss: 1.1034 - acc: 0.3333 - val_loss: 1.1031 - val_acc: 0.3333\n",
            "Epoch 9/30\n",
            "105/105 [==============================] - 0s 244us/step - loss: 1.1007 - acc: 0.3333 - val_loss: 1.0983 - val_acc: 0.3333\n",
            "Epoch 10/30\n",
            "105/105 [==============================] - 0s 260us/step - loss: 1.0975 - acc: 0.3333 - val_loss: 1.0964 - val_acc: 0.3333\n",
            "Epoch 11/30\n",
            "105/105 [==============================] - 0s 263us/step - loss: 1.0958 - acc: 0.3333 - val_loss: 1.0937 - val_acc: 0.3333\n",
            "Epoch 12/30\n",
            "105/105 [==============================] - 0s 341us/step - loss: 1.0935 - acc: 0.3333 - val_loss: 1.0920 - val_acc: 0.3333\n",
            "Epoch 13/30\n",
            "105/105 [==============================] - 0s 337us/step - loss: 1.0924 - acc: 0.3333 - val_loss: 1.0919 - val_acc: 0.3333\n",
            "Epoch 14/30\n",
            "105/105 [==============================] - 0s 244us/step - loss: 1.0902 - acc: 0.3333 - val_loss: 1.0898 - val_acc: 0.3333\n",
            "Epoch 15/30\n",
            "105/105 [==============================] - 0s 245us/step - loss: 1.0914 - acc: 0.3333 - val_loss: 1.0878 - val_acc: 0.3333\n",
            "Epoch 16/30\n",
            "105/105 [==============================] - 0s 231us/step - loss: 1.0889 - acc: 0.3333 - val_loss: 1.0862 - val_acc: 0.3333\n",
            "Epoch 17/30\n",
            "105/105 [==============================] - 0s 249us/step - loss: 1.0885 - acc: 0.3333 - val_loss: 1.0855 - val_acc: 0.3333\n",
            "Epoch 18/30\n",
            "105/105 [==============================] - 0s 229us/step - loss: 1.0866 - acc: 0.3333 - val_loss: 1.0843 - val_acc: 0.3333\n",
            "Epoch 19/30\n",
            "105/105 [==============================] - 0s 236us/step - loss: 1.0881 - acc: 0.3333 - val_loss: 1.0826 - val_acc: 0.3333\n",
            "Epoch 20/30\n",
            "105/105 [==============================] - 0s 282us/step - loss: 1.0858 - acc: 0.3333 - val_loss: 1.0831 - val_acc: 0.3333\n",
            "Epoch 21/30\n",
            "105/105 [==============================] - 0s 267us/step - loss: 1.0852 - acc: 0.3333 - val_loss: 1.0808 - val_acc: 0.3333\n",
            "Epoch 22/30\n",
            "105/105 [==============================] - 0s 274us/step - loss: 1.0837 - acc: 0.3333 - val_loss: 1.0801 - val_acc: 0.3333\n",
            "Epoch 23/30\n",
            "105/105 [==============================] - 0s 260us/step - loss: 1.0876 - acc: 0.3333 - val_loss: 1.0791 - val_acc: 0.3333\n",
            "Epoch 24/30\n",
            "105/105 [==============================] - 0s 263us/step - loss: 1.0835 - acc: 0.3810 - val_loss: 1.0803 - val_acc: 0.3333\n",
            "Epoch 25/30\n",
            "105/105 [==============================] - 0s 264us/step - loss: 1.0833 - acc: 0.3333 - val_loss: 1.0775 - val_acc: 0.3333\n",
            "Epoch 26/30\n",
            "105/105 [==============================] - 0s 279us/step - loss: 1.0828 - acc: 0.3619 - val_loss: 1.0768 - val_acc: 0.4889\n",
            "Epoch 27/30\n",
            "105/105 [==============================] - 0s 258us/step - loss: 1.0826 - acc: 0.5619 - val_loss: 1.0769 - val_acc: 0.6444\n",
            "Epoch 28/30\n",
            "105/105 [==============================] - 0s 238us/step - loss: 1.0815 - acc: 0.5714 - val_loss: 1.0754 - val_acc: 0.4444\n",
            "Epoch 29/30\n",
            "105/105 [==============================] - 0s 282us/step - loss: 1.0800 - acc: 0.5143 - val_loss: 1.0743 - val_acc: 0.4222\n",
            "Epoch 30/30\n",
            "105/105 [==============================] - 0s 277us/step - loss: 1.0786 - acc: 0.4000 - val_loss: 1.0757 - val_acc: 0.4222\n"
          ],
          "name": "stdout"
        },
        {
          "output_type": "execute_result",
          "data": {
            "text/plain": [
              "<tensorflow.python.keras.callbacks.History at 0x7fb63ca84910>"
            ]
          },
          "metadata": {
            "tags": []
          },
          "execution_count": 98
        }
      ]
    },
    {
      "metadata": {
        "id": "3O7rxo_XPUt6",
        "colab_type": "text"
      },
      "cell_type": "markdown",
      "source": [
        ""
      ]
    },
    {
      "metadata": {
        "id": "Hh1GOG4AVB2t",
        "colab_type": "text"
      },
      "cell_type": "markdown",
      "source": [
        "### Report Accuracy of the predicted values"
      ]
    },
    {
      "metadata": {
        "id": "3YB4YL72VB2x",
        "colab_type": "text"
      },
      "cell_type": "markdown",
      "source": [
        ""
      ]
    }
  ]
}