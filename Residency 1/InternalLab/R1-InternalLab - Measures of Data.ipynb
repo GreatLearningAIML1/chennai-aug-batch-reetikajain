{
 "cells": [
  {
   "cell_type": "markdown",
   "metadata": {},
   "source": [
    "## Lab Brief - Statistical Learning with Python"
   ]
  },
  {
   "cell_type": "markdown",
   "metadata": {},
   "source": [
    "### Part-1"
   ]
  },
  {
   "cell_type": "markdown",
   "metadata": {},
   "source": [
    "## Measures of Data"
   ]
  },
  {
   "cell_type": "markdown",
   "metadata": {},
   "source": [
    "Descriptive Statistcs are measures that summarize important features of data. Producing these descriptive statistics is a common first step to take after cleaning and preparing a dataset for further analysis. Examples are like calculating Mean or Median. In this lab, we will be looking into some of these functions and explore several new ones."
   ]
  },
  {
   "cell_type": "markdown",
   "metadata": {},
   "source": [
    "#### Measures of Central Tendency"
   ]
  },
  {
   "cell_type": "markdown",
   "metadata": {},
   "source": [
    "Whenever you measure things of the same kind, a fairly large number of such measurements will tend to cluster around the middle value. Such a value is called a measure of \"Central Tendency\". The other terms that are used synonymously are \"Measures of Location\", or \"Statistical Averages\". "
   ]
  },
  {
   "cell_type": "code",
   "execution_count": 1,
   "metadata": {},
   "outputs": [],
   "source": [
    "import numpy as np\n",
    "import pandas as pd\n",
    "import matplotlib.pyplot as plt\n",
    "%matplotlib inline\n",
    "\n",
    "mtcars = pd.read_csv('mtcars.csv')"
   ]
  },
  {
   "cell_type": "markdown",
   "metadata": {},
   "source": [
    "##### Using the mtcars dataset.\n",
    "\n",
    "For the below set of questions, we will be using the cars data from [Motor Trend Car Road Tests](http://stat.ethz.ch/R-manual/R-devel/library/datasets/html/mtcars.html)\n",
    "\n",
    "The data was extracted from the 1974 Motor Trend US magazine, and comprises fuel consumption and 10 aspects of automobile design and performance for 32 automobiles (1973–74 models). \n",
    "\n",
    "\n",
    "Details :\n",
    "    \n",
    "A data frame with 32 observations on 11 (numeric) variables.\n",
    "\n",
    "[, 1] \tmpg \tMiles/(US) gallon\n",
    "\n",
    "[, 2] \tcyl \tNumber of cylinders\n",
    "\n",
    "[, 3] \tdisp \tDisplacement (cu.in.)\n",
    "\n",
    "[, 4] \thp \tGross horsepower\n",
    "\n",
    "[, 5] \tdrat \tRear axle ratio\n",
    "\n",
    "[, 6] \twt \tWeight (1000 lbs)\n",
    "\n",
    "[, 7] \tqsec \t1/4 mile time\n",
    "\n",
    "[, 8] \tvs \tEngine (0 = V-shaped, 1 = straight)\n",
    "\n",
    "[, 9] \tam \tTransmission (0 = automatic, 1 = manual)\n",
    "\n",
    "[,10] \tgear \tNumber of forward gears\n",
    "\n",
    "[,11] \tcarb \tNumber of carburetors "
   ]
  },
  {
   "cell_type": "markdown",
   "metadata": {},
   "source": [
    "#### Explore the data - Setting the index"
   ]
  },
  {
   "cell_type": "code",
   "execution_count": 63,
   "metadata": {},
   "outputs": [
    {
     "data": {
      "text/html": [
       "<div>\n",
       "<style scoped>\n",
       "    .dataframe tbody tr th:only-of-type {\n",
       "        vertical-align: middle;\n",
       "    }\n",
       "\n",
       "    .dataframe tbody tr th {\n",
       "        vertical-align: top;\n",
       "    }\n",
       "\n",
       "    .dataframe thead th {\n",
       "        text-align: right;\n",
       "    }\n",
       "</style>\n",
       "<table border=\"1\" class=\"dataframe\">\n",
       "  <thead>\n",
       "    <tr style=\"text-align: right;\">\n",
       "      <th></th>\n",
       "      <th>name</th>\n",
       "      <th>mpg</th>\n",
       "      <th>cyl</th>\n",
       "      <th>disp</th>\n",
       "      <th>hp</th>\n",
       "      <th>drat</th>\n",
       "      <th>wt</th>\n",
       "      <th>qsec</th>\n",
       "      <th>vs</th>\n",
       "      <th>am</th>\n",
       "      <th>gear</th>\n",
       "      <th>carb</th>\n",
       "    </tr>\n",
       "    <tr>\n",
       "      <th>name</th>\n",
       "      <th></th>\n",
       "      <th></th>\n",
       "      <th></th>\n",
       "      <th></th>\n",
       "      <th></th>\n",
       "      <th></th>\n",
       "      <th></th>\n",
       "      <th></th>\n",
       "      <th></th>\n",
       "      <th></th>\n",
       "      <th></th>\n",
       "      <th></th>\n",
       "    </tr>\n",
       "  </thead>\n",
       "  <tbody>\n",
       "    <tr>\n",
       "      <th>Mazda RX4</th>\n",
       "      <td>Mazda RX4</td>\n",
       "      <td>21.0</td>\n",
       "      <td>6</td>\n",
       "      <td>160.0</td>\n",
       "      <td>110</td>\n",
       "      <td>3.90</td>\n",
       "      <td>2.620</td>\n",
       "      <td>16.46</td>\n",
       "      <td>0</td>\n",
       "      <td>1</td>\n",
       "      <td>4</td>\n",
       "      <td>4</td>\n",
       "    </tr>\n",
       "    <tr>\n",
       "      <th>Mazda RX4 Wag</th>\n",
       "      <td>Mazda RX4 Wag</td>\n",
       "      <td>21.0</td>\n",
       "      <td>6</td>\n",
       "      <td>160.0</td>\n",
       "      <td>110</td>\n",
       "      <td>3.90</td>\n",
       "      <td>2.875</td>\n",
       "      <td>17.02</td>\n",
       "      <td>0</td>\n",
       "      <td>1</td>\n",
       "      <td>4</td>\n",
       "      <td>4</td>\n",
       "    </tr>\n",
       "    <tr>\n",
       "      <th>Datsun 710</th>\n",
       "      <td>Datsun 710</td>\n",
       "      <td>22.8</td>\n",
       "      <td>4</td>\n",
       "      <td>108.0</td>\n",
       "      <td>93</td>\n",
       "      <td>3.85</td>\n",
       "      <td>2.320</td>\n",
       "      <td>18.61</td>\n",
       "      <td>1</td>\n",
       "      <td>1</td>\n",
       "      <td>4</td>\n",
       "      <td>1</td>\n",
       "    </tr>\n",
       "    <tr>\n",
       "      <th>Hornet 4 Drive</th>\n",
       "      <td>Hornet 4 Drive</td>\n",
       "      <td>21.4</td>\n",
       "      <td>6</td>\n",
       "      <td>258.0</td>\n",
       "      <td>110</td>\n",
       "      <td>3.08</td>\n",
       "      <td>3.215</td>\n",
       "      <td>19.44</td>\n",
       "      <td>1</td>\n",
       "      <td>0</td>\n",
       "      <td>3</td>\n",
       "      <td>1</td>\n",
       "    </tr>\n",
       "    <tr>\n",
       "      <th>Hornet Sportabout</th>\n",
       "      <td>Hornet Sportabout</td>\n",
       "      <td>18.7</td>\n",
       "      <td>8</td>\n",
       "      <td>360.0</td>\n",
       "      <td>175</td>\n",
       "      <td>3.15</td>\n",
       "      <td>3.440</td>\n",
       "      <td>17.02</td>\n",
       "      <td>0</td>\n",
       "      <td>0</td>\n",
       "      <td>3</td>\n",
       "      <td>2</td>\n",
       "    </tr>\n",
       "  </tbody>\n",
       "</table>\n",
       "</div>"
      ],
      "text/plain": [
       "                                name   mpg  cyl   disp   hp  drat     wt  \\\n",
       "name                                                                       \n",
       "Mazda RX4                  Mazda RX4  21.0    6  160.0  110  3.90  2.620   \n",
       "Mazda RX4 Wag          Mazda RX4 Wag  21.0    6  160.0  110  3.90  2.875   \n",
       "Datsun 710                Datsun 710  22.8    4  108.0   93  3.85  2.320   \n",
       "Hornet 4 Drive        Hornet 4 Drive  21.4    6  258.0  110  3.08  3.215   \n",
       "Hornet Sportabout  Hornet Sportabout  18.7    8  360.0  175  3.15  3.440   \n",
       "\n",
       "                    qsec  vs  am  gear  carb  \n",
       "name                                          \n",
       "Mazda RX4          16.46   0   1     4     4  \n",
       "Mazda RX4 Wag      17.02   0   1     4     4  \n",
       "Datsun 710         18.61   1   1     4     1  \n",
       "Hornet 4 Drive     19.44   1   0     3     1  \n",
       "Hornet Sportabout  17.02   0   0     3     2  "
      ]
     },
     "execution_count": 63,
     "metadata": {},
     "output_type": "execute_result"
    }
   ],
   "source": [
    "mtcars.index = mtcars[\"name\"]\n",
    "mtcars.head()\n",
    "# mtcars.mean() #By default this will give the mean of each column"
   ]
  },
  {
   "cell_type": "markdown",
   "metadata": {},
   "source": [
    "### Question 1\n",
    "\n",
    "What is the first car name given in mtcars?\n",
    "\n",
    "** Make use of index which has been set previously **\n",
    "\n",
    "**Hint**: Use .loc function\n"
   ]
  },
  {
   "cell_type": "code",
   "execution_count": 75,
   "metadata": {
    "scrolled": true
   },
   "outputs": [
    {
     "data": {
      "text/plain": [
       "'Mazda RX4'"
      ]
     },
     "execution_count": 75,
     "metadata": {},
     "output_type": "execute_result"
    }
   ],
   "source": [
    "mtcars.loc['Mazda RX4','name']"
   ]
  },
  {
   "cell_type": "markdown",
   "metadata": {},
   "source": [
    "### Question 2\n",
    "What is the highest difference between the hp and cyl?\n",
    "\n",
    "**Hint:** You can use **max()** function to find the difference"
   ]
  },
  {
   "cell_type": "code",
   "execution_count": 74,
   "metadata": {},
   "outputs": [
    {
     "data": {
      "text/plain": [
       "327"
      ]
     },
     "execution_count": 74,
     "metadata": {},
     "output_type": "execute_result"
    }
   ],
   "source": [
    "diff = max(mtcars['hp']-mtcars['cyl'])\n",
    "diff"
   ]
  },
  {
   "cell_type": "markdown",
   "metadata": {},
   "source": [
    "### Question 3\n",
    "What are the cars having highest weight(wt) and lowest weight(wt)?\n",
    "\n",
    "**Hint:** Use idxmax() and idxmin() to locate the row\n",
    "\n",
    "Use **.iloc** function to print the  row\n",
    "\n",
    "**Note:** Both idxmax and idxmin belong to pandas"
   ]
  },
  {
   "cell_type": "code",
   "execution_count": 73,
   "metadata": {},
   "outputs": [
    {
     "data": {
      "text/plain": [
       "name    Lincoln Continental\n",
       "mpg                    10.4\n",
       "cyl                       8\n",
       "disp                    460\n",
       "hp                      215\n",
       "drat                      3\n",
       "wt                    5.424\n",
       "qsec                  17.82\n",
       "vs                        0\n",
       "am                        0\n",
       "gear                      3\n",
       "carb                      4\n",
       "Name: Lincoln Continental, dtype: object"
      ]
     },
     "execution_count": 73,
     "metadata": {},
     "output_type": "execute_result"
    }
   ],
   "source": [
    "mtcars.loc[mtcars['wt'].idxmax(axis=1)]"
   ]
  },
  {
   "cell_type": "code",
   "execution_count": 72,
   "metadata": {},
   "outputs": [
    {
     "data": {
      "text/plain": [
       "name    Lotus Europa\n",
       "mpg             30.4\n",
       "cyl                4\n",
       "disp            95.1\n",
       "hp               113\n",
       "drat            3.77\n",
       "wt             1.513\n",
       "qsec            16.9\n",
       "vs                 1\n",
       "am                 1\n",
       "gear               5\n",
       "carb               2\n",
       "Name: Lotus Europa, dtype: object"
      ]
     },
     "execution_count": 72,
     "metadata": {},
     "output_type": "execute_result"
    }
   ],
   "source": [
    "mtcars.loc[mtcars['wt'].idxmin(axis=1)]"
   ]
  },
  {
   "cell_type": "markdown",
   "metadata": {},
   "source": [
    "### Question 4\n",
    "\n",
    "Find the mean of each row and each column in the given dataset.\n",
    "\n",
    "**Hint:** Use .mean() function. To operate on rows use **axis=0**, on columns use **axis=1**"
   ]
  },
  {
   "cell_type": "code",
   "execution_count": 80,
   "metadata": {},
   "outputs": [
    {
     "data": {
      "text/plain": [
       "name\n",
       "Mazda RX4              29.907273\n",
       "Mazda RX4 Wag          29.981364\n",
       "Datsun 710             23.598182\n",
       "Hornet 4 Drive         38.739545\n",
       "Hornet Sportabout      53.664545\n",
       "Valiant                35.049091\n",
       "Duster 360             59.720000\n",
       "Merc 240D              24.634545\n",
       "Merc 230               27.233636\n",
       "Merc 280               31.860000\n",
       "Merc 280C              31.787273\n",
       "Merc 450SE             46.430909\n",
       "Merc 450SL             46.500000\n",
       "Merc 450SLC            46.350000\n",
       "Cadillac Fleetwood     66.232727\n",
       "Lincoln Continental    66.058545\n",
       "Chrysler Imperial      65.972273\n",
       "Fiat 128               19.440909\n",
       "Honda Civic            17.742273\n",
       "Toyota Corolla         18.814091\n",
       "Toyota Corona          24.888636\n",
       "Dodge Challenger       47.240909\n",
       "AMC Javelin            46.007727\n",
       "Camaro Z28             58.752727\n",
       "Pontiac Firebird       57.379545\n",
       "Fiat X1-9              18.928636\n",
       "Porsche 914-2          24.779091\n",
       "Lotus Europa           24.880273\n",
       "Ford Pantera L         60.971818\n",
       "Ferrari Dino           34.508182\n",
       "Maserati Bora          63.155455\n",
       "Volvo 142E             26.262727\n",
       "dtype: float64"
      ]
     },
     "execution_count": 80,
     "metadata": {},
     "output_type": "execute_result"
    }
   ],
   "source": [
    "Mean_row = mtcars.mean(axis=1)\n",
    "Mean_column = mtcars.mean(axis=0)\n",
    "Mean_row"
   ]
  },
  {
   "cell_type": "code",
   "execution_count": 81,
   "metadata": {},
   "outputs": [
    {
     "data": {
      "text/plain": [
       "mpg      20.090625\n",
       "cyl       6.187500\n",
       "disp    230.721875\n",
       "hp      146.687500\n",
       "drat      3.596563\n",
       "wt        3.217250\n",
       "qsec     17.848750\n",
       "vs        0.437500\n",
       "am        0.406250\n",
       "gear      3.687500\n",
       "carb      2.812500\n",
       "dtype: float64"
      ]
     },
     "execution_count": 81,
     "metadata": {},
     "output_type": "execute_result"
    }
   ],
   "source": [
    "Mean_column"
   ]
  },
  {
   "cell_type": "markdown",
   "metadata": {},
   "source": [
    "### Question 5\n",
    "\n",
    "Plot mpg values of mtcards dataframe using matplotlib.\n",
    "\n",
    "**Hint: Use plt.plot function**"
   ]
  },
  {
   "cell_type": "code",
   "execution_count": 82,
   "metadata": {},
   "outputs": [
    {
     "data": {
      "text/plain": [
       "[<matplotlib.lines.Line2D at 0x1a1ad35c18>]"
      ]
     },
     "execution_count": 82,
     "metadata": {},
     "output_type": "execute_result"
    },
    {
     "data": {
      "image/png": "[encoded data removed]",
      "text/plain": [
       "<matplotlib.figure.Figure at 0x191abf5be0>"
      ]
     },
     "metadata": {},
     "output_type": "display_data"
    }
   ],
   "source": [
    "\n",
    "plt.plot(mtcars['mpg'])\n"
   ]
  },
  {
   "cell_type": "markdown",
   "metadata": {},
   "source": [
    "## Part 2"
   ]
  },
  {
   "cell_type": "markdown",
   "metadata": {},
   "source": [
    "## Measures of Dispersion"
   ]
  },
  {
   "cell_type": "markdown",
   "metadata": {},
   "source": [
    "Measures of Dispersion (Spread) are statistics that describe how data varies. Measure of dispersion gives us the sense of how much the data tends to diverge from the central tendency."
   ]
  },
  {
   "cell_type": "markdown",
   "metadata": {},
   "source": [
    "### Question 6\n",
    "\n",
    "What the range of `mpg` in the given dataset?\n",
    "\n",
    "**Hint:** Range = max-min"
   ]
  },
  {
   "cell_type": "code",
   "execution_count": 30,
   "metadata": {},
   "outputs": [
    {
     "data": {
      "text/plain": [
       "23.5"
      ]
     },
     "execution_count": 30,
     "metadata": {},
     "output_type": "execute_result"
    }
   ],
   "source": [
    "Range = max(mtcars['mpg'])-min(mtcars['mpg'])\n",
    "Range"
   ]
  },
  {
   "cell_type": "markdown",
   "metadata": {},
   "source": [
    "### Question 7\n",
    "\n",
    "Calculate the 25th quantile (lower quantile)for `mpg` in the given dataset.\n",
    "\n",
    "**Hint:** Use **.quantile()**"
   ]
  },
  {
   "cell_type": "code",
   "execution_count": 32,
   "metadata": {},
   "outputs": [
    {
     "data": {
      "text/plain": [
       "15.425"
      ]
     },
     "execution_count": 32,
     "metadata": {},
     "output_type": "execute_result"
    }
   ],
   "source": [
    "mtcars['mpg'].quantile(0.25)"
   ]
  },
  {
   "cell_type": "markdown",
   "metadata": {},
   "source": [
    "### Question 8\n",
    "\n",
    "Calculate the Inter-Quartile Range(IQR) for `mpg` in the given dataset."
   ]
  },
  {
   "cell_type": "markdown",
   "metadata": {},
   "source": [
    "Interquartile range (IQR) is another common measure of spread. IQR is the distance between the 3rd quartile and the 1st quartile.\n",
    "\n",
    "**Hint:** IQR = Q3 - Q1"
   ]
  },
  {
   "cell_type": "code",
   "execution_count": 43,
   "metadata": {},
   "outputs": [
    {
     "data": {
      "text/plain": [
       "7.375"
      ]
     },
     "execution_count": 43,
     "metadata": {},
     "output_type": "execute_result"
    }
   ],
   "source": [
    "mtcars['mpg'].quantile(0.75)- mtcars['mpg'].quantile(0.25)"
   ]
  },
  {
   "cell_type": "markdown",
   "metadata": {},
   "source": [
    "### Question 9\n",
    "\n",
    "Calculate the Variance, Standard Deviation and Median Absolute Deviation for `mpg`."
   ]
  },
  {
   "cell_type": "markdown",
   "metadata": {},
   "source": [
    "Variance and Standard Deviation are two other common measure of dispersion.\n",
    "\n",
    "**Hint:** Use .var() and .std()"
   ]
  },
  {
   "cell_type": "markdown",
   "metadata": {},
   "source": [
    "**Hint:** Median Absolute Deviation - alternative measure of spread based on the median. It is the median of the absolute value of the deviations from the median. "
   ]
  },
  {
   "cell_type": "code",
   "execution_count": 44,
   "metadata": {},
   "outputs": [
    {
     "data": {
      "text/plain": [
       "36.32410282258065"
      ]
     },
     "execution_count": 44,
     "metadata": {},
     "output_type": "execute_result"
    }
   ],
   "source": [
    "variance = mtcars['mpg'].var()\n",
    "variance"
   ]
  },
  {
   "cell_type": "code",
   "execution_count": 46,
   "metadata": {},
   "outputs": [
    {
     "data": {
      "text/plain": [
       "6.026948052089105"
      ]
     },
     "execution_count": 46,
     "metadata": {},
     "output_type": "execute_result"
    }
   ],
   "source": [
    "standard = mtcars['mpg'].std()\n",
    "standard"
   ]
  },
  {
   "cell_type": "markdown",
   "metadata": {},
   "source": [
    "## Part 3"
   ]
  },
  {
   "cell_type": "markdown",
   "metadata": {},
   "source": [
    "## Probability Distributions"
   ]
  },
  {
   "cell_type": "markdown",
   "metadata": {},
   "source": [
    "The probability distribution describes how a random variable is distributed. It tells us which values a variable is most likely to take on and which values are less likely to take on. "
   ]
  },
  {
   "cell_type": "markdown",
   "metadata": {},
   "source": [
    "Each value in the given range is equally likely to occur. "
   ]
  },
  {
   "cell_type": "code",
   "execution_count": 4,
   "metadata": {},
   "outputs": [],
   "source": [
    "import scipy.stats as stats # Many functions for probability distributions in python are in scipy.stats"
   ]
  },
  {
   "cell_type": "markdown",
   "metadata": {},
   "source": [
    "### Question 10\n",
    "\n",
    "Generate 1000 datapoints with standard normal distribution with mean 0 and standard deviation 1. "
   ]
  },
  {
   "cell_type": "markdown",
   "metadata": {},
   "source": [
    "#### Normal Distribution"
   ]
  },
  {
   "cell_type": "markdown",
   "metadata": {},
   "source": [
    "The normal or Gaussian Distribution is a continuos probability distribution given by a symmetric bell shaped curve. It is defined its center(mean) and spread(std)."
   ]
  },
  {
   "cell_type": "markdown",
   "metadata": {},
   "source": [
    "The bulk of the observations generated from a normal distribution lie near the mean which lies at the center. About 68% of the data lies within 1 std, 95% lies within 2 stds and 99.7% lies within 3 stds.\n",
    "\n",
    "**Hint:** You can use **np.random.normal()** function to generate normal distribution"
   ]
  },
  {
   "cell_type": "code",
   "execution_count": 79,
   "metadata": {},
   "outputs": [
    {
     "data": {
      "text/plain": [
       "array([ 0.00731485, -0.71348699,  0.23288834, -1.54597681,  0.64011527,\n",
       "       -3.22597538, -0.91182704, -1.29807204, -1.142517  , -1.09134126,\n",
       "        0.68556154,  0.22595753,  0.65836518, -1.11324746, -0.28474088,\n",
       "       -1.2948411 , -0.18048801, -0.21156342,  1.04041689, -0.61477237,\n",
       "        1.32733152, -1.39502576,  0.66298139,  2.17029791,  1.27748499,\n",
       "       -0.41862898,  0.23586862, -2.62616233,  0.01776635,  1.31029929,\n",
       "        0.6528941 ,  0.13898266, -1.78820047, -2.56616756, -0.44948583,\n",
       "        0.19686285,  1.63598429,  1.1337773 ,  0.72835634, -1.11563291,\n",
       "        0.94695351,  2.40133766, -0.62959839,  1.28118589,  0.9443269 ,\n",
       "       -1.01056243,  0.13458486, -0.16986443, -0.90383054,  0.12685616,\n",
       "       -0.08872245, -0.01422748,  1.7047664 , -0.23532646, -0.65119969,\n",
       "        0.06159799,  2.17180723,  0.2370687 , -0.05022961, -0.01603848,\n",
       "        0.83717042, -0.38342138,  0.44665698, -0.54600946, -1.09101177,\n",
       "        1.49487908, -0.28077417,  0.03235971,  1.81328166,  0.04673471,\n",
       "       -0.55571352, -0.03351165, -0.40545864,  0.01415863,  0.35425871,\n",
       "        1.48430856, -0.1685454 ,  1.16521287,  1.51867365, -1.2408484 ,\n",
       "        0.2992071 ,  0.51015924, -0.2890349 , -0.84254672, -1.91443917,\n",
       "        0.28063826, -0.96101366,  0.22039549, -0.75586747, -0.46965623,\n",
       "        0.73357997, -0.70994837,  0.68317788,  0.31377709, -0.01738075,\n",
       "       -0.22772099,  0.67796284, -1.55706556,  2.17374467, -2.04802913,\n",
       "        1.01375701, -1.25905683, -1.52874083,  1.51481594, -0.69140621,\n",
       "        1.50198302, -0.95171599, -0.33753862, -0.63868461, -0.35515926,\n",
       "       -1.54290465,  0.04497219,  0.00378095,  1.38958826, -0.78397874,\n",
       "        1.15150029, -0.72623978,  0.18539575,  0.8199974 ,  1.60353611,\n",
       "        0.19089835,  1.55006393, -0.59548236, -1.25117768,  0.21505723,\n",
       "        0.60698173, -0.44849244, -2.43265771,  0.70652822, -0.50000554,\n",
       "        0.32438622, -0.86617754,  0.79207875, -0.08069731, -1.188163  ,\n",
       "       -1.8088555 ,  0.42789732, -0.54716475, -0.35562268, -0.76299802,\n",
       "       -0.54377886, -1.61712209,  1.76771138, -0.01913857, -1.21461767,\n",
       "       -0.85567038, -1.50489992,  1.26257376, -0.43238776, -0.2564674 ,\n",
       "        0.4030164 ,  0.64922015,  0.32027081, -0.16651566, -1.82551779,\n",
       "       -2.35060816, -0.98994252, -0.51726389, -1.36793921,  1.17456596,\n",
       "        0.21082344, -0.15755098, -0.77019155,  0.75100745, -0.10165322,\n",
       "       -0.21950483,  0.41628664,  0.6876321 , -1.3438907 , -0.35436229,\n",
       "       -1.50683238,  0.85071999,  1.21017617,  0.28336106, -0.00817845,\n",
       "       -0.6334578 , -0.73786923,  2.50740552,  1.37137765,  0.74084843,\n",
       "        0.9603449 ,  1.12704533, -0.80877006,  1.35653441,  0.42713404,\n",
       "       -0.47916358,  0.54141543, -0.70705846,  0.38841631, -0.83845116,\n",
       "        1.56779795,  0.19013092, -0.17614234,  1.34377586, -0.31079076,\n",
       "       -0.65862467,  1.29536228,  1.66390758, -0.60412929,  1.32176873,\n",
       "       -1.30820387,  0.52042667,  0.2641732 ,  0.73189177, -0.12358782,\n",
       "        1.1124937 ,  0.33352116, -0.27690355, -2.0047025 ,  0.96221591,\n",
       "        0.57070875, -0.58102702,  0.14642357,  1.78895887, -0.68234543,\n",
       "       -0.44705476, -0.52602916,  0.67332629,  0.53669497, -0.36558311,\n",
       "       -0.29795543, -0.89621963, -1.11557847, -1.09518483,  1.48604558,\n",
       "        0.3397386 ,  0.05678128,  1.26364739, -0.17526237, -1.22195171,\n",
       "        1.55501094, -1.05502927, -1.75623424, -0.61535421, -1.20508647,\n",
       "        0.34781263, -1.54836557,  1.2091961 ,  0.98006255,  0.1254762 ,\n",
       "       -0.1913368 ,  2.27378327, -0.86392207,  0.44300391, -1.01159752,\n",
       "       -0.28211325,  1.30055439, -1.13693176, -0.14716725,  1.01277901,\n",
       "        1.82346933,  2.34695265, -0.61958262, -0.45900433, -0.37797269,\n",
       "        0.32022273, -0.17514829, -1.5298196 , -1.23133281,  0.81329941,\n",
       "        0.0179734 , -0.03233978,  0.06614108,  0.84430202,  0.42907776,\n",
       "        0.67844208,  1.81624407,  0.04578964, -0.81391843, -1.26313298,\n",
       "       -0.83715555, -1.09317492, -0.02604859,  0.19392781, -0.5091612 ,\n",
       "        1.15045227,  1.05867515, -0.7353659 , -1.13885415,  1.1342518 ,\n",
       "        0.39939034, -0.28988198, -1.08933279,  0.32841934,  0.35228608,\n",
       "        1.75752011,  0.15042128, -1.17977789,  0.41362406, -0.56372528,\n",
       "       -0.75793173, -1.67824835,  0.19775344, -1.015971  , -0.04064245,\n",
       "       -1.13078092, -0.35480105,  0.64187467, -0.31639332,  1.49770367,\n",
       "        0.75950863, -0.02764944, -1.06075492,  0.60408032, -0.61731864,\n",
       "       -0.44694173, -1.66892068,  2.6233634 ,  0.90568724,  1.62937294,\n",
       "       -1.24932723, -1.79701989, -0.23754932,  0.6207575 , -0.11219617,\n",
       "        0.77746446,  0.19178351,  0.8214042 ,  0.27155202, -0.88829275,\n",
       "       -1.1573404 , -2.21772281, -0.4110202 , -0.48007243,  0.75893546,\n",
       "        0.25637538,  1.49781792,  1.38053242,  0.68641004,  0.30190704,\n",
       "        2.06336343,  0.53644201,  0.24541174,  0.56393399, -0.80496704,\n",
       "       -1.00667464, -0.59715165,  0.04349014, -0.7345657 ,  0.41041714,\n",
       "       -0.63821511, -0.49566218, -0.49211462, -0.71810733,  0.82145555,\n",
       "        1.15439978, -0.62797771,  0.76817734,  0.09805741, -1.08902137,\n",
       "        1.60529075, -1.73766533,  0.03837387,  2.00653924,  1.65394475,\n",
       "       -0.86756789,  1.45099098,  0.36273973,  1.15738584,  0.19231955,\n",
       "        2.90939511, -0.79730557,  1.02357008, -0.21299222, -1.20632533,\n",
       "       -0.64318877, -0.72306304, -0.12332891,  0.94543563,  0.20389339,\n",
       "        1.13987453,  0.48315366,  0.07945881, -0.15355558, -2.25793121,\n",
       "       -1.88799624,  0.14718176,  0.1886022 ,  0.18233035,  1.2745861 ,\n",
       "        1.13736173, -1.57892357,  0.95790026,  1.98771496,  0.27129035,\n",
       "       -0.9414762 ,  0.73568663,  0.55150008, -2.39977328, -0.59808203,\n",
       "       -0.88834575, -0.15548339, -0.9670408 ,  0.68894365,  1.37573192,\n",
       "       -0.7853496 , -0.38132165,  1.17990554, -1.05594669, -0.35973411,\n",
       "        1.63497233,  0.85565406,  0.45684248, -1.29885087,  0.32648015,\n",
       "        0.66985544,  0.82130056,  0.31785483, -0.37811406,  1.68579503,\n",
       "        1.2747837 , -0.61844005, -0.60670896, -0.23989876,  0.09806984,\n",
       "        1.80983807,  0.80049136, -0.31693553, -1.41208246, -0.40338352,\n",
       "       -2.08926724, -0.24601499, -3.38937023, -0.00704153, -1.23007624,\n",
       "       -0.18125309, -1.06420026, -1.52523765, -0.2808664 , -1.46372687,\n",
       "       -1.83223902,  1.52495936,  1.37791296,  0.96915121,  0.97895637,\n",
       "        0.23068233,  1.93607373, -0.64284114, -0.38600632,  0.30463834,\n",
       "       -0.56100726, -1.41434041, -1.32901461, -1.52158721, -0.55664095,\n",
       "       -3.11972322,  0.16641184,  0.64034752, -1.65707111, -0.93122937,\n",
       "        0.64842274,  0.54255738, -0.40794381, -0.17436344, -0.3465289 ,\n",
       "        0.92124154, -1.4915976 ,  0.6408988 ,  2.1205743 ,  0.91818675,\n",
       "        2.66852508, -0.99483662, -0.47090163, -0.75076189, -0.21635508,\n",
       "       -0.20893685, -1.56925268,  0.4550166 ,  0.17593089, -0.11108108,\n",
       "       -1.37072072, -0.30331289, -2.52278546, -1.28829432,  0.21044843,\n",
       "       -0.28145747,  0.06507281, -1.57555911, -0.17599583, -0.50028552,\n",
       "        0.82376301, -1.06186937, -0.25848101,  0.29005551,  2.66240342,\n",
       "        0.07361382, -0.43382521, -0.32533933, -0.42040152,  0.42148803,\n",
       "        0.78793406,  0.16899226, -0.13262647,  0.99107969, -0.87465452,\n",
       "       -0.67255937,  0.09270894,  0.33183395, -1.46700108,  0.2377021 ,\n",
       "        0.302948  ,  1.74624113, -0.81580294, -1.20053039, -0.49678245,\n",
       "        1.18249468,  0.8002553 ,  0.04602199, -0.22275531,  0.15731574,\n",
       "       -1.1737089 ,  0.09424392, -0.27898484, -0.80862932,  1.19717414,\n",
       "        0.69979075,  0.19808866, -0.47064794, -0.02397436,  1.08839918,\n",
       "       -0.79409045,  1.25624065,  0.78868882, -0.20918183, -0.45940247,\n",
       "       -0.24269245,  0.26403697, -0.39815231, -0.23358348, -1.42692241,\n",
       "       -1.10697268, -1.1744989 ,  1.26770617, -0.85504955,  0.09789162,\n",
       "        0.44435487, -0.65937173, -0.12606387, -1.2713692 ,  0.5903639 ,\n",
       "       -0.15636973, -1.92233026, -1.01795108, -0.52457098,  0.31584917,\n",
       "       -0.84186113,  0.71558954,  2.08405072,  0.84604166,  0.12547408,\n",
       "        0.8218236 , -0.78525475, -1.1631295 , -0.55620842, -0.42482717,\n",
       "        0.34238969,  1.30958153,  0.0096406 ,  0.32458833,  0.77688431,\n",
       "       -0.00677135, -0.09158469,  0.2126758 , -0.06338949, -0.82526438,\n",
       "       -1.98046276, -0.60344608, -0.01981481, -2.28544798,  0.24087748,\n",
       "        2.00936689, -0.15412943, -0.49892655, -0.51741816, -0.73991936,\n",
       "        0.09064741,  0.74043478, -0.1096104 , -1.58759978, -0.14561202,\n",
       "        0.55715183, -0.8978843 , -1.80870608, -0.52775918,  1.43302311,\n",
       "       -0.16600302, -0.27900162,  0.83773413, -1.0635817 , -1.50944531,\n",
       "        1.79396927, -1.31990179,  0.55044771,  0.34573286, -1.35778786,\n",
       "       -1.51454673, -0.97871332, -0.60652169, -0.42167688,  0.00779187,\n",
       "       -0.35390675,  0.80680073, -0.3698389 ,  1.41030834, -0.41236971,\n",
       "       -0.03798835,  0.53686998,  1.80436358, -1.66072212, -0.64372805,\n",
       "       -0.16929212,  1.80694636,  0.0401349 ,  1.37290047,  2.12030356,\n",
       "        3.13243765, -0.76732496,  1.3055553 , -1.30680858,  0.39633248,\n",
       "        0.47330903, -0.38864406,  1.5849137 , -0.48442046,  0.77344639,\n",
       "        0.5410256 ,  0.37702829,  0.11365572, -0.89938536, -1.99494615,\n",
       "       -0.6870657 , -0.24757563, -0.54583199,  0.88440517,  0.25222315,\n",
       "        1.18888679,  0.29107842, -0.05867727,  0.07445691, -0.40245556,\n",
       "       -2.30018764,  1.24218436, -1.6787599 , -0.42879455,  1.43604764,\n",
       "       -0.2471289 , -0.52459981, -0.71564199,  0.98049645, -0.72382277,\n",
       "        0.32126158, -0.78180394, -0.71278906, -1.74396912, -0.0606874 ,\n",
       "       -1.41270374,  0.7401694 ,  1.88010089, -1.67554912, -0.62437236,\n",
       "       -0.55196723,  0.02318679,  0.62495357,  0.36046489,  0.0251041 ,\n",
       "       -1.05213214,  1.66709112,  1.68018915,  1.24389994,  0.88666144,\n",
       "        0.18125669,  1.42717926,  0.14967185, -0.30470319,  0.43346133,\n",
       "       -0.26952507,  1.81300827, -2.48457869, -0.78577574,  0.26179725,\n",
       "        1.34666161,  0.44025295, -0.57321062,  0.12934515,  0.51637613,\n",
       "       -1.08075107, -1.03896654,  0.60028578, -0.60332182, -1.49360111,\n",
       "        0.11627624, -1.82103843,  1.40495757, -0.53426226,  0.86931724,\n",
       "       -0.68505859,  0.31264882, -2.22471923, -0.81342043,  0.53808557,\n",
       "       -0.49043463, -0.20773007, -0.55104572, -0.53589222,  0.10949116,\n",
       "       -1.74325986,  1.20268603,  1.97368816, -1.28592978, -1.68096262,\n",
       "       -1.39955716, -0.93644958,  1.13694238,  0.57243004, -0.48829356,\n",
       "       -0.57097554, -0.19249412,  0.39205052,  1.1953661 , -0.88349282,\n",
       "        0.62799427,  0.64349562,  1.1002438 ,  0.20222264, -0.94968339,\n",
       "       -0.63651656,  0.42070929,  1.72524951,  1.32543611, -0.90507028,\n",
       "       -1.07738282,  0.881252  ,  0.7381299 , -1.53249627, -1.40860813,\n",
       "       -0.11894797,  0.32486402, -1.06322633, -1.0316788 ,  0.44490095,\n",
       "        0.9353462 ,  0.98444727,  1.26197305, -1.54513614,  1.19376712,\n",
       "        1.40266835, -0.41400857, -0.33074046,  0.13336755, -2.06845097,\n",
       "       -0.42425962, -0.0179584 ,  1.49362404, -1.42315022, -0.1186724 ,\n",
       "        1.76785141,  0.91768816,  0.22407464, -0.25159945,  1.49111028,\n",
       "       -0.0455138 ,  0.03377054,  0.14458093, -0.94923037, -0.30752115,\n",
       "       -0.14893802,  1.03312085,  0.76078555,  0.53234328,  1.532465  ,\n",
       "        0.12703228,  0.21412606, -1.50762867, -0.25548708,  0.58799598,\n",
       "        0.27241429,  2.17947605,  1.56982963,  0.42625614,  0.10148835,\n",
       "       -0.15395147,  1.56694764,  1.11699931,  0.4002015 ,  0.64093241,\n",
       "       -0.88302391,  0.52819297,  0.65517374, -0.46428899, -1.19869811,\n",
       "        0.86124831, -0.50613734, -0.11667986, -0.20250535, -1.54228905,\n",
       "        1.95762876,  0.12567512, -0.48929987,  1.25165237,  1.16989476,\n",
       "        1.07740133, -1.46934582, -0.10379237,  0.73077319,  0.52257538,\n",
       "        0.57360806, -1.0583266 ,  0.58741178,  0.63951192, -1.69291609,\n",
       "        1.08982786,  0.78182434, -0.75296789, -0.0653937 ,  0.96326958,\n",
       "       -1.16257687,  0.00351134,  1.92327608, -1.71993115, -1.80159986,\n",
       "       -1.78432225, -1.00888973,  0.596493  ,  0.77458749, -0.75352796,\n",
       "       -0.13272238,  1.50963726, -0.3681546 ,  1.95095639,  0.93554208,\n",
       "       -0.19495061, -0.73508945,  0.84956227,  0.5477517 ,  0.81634783,\n",
       "        0.02784557,  0.27234736, -0.72167814,  0.44645738,  0.07097139,\n",
       "       -0.71064141,  2.63462232,  0.75958609,  2.52203618,  0.0455688 ,\n",
       "       -0.95391469,  0.21493945,  1.02237142, -0.40659814, -0.02916663,\n",
       "       -0.86180198, -0.16968393,  1.21044417,  1.12131367,  1.77159103,\n",
       "        1.77092025, -0.10073771,  0.62717584, -0.75590196,  0.69424445,\n",
       "       -1.39376528, -1.75104775,  0.05889952,  0.66792655,  1.46306139,\n",
       "       -0.61682633,  0.08790254, -0.61784925, -0.33754861,  0.45289053,\n",
       "        1.17003474,  0.30539529,  1.05242887,  0.12252597,  1.43334031,\n",
       "        0.69344633, -0.0207668 , -0.36169961, -0.00781328, -2.60747288,\n",
       "       -0.34758794, -1.30694464,  0.79886898,  0.61638531,  0.48225362,\n",
       "       -0.29257251, -0.96297389, -0.03860405,  1.59534513, -0.46591754,\n",
       "        0.04824982, -0.63348996,  0.77373694, -0.89308774, -1.71109424,\n",
       "       -0.48644282, -2.20662218,  0.96555668,  0.31581204,  0.75378964,\n",
       "        0.42485714, -0.05746497,  1.40451282,  2.46912129, -1.78504857,\n",
       "       -0.17422494,  0.85576562, -0.22252868, -1.14565731,  0.96762383,\n",
       "        1.95583751, -0.67910538, -0.06583313,  1.75331092,  0.64799237,\n",
       "       -0.18408808, -0.13495426, -0.05218398,  0.19871689,  0.34283251,\n",
       "       -0.06930061, -0.57745929, -1.82168129, -1.0018475 ,  0.99072912,\n",
       "        0.38230552, -0.57251439, -1.48890933, -0.36150525, -0.56306301,\n",
       "        1.11398405, -0.99607691, -1.07871317,  1.51600523,  1.59851158,\n",
       "        0.64228428, -0.39368221, -1.89315741, -0.87944389,  1.38747394,\n",
       "       -0.79724938,  1.63308329,  0.16835721, -1.66416466, -0.00845293,\n",
       "       -0.81046067, -2.49890896,  0.43211065,  0.48190494,  0.99418246,\n",
       "       -0.91257209,  0.32737374,  1.3097944 , -0.95489663,  0.25548368,\n",
       "        0.24359303, -0.20106889, -0.90456433,  2.03837934, -0.57147452,\n",
       "        0.00926682,  0.69491129,  0.09295657, -0.50995225, -0.66472618,\n",
       "       -2.14101426, -0.27921655, -2.12477813,  1.06485703,  1.00393755,\n",
       "        0.52966117, -0.27246622, -0.4078731 , -1.62779613, -0.53761727,\n",
       "        1.36235558, -0.08870171,  2.5164021 , -1.02885859, -0.68279517,\n",
       "        1.77613522, -0.45535632,  1.03906369,  1.48182703, -1.99355045,\n",
       "       -0.13048269,  0.59024438, -1.07703161,  1.54663774, -0.88955467,\n",
       "        0.37859741,  2.54265389,  0.81309653, -0.1008356 , -0.349011  ,\n",
       "        0.71631346, -0.08095528, -2.32980492,  0.6068631 , -0.32979861])"
      ]
     },
     "execution_count": 79,
     "metadata": {},
     "output_type": "execute_result"
    }
   ],
   "source": [
    "np.random.normal(0,1,1000)"
   ]
  },
  {
   "cell_type": "markdown",
   "metadata": {},
   "source": [
    "## Question 11\n",
    "\n",
    "Generate binomial distribution data for fair coin flipping of size 100. Assume `0` for head and `1` for tail.\n",
    "\n",
    "[ **Hint:** For fair coin flip `p=0.5` ]"
   ]
  },
  {
   "cell_type": "markdown",
   "metadata": {},
   "source": [
    "#### Binomial Distribution"
   ]
  },
  {
   "cell_type": "markdown",
   "metadata": {},
   "source": [
    "It is defined by 2 parameters: the probability of success and the number of trails. It tells about how likely it is possible to get a given number of successes in n trails."
   ]
  },
  {
   "cell_type": "code",
   "execution_count": 6,
   "metadata": {},
   "outputs": [
    {
     "data": {
      "text/plain": [
       "array([7.88860905e-31, 7.88860905e-29, 3.90486148e-27, 1.27558808e-25,\n",
       "       3.09330110e-24, 5.93913812e-23, 9.40363535e-22, 1.26277389e-20,\n",
       "       1.46797465e-19, 1.50059631e-18, 1.36554264e-17, 1.11726216e-16,\n",
       "       8.28636101e-16, 5.60922899e-15, 3.48573516e-14, 1.99848816e-13,\n",
       "       1.06169683e-12, 5.24603142e-12, 2.41900338e-11, 1.04399093e-10,\n",
       "       4.22816327e-10, 1.61072886e-09, 5.78398092e-09, 1.96152396e-08,\n",
       "       6.29322272e-08, 1.91313971e-07, 5.51867223e-07, 1.51252498e-06,\n",
       "       3.94336870e-06, 9.79043264e-06, 2.31706906e-05, 5.23209142e-05,\n",
       "       1.12816971e-04, 2.32471335e-04, 4.58105277e-04, 8.63855666e-04,\n",
       "       1.55973940e-03, 2.69792760e-03, 4.47287998e-03, 7.11073227e-03,\n",
       "       1.08438667e-02, 1.58690732e-02, 2.22922695e-02, 3.00686426e-02,\n",
       "       3.89525598e-02, 4.84742966e-02, 5.79583981e-02, 6.65905000e-02,\n",
       "       7.35270104e-02, 7.80286641e-02, 7.95892374e-02, 7.80286641e-02,\n",
       "       7.35270104e-02, 6.65905000e-02, 5.79583981e-02, 4.84742966e-02,\n",
       "       3.89525598e-02, 3.00686426e-02, 2.22922695e-02, 1.58690732e-02,\n",
       "       1.08438667e-02, 7.11073227e-03, 4.47287998e-03, 2.69792760e-03,\n",
       "       1.55973940e-03, 8.63855666e-04, 4.58105277e-04, 2.32471335e-04,\n",
       "       1.12816971e-04, 5.23209142e-05, 2.31706906e-05, 9.79043264e-06,\n",
       "       3.94336870e-06, 1.51252498e-06, 5.51867223e-07, 1.91313971e-07,\n",
       "       6.29322272e-08, 1.96152396e-08, 5.78398092e-09, 1.61072886e-09,\n",
       "       4.22816327e-10, 1.04399093e-10, 2.41900338e-11, 5.24603142e-12,\n",
       "       1.06169683e-12, 1.99848816e-13, 3.48573516e-14, 5.60922899e-15,\n",
       "       8.28636101e-16, 1.11726216e-16, 1.36554264e-17, 1.50059631e-18,\n",
       "       1.46797465e-19, 1.26277389e-20, 9.40363535e-22, 5.93913812e-23,\n",
       "       3.09330110e-24, 1.27558808e-25, 3.90486148e-27, 7.88860905e-29,\n",
       "       7.88860905e-31])"
      ]
     },
     "execution_count": 6,
     "metadata": {},
     "output_type": "execute_result"
    }
   ],
   "source": [
    "n = 100\n",
    "p = 0.5\n",
    "k = np.arange(0,101)\n",
    "binomial = stats.binom.pmf(k,n,p)\n",
    "binomial"
   ]
  },
  {
   "cell_type": "markdown",
   "metadata": {},
   "source": [
    "#### Visualizing Poisson Distribution"
   ]
  },
  {
   "cell_type": "markdown",
   "metadata": {},
   "source": [
    "It models the probability of seeing certain number of successes within a time interval."
   ]
  },
  {
   "cell_type": "code",
   "execution_count": 133,
   "metadata": {},
   "outputs": [
    {
     "data": {
      "image/png": "[encoded data removed]",
      "text/plain": [
       "<matplotlib.figure.Figure at 0x7f7c10ffbe90>"
      ]
     },
     "metadata": {},
     "output_type": "display_data"
    }
   ],
   "source": [
    "poisson_data = stats.poisson.rvs(size=100,mu=10)\n",
    "\n",
    "pd.DataFrame(poisson_data).hist()\n",
    "\n",
    "plt.show()"
   ]
  }
 ],
 "metadata": {
  "kernelspec": {
   "display_name": "Python 3",
   "language": "python",
   "name": "python3"
  },
  "language_info": {
   "codemirror_mode": {
    "name": "ipython",
    "version": 3
   },
   "file_extension": ".py",
   "mimetype": "text/x-python",
   "name": "python",
   "nbconvert_exporter": "python",
   "pygments_lexer": "ipython3",
   "version": "3.6.4"
  }
 },
 "nbformat": 4,
 "nbformat_minor": 2
}
