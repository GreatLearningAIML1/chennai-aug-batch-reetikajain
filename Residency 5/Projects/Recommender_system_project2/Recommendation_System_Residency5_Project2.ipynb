{
 "cells": [
  {
   "cell_type": "markdown",
   "metadata": {},
   "source": [
    "Dataset columns - first three columns are userId, productId, and ratings and the fourth column is timestamp. You can discard the timestamp column as in this case you may not need to use it.\n",
    "\n",
    "\n",
    "o The repository has several datasets. For this case study, please use the Electronics dataset.\n",
    "\n",
    "o The host page has several pointers to scripts and other examples that can help with parsing the datasets.\n",
    "\n",
    "o The data set consists of:\n",
    "● 7,824,482 Ratings (1-5) for Electronics products.\n",
    "● Other metadata about products. Please see the description of the fields available on the web page cited above."
   ]
  },
  {
   "cell_type": "markdown",
   "metadata": {},
   "source": [
    "Steps -\n",
    "1. Read and explore the dataset. (Rename column, plot histograms, find data characteristics)\n",
    "\n",
    "2. Take subset of dataset to make it less sparse/more dense. (For example, keep the users only who has given 50 or more number of ratings )\n",
    "3. Split the data randomly into train and test dataset. (For example split it in 70/30 ratio)\n",
    "4. Build Popularity Recommender model.\n",
    "5. Build Collaborative Filtering model.\n",
    "6. Evaluate both the models. (Once the model is trained on the training data, it can be used to compute the error (RMSE) on predictions made on the test data.)\n",
    "7. Get top - K (K = 5) recommendations. Since our goal is to recommend new products to each user based on his/her habits,we will recommend 5 new products.\n",
    "8. Summarise your insights."
   ]
  },
  {
   "cell_type": "code",
   "execution_count": 3,
   "metadata": {},
   "outputs": [],
   "source": [
    "import matplotlib.pyplot as plt\n",
    "\n",
    "import pandas\n",
    "from sklearn.cross_validation import train_test_split\n",
    "import numpy as np\n",
    "import time\n"
   ]
  },
  {
   "cell_type": "markdown",
   "metadata": {},
   "source": [
    "# 1. Read and explore the dataset. (Rename column, plot histograms, find data characteristics)"
   ]
  },
  {
   "cell_type": "code",
   "execution_count": 4,
   "metadata": {},
   "outputs": [],
   "source": [
    "\n",
    "#using electronics meta file to get title for the dataset which has product id, userid and ratings\n",
    "\n",
    "import pandas as pd\n",
    "import gzip\n",
    "\n",
    "def parse(path):\n",
    "    g = gzip.open(path, 'rb')\n",
    "    for l in g:\n",
    "        yield eval(l)\n",
    "\n",
    "def getDF(path):\n",
    "    i = 0\n",
    "    df = {}\n",
    "    for d in parse(path):\n",
    "        df[i] = d\n",
    "        i += 1\n",
    "    return pd.DataFrame.from_dict(df, orient='index')\n",
    "\n",
    "df = getDF('meta_Electronics.json.gz')"
   ]
  },
  {
   "cell_type": "code",
   "execution_count": 5,
   "metadata": {},
   "outputs": [
    {
     "data": {
      "text/html": [
       "<div>\n",
       "<style scoped>\n",
       "    .dataframe tbody tr th:only-of-type {\n",
       "        vertical-align: middle;\n",
       "    }\n",
       "\n",
       "    .dataframe tbody tr th {\n",
       "        vertical-align: top;\n",
       "    }\n",
       "\n",
       "    .dataframe thead th {\n",
       "        text-align: right;\n",
       "    }\n",
       "</style>\n",
       "<table border=\"1\" class=\"dataframe\">\n",
       "  <thead>\n",
       "    <tr style=\"text-align: right;\">\n",
       "      <th></th>\n",
       "      <th>asin</th>\n",
       "      <th>imUrl</th>\n",
       "      <th>description</th>\n",
       "      <th>categories</th>\n",
       "      <th>title</th>\n",
       "      <th>price</th>\n",
       "      <th>salesRank</th>\n",
       "      <th>related</th>\n",
       "      <th>brand</th>\n",
       "    </tr>\n",
       "  </thead>\n",
       "  <tbody>\n",
       "    <tr>\n",
       "      <th>0</th>\n",
       "      <td>0132793040</td>\n",
       "      <td>http://ecx.images-amazon.com/images/I/31JIPhp%...</td>\n",
       "      <td>The Kelby Training DVD Mastering Blend Modes i...</td>\n",
       "      <td>[[Electronics, Computers &amp; Accessories, Cables...</td>\n",
       "      <td>Kelby Training DVD: Mastering Blend Modes in A...</td>\n",
       "      <td>NaN</td>\n",
       "      <td>NaN</td>\n",
       "      <td>NaN</td>\n",
       "      <td>NaN</td>\n",
       "    </tr>\n",
       "    <tr>\n",
       "      <th>1</th>\n",
       "      <td>0321732944</td>\n",
       "      <td>http://ecx.images-amazon.com/images/I/31uogm6Y...</td>\n",
       "      <td>NaN</td>\n",
       "      <td>[[Electronics, Computers &amp; Accessories, Cables...</td>\n",
       "      <td>Kelby Training DVD: Adobe Photoshop CS5 Crash ...</td>\n",
       "      <td>NaN</td>\n",
       "      <td>NaN</td>\n",
       "      <td>NaN</td>\n",
       "      <td>NaN</td>\n",
       "    </tr>\n",
       "    <tr>\n",
       "      <th>2</th>\n",
       "      <td>0439886341</td>\n",
       "      <td>http://ecx.images-amazon.com/images/I/51k0qa8f...</td>\n",
       "      <td>Digital Organizer and Messenger</td>\n",
       "      <td>[[Electronics, Computers &amp; Accessories, PDAs, ...</td>\n",
       "      <td>Digital Organizer and Messenger</td>\n",
       "      <td>8.15</td>\n",
       "      <td>{'Electronics': 144944}</td>\n",
       "      <td>{'also_viewed': ['0545016266', 'B009ECM8QY', '...</td>\n",
       "      <td>NaN</td>\n",
       "    </tr>\n",
       "    <tr>\n",
       "      <th>3</th>\n",
       "      <td>0511189877</td>\n",
       "      <td>http://ecx.images-amazon.com/images/I/41HaAhbv...</td>\n",
       "      <td>The CLIKR-5 UR5U-8780L remote control is desig...</td>\n",
       "      <td>[[Electronics, Accessories &amp; Supplies, Audio &amp;...</td>\n",
       "      <td>CLIKR-5 Time Warner Cable Remote Control UR5U-...</td>\n",
       "      <td>23.36</td>\n",
       "      <td>NaN</td>\n",
       "      <td>{'also_viewed': ['B001KC08A4', 'B00KUL8O0W', '...</td>\n",
       "      <td>NaN</td>\n",
       "    </tr>\n",
       "    <tr>\n",
       "      <th>4</th>\n",
       "      <td>0528881469</td>\n",
       "      <td>http://ecx.images-amazon.com/images/I/51FnRkJq...</td>\n",
       "      <td>Like its award-winning predecessor, the Intell...</td>\n",
       "      <td>[[Electronics, GPS &amp; Navigation, Vehicle GPS, ...</td>\n",
       "      <td>Rand McNally 528881469 7-inch Intelliroute TND...</td>\n",
       "      <td>299.99</td>\n",
       "      <td>NaN</td>\n",
       "      <td>{'also_viewed': ['B006ZOI9OY', 'B00C7FKT2A', '...</td>\n",
       "      <td>NaN</td>\n",
       "    </tr>\n",
       "  </tbody>\n",
       "</table>\n",
       "</div>"
      ],
      "text/plain": [
       "         asin                                              imUrl  \\\n",
       "0  0132793040  http://ecx.images-amazon.com/images/I/31JIPhp%...   \n",
       "1  0321732944  http://ecx.images-amazon.com/images/I/31uogm6Y...   \n",
       "2  0439886341  http://ecx.images-amazon.com/images/I/51k0qa8f...   \n",
       "3  0511189877  http://ecx.images-amazon.com/images/I/41HaAhbv...   \n",
       "4  0528881469  http://ecx.images-amazon.com/images/I/51FnRkJq...   \n",
       "\n",
       "                                         description  \\\n",
       "0  The Kelby Training DVD Mastering Blend Modes i...   \n",
       "1                                                NaN   \n",
       "2                    Digital Organizer and Messenger   \n",
       "3  The CLIKR-5 UR5U-8780L remote control is desig...   \n",
       "4  Like its award-winning predecessor, the Intell...   \n",
       "\n",
       "                                          categories  \\\n",
       "0  [[Electronics, Computers & Accessories, Cables...   \n",
       "1  [[Electronics, Computers & Accessories, Cables...   \n",
       "2  [[Electronics, Computers & Accessories, PDAs, ...   \n",
       "3  [[Electronics, Accessories & Supplies, Audio &...   \n",
       "4  [[Electronics, GPS & Navigation, Vehicle GPS, ...   \n",
       "\n",
       "                                               title   price  \\\n",
       "0  Kelby Training DVD: Mastering Blend Modes in A...     NaN   \n",
       "1  Kelby Training DVD: Adobe Photoshop CS5 Crash ...     NaN   \n",
       "2                    Digital Organizer and Messenger    8.15   \n",
       "3  CLIKR-5 Time Warner Cable Remote Control UR5U-...   23.36   \n",
       "4  Rand McNally 528881469 7-inch Intelliroute TND...  299.99   \n",
       "\n",
       "                 salesRank                                            related  \\\n",
       "0                      NaN                                                NaN   \n",
       "1                      NaN                                                NaN   \n",
       "2  {'Electronics': 144944}  {'also_viewed': ['0545016266', 'B009ECM8QY', '...   \n",
       "3                      NaN  {'also_viewed': ['B001KC08A4', 'B00KUL8O0W', '...   \n",
       "4                      NaN  {'also_viewed': ['B006ZOI9OY', 'B00C7FKT2A', '...   \n",
       "\n",
       "  brand  \n",
       "0   NaN  \n",
       "1   NaN  \n",
       "2   NaN  \n",
       "3   NaN  \n",
       "4   NaN  "
      ]
     },
     "execution_count": 5,
     "metadata": {},
     "output_type": "execute_result"
    }
   ],
   "source": [
    "df.head()"
   ]
  },
  {
   "cell_type": "code",
   "execution_count": 6,
   "metadata": {},
   "outputs": [
    {
     "data": {
      "text/plain": [
       "(498196, 9)"
      ]
     },
     "execution_count": 6,
     "metadata": {},
     "output_type": "execute_result"
    }
   ],
   "source": [
    "df.shape"
   ]
  },
  {
   "cell_type": "code",
   "execution_count": 7,
   "metadata": {},
   "outputs": [],
   "source": [
    "columns=['user_id','prod_id','rating','timestamp']\n",
    "electronics_df = pd.read_csv('ratings_Electronics.csv',names = columns)"
   ]
  },
  {
   "cell_type": "code",
   "execution_count": 8,
   "metadata": {},
   "outputs": [
    {
     "data": {
      "text/plain": [
       "(7824482, 4)"
      ]
     },
     "execution_count": 8,
     "metadata": {},
     "output_type": "execute_result"
    }
   ],
   "source": [
    "electronics_df.shape"
   ]
  },
  {
   "cell_type": "code",
   "execution_count": 9,
   "metadata": {},
   "outputs": [
    {
     "data": {
      "text/html": [
       "<div>\n",
       "<style scoped>\n",
       "    .dataframe tbody tr th:only-of-type {\n",
       "        vertical-align: middle;\n",
       "    }\n",
       "\n",
       "    .dataframe tbody tr th {\n",
       "        vertical-align: top;\n",
       "    }\n",
       "\n",
       "    .dataframe thead th {\n",
       "        text-align: right;\n",
       "    }\n",
       "</style>\n",
       "<table border=\"1\" class=\"dataframe\">\n",
       "  <thead>\n",
       "    <tr style=\"text-align: right;\">\n",
       "      <th></th>\n",
       "      <th>user_id</th>\n",
       "      <th>prod_id</th>\n",
       "      <th>rating</th>\n",
       "      <th>timestamp</th>\n",
       "    </tr>\n",
       "  </thead>\n",
       "  <tbody>\n",
       "    <tr>\n",
       "      <th>0</th>\n",
       "      <td>AKM1MP6P0OYPR</td>\n",
       "      <td>0132793040</td>\n",
       "      <td>5.0</td>\n",
       "      <td>1365811200</td>\n",
       "    </tr>\n",
       "    <tr>\n",
       "      <th>1</th>\n",
       "      <td>A2CX7LUOHB2NDG</td>\n",
       "      <td>0321732944</td>\n",
       "      <td>5.0</td>\n",
       "      <td>1341100800</td>\n",
       "    </tr>\n",
       "    <tr>\n",
       "      <th>2</th>\n",
       "      <td>A2NWSAGRHCP8N5</td>\n",
       "      <td>0439886341</td>\n",
       "      <td>1.0</td>\n",
       "      <td>1367193600</td>\n",
       "    </tr>\n",
       "    <tr>\n",
       "      <th>3</th>\n",
       "      <td>A2WNBOD3WNDNKT</td>\n",
       "      <td>0439886341</td>\n",
       "      <td>3.0</td>\n",
       "      <td>1374451200</td>\n",
       "    </tr>\n",
       "    <tr>\n",
       "      <th>4</th>\n",
       "      <td>A1GI0U4ZRJA8WN</td>\n",
       "      <td>0439886341</td>\n",
       "      <td>1.0</td>\n",
       "      <td>1334707200</td>\n",
       "    </tr>\n",
       "  </tbody>\n",
       "</table>\n",
       "</div>"
      ],
      "text/plain": [
       "          user_id     prod_id  rating   timestamp\n",
       "0   AKM1MP6P0OYPR  0132793040     5.0  1365811200\n",
       "1  A2CX7LUOHB2NDG  0321732944     5.0  1341100800\n",
       "2  A2NWSAGRHCP8N5  0439886341     1.0  1367193600\n",
       "3  A2WNBOD3WNDNKT  0439886341     3.0  1374451200\n",
       "4  A1GI0U4ZRJA8WN  0439886341     1.0  1334707200"
      ]
     },
     "execution_count": 9,
     "metadata": {},
     "output_type": "execute_result"
    }
   ],
   "source": [
    "electronics_df.head()"
   ]
  },
  {
   "cell_type": "code",
   "execution_count": 10,
   "metadata": {},
   "outputs": [],
   "source": [
    "#discarding the last column\n",
    "electronics_df.drop('timestamp', axis=1, inplace=True)"
   ]
  },
  {
   "cell_type": "code",
   "execution_count": 11,
   "metadata": {},
   "outputs": [
    {
     "data": {
      "text/html": [
       "<div>\n",
       "<style scoped>\n",
       "    .dataframe tbody tr th:only-of-type {\n",
       "        vertical-align: middle;\n",
       "    }\n",
       "\n",
       "    .dataframe tbody tr th {\n",
       "        vertical-align: top;\n",
       "    }\n",
       "\n",
       "    .dataframe thead th {\n",
       "        text-align: right;\n",
       "    }\n",
       "</style>\n",
       "<table border=\"1\" class=\"dataframe\">\n",
       "  <thead>\n",
       "    <tr style=\"text-align: right;\">\n",
       "      <th></th>\n",
       "      <th>user_id</th>\n",
       "      <th>prod_id</th>\n",
       "      <th>rating</th>\n",
       "    </tr>\n",
       "  </thead>\n",
       "  <tbody>\n",
       "    <tr>\n",
       "      <th>0</th>\n",
       "      <td>AKM1MP6P0OYPR</td>\n",
       "      <td>0132793040</td>\n",
       "      <td>5.0</td>\n",
       "    </tr>\n",
       "    <tr>\n",
       "      <th>1</th>\n",
       "      <td>A2CX7LUOHB2NDG</td>\n",
       "      <td>0321732944</td>\n",
       "      <td>5.0</td>\n",
       "    </tr>\n",
       "    <tr>\n",
       "      <th>2</th>\n",
       "      <td>A2NWSAGRHCP8N5</td>\n",
       "      <td>0439886341</td>\n",
       "      <td>1.0</td>\n",
       "    </tr>\n",
       "    <tr>\n",
       "      <th>3</th>\n",
       "      <td>A2WNBOD3WNDNKT</td>\n",
       "      <td>0439886341</td>\n",
       "      <td>3.0</td>\n",
       "    </tr>\n",
       "    <tr>\n",
       "      <th>4</th>\n",
       "      <td>A1GI0U4ZRJA8WN</td>\n",
       "      <td>0439886341</td>\n",
       "      <td>1.0</td>\n",
       "    </tr>\n",
       "  </tbody>\n",
       "</table>\n",
       "</div>"
      ],
      "text/plain": [
       "          user_id     prod_id  rating\n",
       "0   AKM1MP6P0OYPR  0132793040     5.0\n",
       "1  A2CX7LUOHB2NDG  0321732944     5.0\n",
       "2  A2NWSAGRHCP8N5  0439886341     1.0\n",
       "3  A2WNBOD3WNDNKT  0439886341     3.0\n",
       "4  A1GI0U4ZRJA8WN  0439886341     1.0"
      ]
     },
     "execution_count": 11,
     "metadata": {},
     "output_type": "execute_result"
    }
   ],
   "source": [
    "electronics_df.head()"
   ]
  },
  {
   "cell_type": "code",
   "execution_count": 12,
   "metadata": {},
   "outputs": [
    {
     "data": {
      "text/html": [
       "<div>\n",
       "<style scoped>\n",
       "    .dataframe tbody tr th:only-of-type {\n",
       "        vertical-align: middle;\n",
       "    }\n",
       "\n",
       "    .dataframe tbody tr th {\n",
       "        vertical-align: top;\n",
       "    }\n",
       "\n",
       "    .dataframe thead th {\n",
       "        text-align: right;\n",
       "    }\n",
       "</style>\n",
       "<table border=\"1\" class=\"dataframe\">\n",
       "  <thead>\n",
       "    <tr style=\"text-align: right;\">\n",
       "      <th></th>\n",
       "      <th>asin</th>\n",
       "      <th>title</th>\n",
       "    </tr>\n",
       "  </thead>\n",
       "  <tbody>\n",
       "    <tr>\n",
       "      <th>0</th>\n",
       "      <td>0132793040</td>\n",
       "      <td>Kelby Training DVD: Mastering Blend Modes in A...</td>\n",
       "    </tr>\n",
       "    <tr>\n",
       "      <th>1</th>\n",
       "      <td>0321732944</td>\n",
       "      <td>Kelby Training DVD: Adobe Photoshop CS5 Crash ...</td>\n",
       "    </tr>\n",
       "    <tr>\n",
       "      <th>2</th>\n",
       "      <td>0439886341</td>\n",
       "      <td>Digital Organizer and Messenger</td>\n",
       "    </tr>\n",
       "    <tr>\n",
       "      <th>3</th>\n",
       "      <td>0511189877</td>\n",
       "      <td>CLIKR-5 Time Warner Cable Remote Control UR5U-...</td>\n",
       "    </tr>\n",
       "    <tr>\n",
       "      <th>4</th>\n",
       "      <td>0528881469</td>\n",
       "      <td>Rand McNally 528881469 7-inch Intelliroute TND...</td>\n",
       "    </tr>\n",
       "  </tbody>\n",
       "</table>\n",
       "</div>"
      ],
      "text/plain": [
       "         asin                                              title\n",
       "0  0132793040  Kelby Training DVD: Mastering Blend Modes in A...\n",
       "1  0321732944  Kelby Training DVD: Adobe Photoshop CS5 Crash ...\n",
       "2  0439886341                    Digital Organizer and Messenger\n",
       "3  0511189877  CLIKR-5 Time Warner Cable Remote Control UR5U-...\n",
       "4  0528881469  Rand McNally 528881469 7-inch Intelliroute TND..."
      ]
     },
     "execution_count": 12,
     "metadata": {},
     "output_type": "execute_result"
    }
   ],
   "source": [
    "df_title = df.iloc[:,[0,4]]\n",
    "df_title.head()"
   ]
  },
  {
   "cell_type": "code",
   "execution_count": 13,
   "metadata": {},
   "outputs": [],
   "source": [
    "#'how' in merge is left because we want to retain all the rows of electronics_df\n",
    "electronics_merge_df = pd.merge(electronics_df, df_title, how='left', right_on='asin', left_on='prod_id')"
   ]
  },
  {
   "cell_type": "code",
   "execution_count": 14,
   "metadata": {},
   "outputs": [
    {
     "data": {
      "text/html": [
       "<div>\n",
       "<style scoped>\n",
       "    .dataframe tbody tr th:only-of-type {\n",
       "        vertical-align: middle;\n",
       "    }\n",
       "\n",
       "    .dataframe tbody tr th {\n",
       "        vertical-align: top;\n",
       "    }\n",
       "\n",
       "    .dataframe thead th {\n",
       "        text-align: right;\n",
       "    }\n",
       "</style>\n",
       "<table border=\"1\" class=\"dataframe\">\n",
       "  <thead>\n",
       "    <tr style=\"text-align: right;\">\n",
       "      <th></th>\n",
       "      <th>user_id</th>\n",
       "      <th>prod_id</th>\n",
       "      <th>rating</th>\n",
       "      <th>asin</th>\n",
       "      <th>title</th>\n",
       "    </tr>\n",
       "  </thead>\n",
       "  <tbody>\n",
       "    <tr>\n",
       "      <th>0</th>\n",
       "      <td>AKM1MP6P0OYPR</td>\n",
       "      <td>0132793040</td>\n",
       "      <td>5.0</td>\n",
       "      <td>0132793040</td>\n",
       "      <td>Kelby Training DVD: Mastering Blend Modes in A...</td>\n",
       "    </tr>\n",
       "    <tr>\n",
       "      <th>1</th>\n",
       "      <td>A2CX7LUOHB2NDG</td>\n",
       "      <td>0321732944</td>\n",
       "      <td>5.0</td>\n",
       "      <td>0321732944</td>\n",
       "      <td>Kelby Training DVD: Adobe Photoshop CS5 Crash ...</td>\n",
       "    </tr>\n",
       "    <tr>\n",
       "      <th>2</th>\n",
       "      <td>A2NWSAGRHCP8N5</td>\n",
       "      <td>0439886341</td>\n",
       "      <td>1.0</td>\n",
       "      <td>0439886341</td>\n",
       "      <td>Digital Organizer and Messenger</td>\n",
       "    </tr>\n",
       "    <tr>\n",
       "      <th>3</th>\n",
       "      <td>A2WNBOD3WNDNKT</td>\n",
       "      <td>0439886341</td>\n",
       "      <td>3.0</td>\n",
       "      <td>0439886341</td>\n",
       "      <td>Digital Organizer and Messenger</td>\n",
       "    </tr>\n",
       "    <tr>\n",
       "      <th>4</th>\n",
       "      <td>A1GI0U4ZRJA8WN</td>\n",
       "      <td>0439886341</td>\n",
       "      <td>1.0</td>\n",
       "      <td>0439886341</td>\n",
       "      <td>Digital Organizer and Messenger</td>\n",
       "    </tr>\n",
       "  </tbody>\n",
       "</table>\n",
       "</div>"
      ],
      "text/plain": [
       "          user_id     prod_id  rating        asin  \\\n",
       "0   AKM1MP6P0OYPR  0132793040     5.0  0132793040   \n",
       "1  A2CX7LUOHB2NDG  0321732944     5.0  0321732944   \n",
       "2  A2NWSAGRHCP8N5  0439886341     1.0  0439886341   \n",
       "3  A2WNBOD3WNDNKT  0439886341     3.0  0439886341   \n",
       "4  A1GI0U4ZRJA8WN  0439886341     1.0  0439886341   \n",
       "\n",
       "                                               title  \n",
       "0  Kelby Training DVD: Mastering Blend Modes in A...  \n",
       "1  Kelby Training DVD: Adobe Photoshop CS5 Crash ...  \n",
       "2                    Digital Organizer and Messenger  \n",
       "3                    Digital Organizer and Messenger  \n",
       "4                    Digital Organizer and Messenger  "
      ]
     },
     "execution_count": 14,
     "metadata": {},
     "output_type": "execute_result"
    }
   ],
   "source": [
    "electronics_merge_df.head()"
   ]
  },
  {
   "cell_type": "code",
   "execution_count": 15,
   "metadata": {},
   "outputs": [
    {
     "data": {
      "text/plain": [
       "(7824482, 5)"
      ]
     },
     "execution_count": 15,
     "metadata": {},
     "output_type": "execute_result"
    }
   ],
   "source": [
    "electronics_merge_df.shape"
   ]
  },
  {
   "cell_type": "code",
   "execution_count": 16,
   "metadata": {},
   "outputs": [],
   "source": [
    "electronics_merge_df.drop('asin', axis=1, inplace=True)"
   ]
  },
  {
   "cell_type": "code",
   "execution_count": 17,
   "metadata": {},
   "outputs": [],
   "source": [
    "#shortening the dataframe name\n",
    "em_df= electronics_merge_df"
   ]
  },
  {
   "cell_type": "code",
   "execution_count": 18,
   "metadata": {},
   "outputs": [
    {
     "name": "stdout",
     "output_type": "stream",
     "text": [
      "(7824482, 4)\n",
      "(4201696,)\n",
      "(476002,)\n"
     ]
    }
   ],
   "source": [
    "print(em_df.shape)\n",
    "print(em_df['user_id'].unique().shape)\n",
    "print(em_df['prod_id'].unique().shape)"
   ]
  },
  {
   "cell_type": "markdown",
   "metadata": {},
   "source": [
    "We can see that the number of unique users are much larger than the number of unique items."
   ]
  },
  {
   "cell_type": "code",
   "execution_count": 19,
   "metadata": {},
   "outputs": [
    {
     "data": {
      "image/png": "[encoded data removed]",
      "text/plain": [
       "<matplotlib.figure.Figure at 0x1a7455c9e8>"
      ]
     },
     "metadata": {},
     "output_type": "display_data"
    }
   ],
   "source": [
    "fig, ax = plt.subplots()\n",
    "reviews_per_user=em_df.groupby(['user_id'])['prod_id'].count()\n",
    "ax.set(xlim=(0,100), xlabel='Reviews per user')\n",
    "plt.grid(False)\n",
    "plt.grid(axis = 'y', color ='white', linestyle='-')\n",
    "plt.hist(reviews_per_user, bins=30, log=False, color=\"Blue\")\n",
    "plt.show()\n",
    "\n"
   ]
  },
  {
   "cell_type": "markdown",
   "metadata": {},
   "source": [
    "# 2. Take subset of dataset to make it less sparse/more dense. (For example, keep the users only who has given 50 or more number of ratings )"
   ]
  },
  {
   "cell_type": "code",
   "execution_count": 20,
   "metadata": {},
   "outputs": [
    {
     "data": {
      "text/plain": [
       "(4201696, 3)"
      ]
     },
     "execution_count": 20,
     "metadata": {},
     "output_type": "execute_result"
    }
   ],
   "source": [
    "small_df = em_df.groupby(['user_id']).count()>49\n",
    "small_df.shape"
   ]
  },
  {
   "cell_type": "code",
   "execution_count": 21,
   "metadata": {},
   "outputs": [
    {
     "data": {
      "text/plain": [
       "(1540, 3)"
      ]
     },
     "execution_count": 21,
     "metadata": {},
     "output_type": "execute_result"
    }
   ],
   "source": [
    "small_df= small_df.loc[small_df.prod_id == True]\n",
    "small_df.shape"
   ]
  },
  {
   "cell_type": "code",
   "execution_count": 22,
   "metadata": {},
   "outputs": [],
   "source": [
    "\n",
    "small_df = pd.DataFrame(small_df).reset_index()\n"
   ]
  },
  {
   "cell_type": "code",
   "execution_count": 23,
   "metadata": {},
   "outputs": [],
   "source": [
    "dense_df = em_df.loc[em_df['user_id'].isin(small_df['user_id'])]\n"
   ]
  },
  {
   "cell_type": "code",
   "execution_count": 24,
   "metadata": {},
   "outputs": [
    {
     "data": {
      "text/html": [
       "<div>\n",
       "<style scoped>\n",
       "    .dataframe tbody tr th:only-of-type {\n",
       "        vertical-align: middle;\n",
       "    }\n",
       "\n",
       "    .dataframe tbody tr th {\n",
       "        vertical-align: top;\n",
       "    }\n",
       "\n",
       "    .dataframe thead th {\n",
       "        text-align: right;\n",
       "    }\n",
       "</style>\n",
       "<table border=\"1\" class=\"dataframe\">\n",
       "  <thead>\n",
       "    <tr style=\"text-align: right;\">\n",
       "      <th></th>\n",
       "      <th>user_id</th>\n",
       "      <th>prod_id</th>\n",
       "      <th>rating</th>\n",
       "      <th>title</th>\n",
       "    </tr>\n",
       "  </thead>\n",
       "  <tbody>\n",
       "    <tr>\n",
       "      <th>94</th>\n",
       "      <td>A3BY5KCNQZXV5U</td>\n",
       "      <td>0594451647</td>\n",
       "      <td>5.0</td>\n",
       "      <td>Barnes &amp;amp; Noble HDTV Adapter Kit for NOOK H...</td>\n",
       "    </tr>\n",
       "    <tr>\n",
       "      <th>118</th>\n",
       "      <td>AT09WGFUM934H</td>\n",
       "      <td>0594481813</td>\n",
       "      <td>3.0</td>\n",
       "      <td>Barnes &amp;amp; Noble OV/HB-ADP Universal Power Kit</td>\n",
       "    </tr>\n",
       "    <tr>\n",
       "      <th>177</th>\n",
       "      <td>A32HSNCNPRUMTR</td>\n",
       "      <td>0970407998</td>\n",
       "      <td>1.0</td>\n",
       "      <td>Audiovox Surface SURF402 Wet/Dry Screen Wipes</td>\n",
       "    </tr>\n",
       "    <tr>\n",
       "      <th>178</th>\n",
       "      <td>A17HMM1M7T9PJ1</td>\n",
       "      <td>0970407998</td>\n",
       "      <td>4.0</td>\n",
       "      <td>Audiovox Surface SURF402 Wet/Dry Screen Wipes</td>\n",
       "    </tr>\n",
       "    <tr>\n",
       "      <th>492</th>\n",
       "      <td>A3CLWR1UUZT6TG</td>\n",
       "      <td>0972683275</td>\n",
       "      <td>5.0</td>\n",
       "      <td>VideoSecu 24&amp;quot; Long Arm TV Wall Mount Low ...</td>\n",
       "    </tr>\n",
       "    <tr>\n",
       "      <th>631</th>\n",
       "      <td>A3TAS1AG6FMBQW</td>\n",
       "      <td>0972683275</td>\n",
       "      <td>5.0</td>\n",
       "      <td>VideoSecu 24&amp;quot; Long Arm TV Wall Mount Low ...</td>\n",
       "    </tr>\n",
       "    <tr>\n",
       "      <th>1003</th>\n",
       "      <td>A2Y4H3PXB07WQI</td>\n",
       "      <td>0972683275</td>\n",
       "      <td>4.0</td>\n",
       "      <td>VideoSecu 24&amp;quot; Long Arm TV Wall Mount Low ...</td>\n",
       "    </tr>\n",
       "    <tr>\n",
       "      <th>1138</th>\n",
       "      <td>A25RTRAPQAJBDJ</td>\n",
       "      <td>0972683275</td>\n",
       "      <td>5.0</td>\n",
       "      <td>VideoSecu 24&amp;quot; Long Arm TV Wall Mount Low ...</td>\n",
       "    </tr>\n",
       "    <tr>\n",
       "      <th>1310</th>\n",
       "      <td>A3LDPF5FMB782Z</td>\n",
       "      <td>1400501466</td>\n",
       "      <td>5.0</td>\n",
       "      <td>Barnes &amp;amp; Noble NOOK Tablet 16gb (Color, BN...</td>\n",
       "    </tr>\n",
       "    <tr>\n",
       "      <th>1322</th>\n",
       "      <td>A1A5KUIIIHFF4U</td>\n",
       "      <td>1400501466</td>\n",
       "      <td>1.0</td>\n",
       "      <td>Barnes &amp;amp; Noble NOOK Tablet 16gb (Color, BN...</td>\n",
       "    </tr>\n",
       "  </tbody>\n",
       "</table>\n",
       "</div>"
      ],
      "text/plain": [
       "             user_id     prod_id  rating  \\\n",
       "94    A3BY5KCNQZXV5U  0594451647     5.0   \n",
       "118    AT09WGFUM934H  0594481813     3.0   \n",
       "177   A32HSNCNPRUMTR  0970407998     1.0   \n",
       "178   A17HMM1M7T9PJ1  0970407998     4.0   \n",
       "492   A3CLWR1UUZT6TG  0972683275     5.0   \n",
       "631   A3TAS1AG6FMBQW  0972683275     5.0   \n",
       "1003  A2Y4H3PXB07WQI  0972683275     4.0   \n",
       "1138  A25RTRAPQAJBDJ  0972683275     5.0   \n",
       "1310  A3LDPF5FMB782Z  1400501466     5.0   \n",
       "1322  A1A5KUIIIHFF4U  1400501466     1.0   \n",
       "\n",
       "                                                  title  \n",
       "94    Barnes &amp; Noble HDTV Adapter Kit for NOOK H...  \n",
       "118    Barnes &amp; Noble OV/HB-ADP Universal Power Kit  \n",
       "177       Audiovox Surface SURF402 Wet/Dry Screen Wipes  \n",
       "178       Audiovox Surface SURF402 Wet/Dry Screen Wipes  \n",
       "492   VideoSecu 24&quot; Long Arm TV Wall Mount Low ...  \n",
       "631   VideoSecu 24&quot; Long Arm TV Wall Mount Low ...  \n",
       "1003  VideoSecu 24&quot; Long Arm TV Wall Mount Low ...  \n",
       "1138  VideoSecu 24&quot; Long Arm TV Wall Mount Low ...  \n",
       "1310  Barnes &amp; Noble NOOK Tablet 16gb (Color, BN...  \n",
       "1322  Barnes &amp; Noble NOOK Tablet 16gb (Color, BN...  "
      ]
     },
     "execution_count": 24,
     "metadata": {},
     "output_type": "execute_result"
    }
   ],
   "source": [
    "dense_df.head(10)"
   ]
  },
  {
   "cell_type": "markdown",
   "metadata": {},
   "source": [
    "# 3. Split the data randomly into train and test dataset. (For example split it in 70/30 ratio)"
   ]
  },
  {
   "cell_type": "code",
   "execution_count": 25,
   "metadata": {},
   "outputs": [
    {
     "name": "stdout",
     "output_type": "stream",
     "text": [
      "                user_id     prod_id  rating  \\\n",
      "6595853  A2BYV7S1QP2YIG  B009EAHVTA     5.0   \n",
      "4738241   AB094YABX21WQ  B0056XCEAA     1.0   \n",
      "4175596  A3D0UM4ZD2CMAW  B004I763AW     5.0   \n",
      "3753016   AATWFX0ZZSE6C  B0040NPHMO     3.0   \n",
      "1734767  A1NNMOD9H36Q8E  B0015VW3BM     4.0   \n",
      "\n",
      "                                                     title  \n",
      "6595853      Tumi Luggage Slim Zip Top Crossbody for I-Pad  \n",
      "4738241  Ezfoto 58mm Lens Cap for Canon Lens, replaces ...  \n",
      "4175596  G.Skill DDR3 PC3-12800 RipjawsX Series for San...  \n",
      "3753016  Grace Digital GDI-IR2550P Pandora Wi-Fi Intern...  \n",
      "1734767  Sony DVP-NS700H/B 1080p Upscaling DVD Player, ...  \n"
     ]
    }
   ],
   "source": [
    "train_data, test_data = train_test_split(dense_df, test_size = 0.30, random_state=0)\n",
    "print(train_data.head(5))\n"
   ]
  },
  {
   "cell_type": "code",
   "execution_count": 26,
   "metadata": {},
   "outputs": [
    {
     "data": {
      "text/plain": [
       "(88109, 4)"
      ]
     },
     "execution_count": 26,
     "metadata": {},
     "output_type": "execute_result"
    }
   ],
   "source": [
    "train_data.shape"
   ]
  },
  {
   "cell_type": "code",
   "execution_count": 27,
   "metadata": {},
   "outputs": [
    {
     "data": {
      "text/plain": [
       "(37762, 4)"
      ]
     },
     "execution_count": 27,
     "metadata": {},
     "output_type": "execute_result"
    }
   ],
   "source": [
    "test_data.shape"
   ]
  },
  {
   "cell_type": "markdown",
   "metadata": {},
   "source": [
    "# 4. Build Popularity Recommender model."
   ]
  },
  {
   "cell_type": "code",
   "execution_count": 28,
   "metadata": {},
   "outputs": [
    {
     "name": "stdout",
     "output_type": "stream",
     "text": [
      "      prod_id  rating\n",
      "0  0594451647     5.0\n",
      "1  0594481813     3.0\n",
      "2  0970407998     1.0\n",
      "3  0972683275     5.0\n",
      "4  1400501466     4.5\n"
     ]
    },
    {
     "data": {
      "text/html": [
       "<div>\n",
       "<style scoped>\n",
       "    .dataframe tbody tr th:only-of-type {\n",
       "        vertical-align: middle;\n",
       "    }\n",
       "\n",
       "    .dataframe tbody tr th {\n",
       "        vertical-align: top;\n",
       "    }\n",
       "\n",
       "    .dataframe thead th {\n",
       "        text-align: right;\n",
       "    }\n",
       "</style>\n",
       "<table border=\"1\" class=\"dataframe\">\n",
       "  <thead>\n",
       "    <tr style=\"text-align: right;\">\n",
       "      <th></th>\n",
       "      <th>prod_id</th>\n",
       "      <th>rating</th>\n",
       "    </tr>\n",
       "  </thead>\n",
       "  <tbody>\n",
       "    <tr>\n",
       "      <th>0</th>\n",
       "      <td>0594451647</td>\n",
       "      <td>5.0</td>\n",
       "    </tr>\n",
       "    <tr>\n",
       "      <th>3</th>\n",
       "      <td>0972683275</td>\n",
       "      <td>5.0</td>\n",
       "    </tr>\n",
       "    <tr>\n",
       "      <th>6</th>\n",
       "      <td>1400532620</td>\n",
       "      <td>5.0</td>\n",
       "    </tr>\n",
       "    <tr>\n",
       "      <th>9</th>\n",
       "      <td>1400698987</td>\n",
       "      <td>5.0</td>\n",
       "    </tr>\n",
       "    <tr>\n",
       "      <th>10</th>\n",
       "      <td>1685560148</td>\n",
       "      <td>5.0</td>\n",
       "    </tr>\n",
       "  </tbody>\n",
       "</table>\n",
       "</div>"
      ],
      "text/plain": [
       "       prod_id  rating\n",
       "0   0594451647     5.0\n",
       "3   0972683275     5.0\n",
       "6   1400532620     5.0\n",
       "9   1400698987     5.0\n",
       "10  1685560148     5.0"
      ]
     },
     "execution_count": 28,
     "metadata": {},
     "output_type": "execute_result"
    }
   ],
   "source": [
    "train_data_grouped = train_data.groupby('prod_id').mean().reset_index()\n",
    "print(train_data_grouped.head(5))\n",
    "#Sort the products based upon recommendation score\n",
    "train_data_sort = train_data_grouped.sort_values(['rating','prod_id'], ascending = [0,1])\n",
    "train_data_sort.head(5)"
   ]
  },
  {
   "cell_type": "code",
   "execution_count": 29,
   "metadata": {},
   "outputs": [
    {
     "name": "stderr",
     "output_type": "stream",
     "text": [
      "/anaconda3/lib/python3.6/site-packages/pandas/core/frame.py:3027: SettingWithCopyWarning: \n",
      "A value is trying to be set on a copy of a slice from a DataFrame\n",
      "\n",
      "See the caveats in the documentation: http://pandas.pydata.org/pandas-docs/stable/indexing.html#indexing-view-versus-copy\n",
      "  return super(DataFrame, self).rename(**kwargs)\n"
     ]
    },
    {
     "name": "stdout",
     "output_type": "stream",
     "text": [
      "                user_id     prod_id  true_ratings\n",
      "6730391  A3JU990UTN5RQP  B009UHO1L8           5.0\n",
      "3509543  A2VJ5ALN1BIV3B  B003PNIQCI           5.0\n",
      "169753    A2NQMVTQ4PVLL  B00006B7DA           4.0\n",
      "7637572  A25UZ7MA72SMKM  B00FH66AW4           4.0\n",
      "5490140   A680RUE1FDO8B  B006UAJ690           5.0\n",
      "          user_id     prod_id  true_ratings  predicted_ratings\n",
      "0   A2NQMVTQ4PVLL  B00006B7DA           4.0           4.363636\n",
      "1     AD8DLOGHAXL  B00006B7DA           5.0           4.363636\n",
      "2  A2SL5IW096Z2BL  B00006B7DA           5.0           4.363636\n",
      "3   APOGXH3A74CM3  B00006B7DA           5.0           4.363636\n",
      "4  A1OES7R7FDAT2L  B00006B7DA           5.0           4.363636\n"
     ]
    }
   ],
   "source": [
    "pred_df = test_data[['user_id', 'prod_id', 'rating']]\n",
    "pred_df.rename(columns = {'rating' : 'true_ratings'}, inplace=True)\n",
    "print(pred_df.head(5))\n",
    "pred_df = pred_df.merge(train_data_sort,left_on='prod_id', right_on = 'prod_id')\n",
    "pred_df.rename(columns = {'rating' : 'predicted_ratings'}, inplace = True)\n",
    "print(pred_df.head(5))"
   ]
  },
  {
   "cell_type": "markdown",
   "metadata": {},
   "source": [
    "\n",
    "Here we are comparing only the product-ids that are present in both test and train data cause merge will happen only if the prod_id's match."
   ]
  },
  {
   "cell_type": "code",
   "execution_count": 30,
   "metadata": {},
   "outputs": [
    {
     "name": "stdout",
     "output_type": "stream",
     "text": [
      "The RMSE value for Popularity Recommender model is 1.092161482923713\n"
     ]
    }
   ],
   "source": [
    "import sklearn.metrics as met\n",
    "from math import sqrt\n",
    "MSE = met.mean_squared_error(pred_df['true_ratings'], pred_df['predicted_ratings'])\n",
    "print('The RMSE value for Popularity Recommender model is', sqrt(MSE))"
   ]
  },
  {
   "cell_type": "code",
   "execution_count": 31,
   "metadata": {},
   "outputs": [],
   "source": [
    "def create_m(train_data, item_id, rating):\n",
    "        \n",
    "        \n",
    "        #Get the mean rating for each unique product as recommendation score\n",
    "        train_data_grouped = train_data.groupby([item_id]).agg({rating: 'mean'}).reset_index()\n",
    "    \n",
    "        #Sort the songs based upon recommendation score\n",
    "        train_data_sort = train_data_grouped.sort_values(['rating', item_id], ascending = [0,1])\n",
    "    \n",
    "        #Generate a recommendation rank based upon score\n",
    "        train_data_sort['Rank'] = train_data_sort['rating'].rank(ascending=0, method='first')\n",
    "        \n",
    "        #Get the top 10 recommendations\n",
    "        popularity_recommendations = train_data_sort.head(10)\n",
    "        return popularity_recommendations"
   ]
  },
  {
   "cell_type": "code",
   "execution_count": 32,
   "metadata": {},
   "outputs": [],
   "source": [
    "def recommend(user_id,popularity_recommendations):    \n",
    "        user_recommendations = popularity_recommendations\n",
    "        \n",
    "        #Add user_id column for which the recommendations are being generated\n",
    "        user_recommendations['user_id'] = user_id\n",
    "    \n",
    "        #Bring user_id column to the front\n",
    "        cols = user_recommendations.columns.tolist()\n",
    "        cols = cols[-1:] + cols[:-1]\n",
    "        user_recommendations = user_recommendations[cols]\n",
    "        \n",
    "        return user_recommendations"
   ]
  },
  {
   "cell_type": "code",
   "execution_count": 33,
   "metadata": {},
   "outputs": [],
   "source": [
    "\n",
    "import Recommenders as rm\n",
    "popularity_recommendations = create_m(train_data,'prod_id','rating')"
   ]
  },
  {
   "cell_type": "code",
   "execution_count": 34,
   "metadata": {},
   "outputs": [
    {
     "data": {
      "text/html": [
       "<div>\n",
       "<style scoped>\n",
       "    .dataframe tbody tr th:only-of-type {\n",
       "        vertical-align: middle;\n",
       "    }\n",
       "\n",
       "    .dataframe tbody tr th {\n",
       "        vertical-align: top;\n",
       "    }\n",
       "\n",
       "    .dataframe thead th {\n",
       "        text-align: right;\n",
       "    }\n",
       "</style>\n",
       "<table border=\"1\" class=\"dataframe\">\n",
       "  <thead>\n",
       "    <tr style=\"text-align: right;\">\n",
       "      <th></th>\n",
       "      <th>user_id</th>\n",
       "      <th>prod_id</th>\n",
       "      <th>rating</th>\n",
       "      <th>Rank</th>\n",
       "    </tr>\n",
       "  </thead>\n",
       "  <tbody>\n",
       "    <tr>\n",
       "      <th>0</th>\n",
       "      <td>A2NQMVTQ4PVLL</td>\n",
       "      <td>0594451647</td>\n",
       "      <td>5.0</td>\n",
       "      <td>1.0</td>\n",
       "    </tr>\n",
       "    <tr>\n",
       "      <th>3</th>\n",
       "      <td>A2NQMVTQ4PVLL</td>\n",
       "      <td>0972683275</td>\n",
       "      <td>5.0</td>\n",
       "      <td>2.0</td>\n",
       "    </tr>\n",
       "    <tr>\n",
       "      <th>6</th>\n",
       "      <td>A2NQMVTQ4PVLL</td>\n",
       "      <td>1400532620</td>\n",
       "      <td>5.0</td>\n",
       "      <td>3.0</td>\n",
       "    </tr>\n",
       "    <tr>\n",
       "      <th>9</th>\n",
       "      <td>A2NQMVTQ4PVLL</td>\n",
       "      <td>1400698987</td>\n",
       "      <td>5.0</td>\n",
       "      <td>4.0</td>\n",
       "    </tr>\n",
       "    <tr>\n",
       "      <th>10</th>\n",
       "      <td>A2NQMVTQ4PVLL</td>\n",
       "      <td>1685560148</td>\n",
       "      <td>5.0</td>\n",
       "      <td>5.0</td>\n",
       "    </tr>\n",
       "    <tr>\n",
       "      <th>12</th>\n",
       "      <td>A2NQMVTQ4PVLL</td>\n",
       "      <td>787988002X</td>\n",
       "      <td>5.0</td>\n",
       "      <td>6.0</td>\n",
       "    </tr>\n",
       "    <tr>\n",
       "      <th>13</th>\n",
       "      <td>A2NQMVTQ4PVLL</td>\n",
       "      <td>8862935307</td>\n",
       "      <td>5.0</td>\n",
       "      <td>7.0</td>\n",
       "    </tr>\n",
       "    <tr>\n",
       "      <th>16</th>\n",
       "      <td>A2NQMVTQ4PVLL</td>\n",
       "      <td>9573212919</td>\n",
       "      <td>5.0</td>\n",
       "      <td>8.0</td>\n",
       "    </tr>\n",
       "    <tr>\n",
       "      <th>24</th>\n",
       "      <td>A2NQMVTQ4PVLL</td>\n",
       "      <td>B000001OKH</td>\n",
       "      <td>5.0</td>\n",
       "      <td>9.0</td>\n",
       "    </tr>\n",
       "    <tr>\n",
       "      <th>26</th>\n",
       "      <td>A2NQMVTQ4PVLL</td>\n",
       "      <td>B000001OM4</td>\n",
       "      <td>5.0</td>\n",
       "      <td>10.0</td>\n",
       "    </tr>\n",
       "  </tbody>\n",
       "</table>\n",
       "</div>"
      ],
      "text/plain": [
       "          user_id     prod_id  rating  Rank\n",
       "0   A2NQMVTQ4PVLL  0594451647     5.0   1.0\n",
       "3   A2NQMVTQ4PVLL  0972683275     5.0   2.0\n",
       "6   A2NQMVTQ4PVLL  1400532620     5.0   3.0\n",
       "9   A2NQMVTQ4PVLL  1400698987     5.0   4.0\n",
       "10  A2NQMVTQ4PVLL  1685560148     5.0   5.0\n",
       "12  A2NQMVTQ4PVLL  787988002X     5.0   6.0\n",
       "13  A2NQMVTQ4PVLL  8862935307     5.0   7.0\n",
       "16  A2NQMVTQ4PVLL  9573212919     5.0   8.0\n",
       "24  A2NQMVTQ4PVLL  B000001OKH     5.0   9.0\n",
       "26  A2NQMVTQ4PVLL  B000001OM4     5.0  10.0"
      ]
     },
     "execution_count": 34,
     "metadata": {},
     "output_type": "execute_result"
    }
   ],
   "source": [
    "user_id = 'A2NQMVTQ4PVLL'\n",
    "recommend(user_id, popularity_recommendations)"
   ]
  },
  {
   "cell_type": "markdown",
   "metadata": {},
   "source": [
    "# 5. Build Collaborative Filtering model."
   ]
  },
  {
   "cell_type": "code",
   "execution_count": null,
   "metadata": {},
   "outputs": [],
   "source": [
    "from surprise import Reader, Dataset, SVD, evaluate,accuracy,GridSearch\n",
    "\n",
    "from surprise.model_selection import GridSearchCV"
   ]
  },
  {
   "cell_type": "code",
   "execution_count": null,
   "metadata": {},
   "outputs": [],
   "source": [
    "#A reader is still needed but only the rating_scale param is required.\n",
    "reader = Reader(rating_scale=(0.5, 5.0))\n",
    "\n",
    "# The columns must correspond to user id, item id and ratings (in that order).\n",
    "data_t = Dataset.load_from_df(E_Ratings_df[['user_id', 'prod_id', 'rating']],reader)\n",
    "\n",
    "#data_t.split(n_folds=2)"
   ]
  }
 ],
 "metadata": {
  "kernelspec": {
   "display_name": "Python 3",
   "language": "python",
   "name": "python3"
  },
  "language_info": {
   "codemirror_mode": {
    "name": "ipython",
    "version": 3
   },
   "file_extension": ".py",
   "mimetype": "text/x-python",
   "name": "python",
   "nbconvert_exporter": "python",
   "pygments_lexer": "ipython3",
   "version": "3.6.4"
  }
 },
 "nbformat": 4,
 "nbformat_minor": 2
}
